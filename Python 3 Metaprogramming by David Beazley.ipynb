{
 "cells": [
  {
   "cell_type": "code",
   "execution_count": 20,
   "metadata": {},
   "outputs": [
    {
     "name": "stdout",
     "output_type": "stream",
     "text": [
      "[' S', 'o', 'm', 'e', ' T', 'i', 't', 'l', 'e', ' W', 'i', 't', 'h', ' C', 'a', 'p', 's', '.', 'm', 'p', '3']\n"
     ]
    }
   ],
   "source": [
    "title = list('SomeTitleWithCaps.mp3')\n",
    "for i, s in enumerate(title):\n",
    "    if s.isupper():\n",
    "        title[i] = ' ' + s\n",
    "# title = ''.join(title).strip()\n",
    "print(title)"
   ]
  },
  {
   "cell_type": "markdown",
   "metadata": {},
   "source": [
    "### Start of learnings from [Python 3 Metaprogramming | David Beazley](https://www.youtube.com/watch?v=sPiWg5jSoZI)"
   ]
  },
  {
   "cell_type": "code",
   "execution_count": 3,
   "metadata": {},
   "outputs": [
    {
     "name": "stdout",
     "output_type": "stream",
     "text": [
      "1 3\n"
     ]
    },
    {
     "ename": "TypeError",
     "evalue": "function() takes 1 positional argument but 2 were given",
     "output_type": "error",
     "traceback": [
      "\u001b[0;31m---------------------------------------------------------------------------\u001b[0m",
      "\u001b[0;31mTypeError\u001b[0m                                 Traceback (most recent call last)",
      "\u001b[0;32m<ipython-input-3-7fae0ae59404>\u001b[0m in \u001b[0;36m<module>\u001b[0;34m\u001b[0m\n\u001b[1;32m      6\u001b[0m \u001b[0;34m\u001b[0m\u001b[0m\n\u001b[1;32m      7\u001b[0m \u001b[0mfunction\u001b[0m\u001b[0;34m(\u001b[0m\u001b[0;36m1\u001b[0m\u001b[0;34m,\u001b[0m \u001b[0msecond_arg\u001b[0m\u001b[0;34m=\u001b[0m\u001b[0;36m3\u001b[0m\u001b[0;34m)\u001b[0m   \u001b[0;31m# works\u001b[0m\u001b[0;34m\u001b[0m\u001b[0m\n\u001b[0;32m----> 8\u001b[0;31m \u001b[0mfunction\u001b[0m\u001b[0;34m(\u001b[0m\u001b[0;36m1\u001b[0m\u001b[0;34m,\u001b[0m \u001b[0;36m3\u001b[0m\u001b[0;34m)\u001b[0m              \u001b[0;31m# Error\u001b[0m\u001b[0;34m\u001b[0m\u001b[0m\n\u001b[0m",
      "\u001b[0;31mTypeError\u001b[0m: function() takes 1 positional argument but 2 were given"
     ]
    }
   ],
   "source": [
    "# Python 3 has keyword only Args, if you write a function definition as:\n",
    "# Source: \n",
    "\n",
    "def function(first_arg, *, second_arg=None):\n",
    "    print(first_arg, second_arg)\n",
    "\n",
    "function(1, second_arg=3)   # works\n",
    "function(1, 3)              # Error"
   ]
  },
  {
   "cell_type": "markdown",
   "metadata": {},
   "source": [
    "#### Closures"
   ]
  },
  {
   "cell_type": "code",
   "execution_count": 4,
   "metadata": {},
   "outputs": [
    {
     "name": "stdout",
     "output_type": "stream",
     "text": [
      "5\n",
      "30\n"
     ]
    }
   ],
   "source": [
    "def make_adder(x, y):\n",
    "    def add():\n",
    "        return x + y\n",
    "    return add   # this function (make_adder) returns a function (add)\n",
    "\n",
    "# * Local Variables are captured\n",
    "\n",
    "a = make_adder(2, 3)\n",
    "b = make_adder(10, 20)\n",
    "\n",
    "print(a())\n",
    "print(b())"
   ]
  },
  {
   "cell_type": "code",
   "execution_count": null,
   "metadata": {},
   "outputs": [],
   "source": [
    "#### Classes"
   ]
  },
  {
   "cell_type": "code",
   "execution_count": 6,
   "metadata": {},
   "outputs": [],
   "source": [
    "#### Special Methods\n",
    "class Array:\n",
    "    def __getitem__(self, index):\n",
    "        ...\n",
    "    def __setitem___(self, index, value):\n",
    "        ...\n",
    "    def __delitem__(self, index):\n",
    "        ...\n",
    "    def __contains__(self, item):\n",
    "        ...\n",
    "\n",
    "# Point: Almost everything can be customized"
   ]
  },
  {
   "cell_type": "code",
   "execution_count": 7,
   "metadata": {},
   "outputs": [],
   "source": [
    "#### Inheritance in classes"
   ]
  },
  {
   "cell_type": "code",
   "execution_count": 8,
   "metadata": {},
   "outputs": [
    {
     "name": "stdout",
     "output_type": "stream",
     "text": [
      "{'x': 2, 'y': 3}\n",
      "<function Spam.foo at 0x10d5a0c80>\n"
     ]
    }
   ],
   "source": [
    "#### Dictionaries\n",
    "# Objects are layered on dictionaries\n",
    "class Spam:\n",
    "    def __init__(self, x, y):\n",
    "        self.x = x\n",
    "        self.y = y\n",
    "    def foo(self):\n",
    "        pass\n",
    "\n",
    "a = Spam(2, 3)\n",
    "print(a.__dict__)\n",
    "print(Spam.__dict__['foo'])"
   ]
  },
  {
   "cell_type": "markdown",
   "metadata": {},
   "source": [
    "#### Metaprogramming Basics"
   ]
  },
  {
   "cell_type": "markdown",
   "metadata": {},
   "source": [
    "##### Problem: Debugging\n",
    "- Illustrate basics with a simple problem\n",
    "- Debugging\n",
    "- Not the only application, but simple enough to fit on slides (:facepalm:)"
   ]
  },
  {
   "cell_type": "code",
   "execution_count": 9,
   "metadata": {},
   "outputs": [],
   "source": [
    "# E.g. debugging with print, but what if you have many functions\n",
    "# you will need to add print statement for each of the function - that is\n",
    "# code repetition\n",
    "\n",
    "def add(x, y):\n",
    "    print('add')\n",
    "    return x + y\n",
    "def sub(x, y):\n",
    "    print('sub')\n",
    "    return x - y\n",
    "def mul(x, y):\n",
    "    print('mul')\n",
    "    return x * y\n",
    "# We have already repeated the line \"print\" three times in above three functions\n",
    "\n",
    "# Enter Decorators"
   ]
  },
  {
   "cell_type": "markdown",
   "metadata": {},
   "source": [
    "##### Decorators\n",
    "- A decorator is a function that creates a wrapper around another function\n",
    "- The wrapper is a new function that works exactly like the original function (same arguments, same return value) excep that some kind of extra processing is carried out"
   ]
  },
  {
   "cell_type": "code",
   "execution_count": 22,
   "metadata": {},
   "outputs": [
    {
     "name": "stdout",
     "output_type": "stream",
     "text": [
      "add\n",
      "3\n",
      "-----\n",
      "<function debug.<locals>.wrapper at 0x10d7bc950>\n",
      "Help on function wrapper in module __main__:\n",
      "\n",
      "wrapper(*args, **kwargs)\n",
      "    # takes a function as input\n",
      "    # func is the function to be wrapped\n",
      "\n"
     ]
    }
   ],
   "source": [
    "# e.g\n",
    "def debug(func):\n",
    "    # takes a function as input\n",
    "    # func is the function to be wrapped\n",
    "    def wrapper(*args, **kwargs):\n",
    "        print(func.__name__)\n",
    "        return func(*args, **kwargs)\n",
    "    return wrapper\n",
    "\n",
    "@debug\n",
    "def add(x, y):\n",
    "    \"\"\"\n",
    "    Add two numbers\n",
    "    \"\"\"\n",
    "    return x + y\n",
    "\n",
    "@debug\n",
    "def sub(x, y):\n",
    "#     print('sub')\n",
    "    return x - y\n",
    "\n",
    "@debug\n",
    "def mul(x, y):\n",
    "#     print('mul')\n",
    "    return x * y\n",
    "\n",
    "print(add(1, 2))\n",
    "# However we lost some details in the process\n",
    "# e.g.\n",
    "print('-----')\n",
    "print(add) # returns meaningless <function debug.<locals>.wrapper ...>\n",
    "help(add)  # again returns meaningless stuff on wrapper function"
   ]
  },
  {
   "cell_type": "code",
   "execution_count": 21,
   "metadata": {},
   "outputs": [
    {
     "name": "stdout",
     "output_type": "stream",
     "text": [
      "add\n",
      "3\n",
      "-----\n",
      "<function add at 0x10d7bcf28>\n",
      "Help on function add in module __main__:\n",
      "\n",
      "add(x, y)\n",
      "    Add two numbers\n",
      "\n"
     ]
    }
   ],
   "source": [
    "# So we have to do some technicality on our wrapper function\n",
    "# get wraps from functools and apply that as the decorator on the internal\n",
    "# function that will be returned by the decorator\n",
    "\n",
    "from functools import wraps\n",
    "\n",
    "def debug_updated(func):\n",
    "    @wraps(func)   # This copies metadata from one function to the another\n",
    "    def wrapper(*args, **kwargs):\n",
    "        print(func.__name__)\n",
    "        return func(*args, **kwargs)\n",
    "    return wrapper\n",
    "\n",
    "# Let's try this decorator\n",
    "@debug_updated\n",
    "def add(x, y):\n",
    "    \"\"\"\n",
    "    Add two numbers\n",
    "    \"\"\"\n",
    "    return x + y\n",
    "\n",
    "print(add(1, 2))\n",
    "print('-----')\n",
    "print(add)\n",
    "help(add)"
   ]
  },
  {
   "cell_type": "code",
   "execution_count": 24,
   "metadata": {},
   "outputs": [
    {
     "name": "stdout",
     "output_type": "stream",
     "text": [
      "add\n",
      "3\n",
      "-----\n",
      "<function add at 0x10e0800d0>\n",
      "Help on function add in module __main__:\n",
      "\n",
      "add(x, y)\n",
      "    Add two numbers\n",
      "\n"
     ]
    }
   ],
   "source": [
    "##### __qualname__ attribute in Python 3 - helpful to use with classes\n",
    "# qualname prints out the class name along with method name\n",
    "# debug with __qualname__ instead of __name__\n",
    "def debug_with_qualname(func):\n",
    "    @wraps(func)   # This copies metadata from one function to the another\n",
    "    def wrapper(*args, **kwargs):\n",
    "        print(func.__qualname__)\n",
    "        return func(*args, **kwargs)\n",
    "    return wrapper\n",
    "\n",
    "# Let's try this decorator\n",
    "@debug_with_qualname\n",
    "def add(x, y):\n",
    "    \"\"\"\n",
    "    Add two numbers\n",
    "    \"\"\"\n",
    "    return x + y\n",
    "\n",
    "print(add(1, 2))\n",
    "print('-----')\n",
    "print(add)\n",
    "help(add)"
   ]
  },
  {
   "cell_type": "markdown",
   "metadata": {},
   "source": [
    "##### Big Picture\n",
    "- Debugging code is isolated to a single location\n",
    "- This makes it easy to change (or disable)\n",
    "- User of a decorator doesn't worry about it\n",
    "- That's really the whole idea"
   ]
  },
  {
   "cell_type": "code",
   "execution_count": 36,
   "metadata": {},
   "outputs": [],
   "source": [
    "# e.g. using decorator for logging\n",
    "from functools import wraps\n",
    "import logging\n",
    "\n",
    "def debug(func):\n",
    "    log = logging.getLogger(func.__module__)\n",
    "    msg = func.__qualname__\n",
    "    \n",
    "    @wraps(func)\n",
    "    def wrapper(*args, **kwargs):\n",
    "        log.debug(msg)\n",
    "        return func(*args, **kwargs)\n",
    "\n",
    "    return wrapper\n",
    "\n",
    "# Key Idea: Can change decorator independently of code that uses it\n",
    "## E.g. using an environment variable or some form of flag"
   ]
  },
  {
   "cell_type": "code",
   "execution_count": 37,
   "metadata": {},
   "outputs": [],
   "source": [
    "# What if you wanted to add some prefix to the print statement that we\n",
    "# did earlier in `add`, `sub`, etc.\n",
    "# e.g.\n",
    "def add(x, y):\n",
    "    print('***add') # instead of print(add)\n",
    "    return x + y"
   ]
  },
  {
   "cell_type": "markdown",
   "metadata": {},
   "source": [
    "##### Enter Decorator with Args\n",
    "- calling convention\n",
    "\n",
    "```\n",
    "@decorator(args)\n",
    "def func():\n",
    "    pass\n",
    "```\n",
    "- Evaluates as\n",
    "`func = decorator(args)(func)`\n",
    "- Little weird -- two levels of calls"
   ]
  },
  {
   "cell_type": "code",
   "execution_count": 39,
   "metadata": {},
   "outputs": [
    {
     "name": "stdout",
     "output_type": "stream",
     "text": [
      "***add\n",
      "3\n"
     ]
    }
   ],
   "source": [
    "# Using decorator with args:\n",
    "from functools import wraps\n",
    "\n",
    "def debug(prefix=''):\n",
    "    def decorate(func):\n",
    "        msg = prefix + func.__qualname__\n",
    "        @wraps(func)\n",
    "        def wrapper(*args, **kwargs):\n",
    "            print(msg)\n",
    "            return func(*args, **kwargs)\n",
    "        return wrapper\n",
    "    return decorate\n",
    "\n",
    "# - Usage\n",
    "@debug(prefix='***')\n",
    "def add(x, y):\n",
    "    return x + y\n",
    "\n",
    "print(add(1, 2))"
   ]
  },
  {
   "cell_type": "code",
   "execution_count": 41,
   "metadata": {},
   "outputs": [
    {
     "name": "stdout",
     "output_type": "stream",
     "text": [
      "---add\n",
      "1\n"
     ]
    }
   ],
   "source": [
    "# A Reformulation of above\n",
    "\n",
    "from functools import wraps, partial\n",
    "\n",
    "def debug(func=None, *, prefix=''):\n",
    "    if func is None:\n",
    "        return partial(debug, prefix=prefix)\n",
    "    \n",
    "    msg = prefix + func.__qualname__\n",
    "    @wraps(func)\n",
    "    def wrapper(*args, **kwargs):\n",
    "        print(msg)\n",
    "        return func(*args, **kwargs)\n",
    "    return wrapper\n",
    "\n",
    "# A test of your function calling skills\n",
    "\n",
    "@debug(prefix='---')\n",
    "def add(x, y):\n",
    "    return x + y\n",
    "\n",
    "print(add(0, 1))"
   ]
  },
  {
   "cell_type": "markdown",
   "metadata": {},
   "source": [
    "##### Debug all of This\n",
    "- Debug all of the methods of a class\n",
    "```\n",
    "class Spam:\n",
    "    @debug\n",
    "    def grok(self):\n",
    "        pass\n",
    "       \n",
    "    @debug\n",
    "    def bar(self):\n",
    "        pass\n",
    "\n",
    "    @debug\n",
    "    def foo(self):\n",
    "        pass\n",
    "```\n",
    "- Can you decorate all methods at once?"
   ]
  },
  {
   "cell_type": "code",
   "execution_count": 47,
   "metadata": {},
   "outputs": [],
   "source": [
    "# Class Decorator\n",
    "def debugmethods(cls):\n",
    "    # cls is a class\n",
    "    for name, val in vars(cls).items():\n",
    "        if callable(val):\n",
    "            setattr(cls, name, debug(val))\n",
    "    return cls\n",
    "\n",
    "# - Idea:\n",
    "#     * Walkthrough class dictionary\n",
    "#     * Identify callables (e.g. methods)\n",
    "#     * Wrap with a decorator\n",
    "\n",
    "# So now, we can do something like this:\n",
    "\n",
    "@debugmethods\n",
    "class Spam:\n",
    "    def grok(self):\n",
    "        pass\n",
    "       \n",
    "    def bar(self):\n",
    "        pass\n",
    "\n",
    "    def foo(self):\n",
    "        pass\n",
    "\n",
    "# - One decorator application\n",
    "# - Covers all definitions within the class\n",
    "# - It even mostly works...\n",
    "\n",
    "# Limitations:\n",
    "#     - Does not work with classmethods and staticmethods\n",
    "#     - Only instance methods are wrapped\n",
    "#     - Why? Exercise for the reader..."
   ]
  },
  {
   "cell_type": "code",
   "execution_count": 53,
   "metadata": {},
   "outputs": [
    {
     "name": "stdout",
     "output_type": "stream",
     "text": [
      "Getting attribute: x\n",
      "1\n",
      "Getting attribute: y\n",
      "2\n"
     ]
    }
   ],
   "source": [
    "# Brain surgery of a class\n",
    "# Yanking off the __getattribute__ method on a class\n",
    "\n",
    "def debugattr(cls):\n",
    "    orig_getattribute = cls.__getattribute__\n",
    "    \n",
    "    def __getattribute__(self, name):\n",
    "        print('Getting attribute:', name)\n",
    "        return orig_getattribute(self, name)\n",
    "    \n",
    "    cls.__getattribute__ = __getattribute__\n",
    "    \n",
    "    return cls\n",
    "\n",
    "# * We did a rewrite of the part of the class itself\n",
    "\n",
    "@debugattr\n",
    "class Point:\n",
    "    def __init__(self, x, y):\n",
    "        self.x = x\n",
    "        self.y = y\n",
    "        \n",
    "p = Point(1, 2)\n",
    "print(p.x)\n",
    "print(p.y)"
   ]
  },
  {
   "cell_type": "code",
   "execution_count": 54,
   "metadata": {},
   "outputs": [],
   "source": [
    "# Debug all the classes in a file such that we do not have to write\n",
    "# @debugmethods decorator for each class, current code:\n",
    "@debugmethods\n",
    "class Base:\n",
    "    ...\n",
    "\n",
    "@debugmethods\n",
    "class Spam(Base):\n",
    "    ...\n",
    "\n",
    "@debugmethods\n",
    "class Grok(Base):\n",
    "    ...\n",
    "\n",
    "# Notice there are three debugmethods decorators, what if you wanted\n",
    "# to debug all the classes but without having to write debugmethods so \n",
    "# many times"
   ]
  },
  {
   "cell_type": "code",
   "execution_count": 55,
   "metadata": {},
   "outputs": [],
   "source": [
    "# Obvious solution - define a metaclass\n",
    "class debugmeta(type):\n",
    "    # Metaclasses inherit from `type` which is like the base metaclass\n",
    "    # Read RealPython - Metaclasses for more info on this\n",
    "    \n",
    "    def __new__(cls, clsname, bases, clsdict):\n",
    "        clsobj = super().__new__(cls, clsname, bases, clsdict)\n",
    "        \n",
    "        clsobj = debugmethods(clsobj)\n",
    "        return clsobj\n",
    "\n",
    "# * Idea\n",
    "#     - Class gets created normally in line `clsobj = super().__new__(cls, clsname, bases, clsdict)`\n",
    "#     - Immediately wrapped by class decorator `debugmethods` in line: `clsobj = debugmethods(clsobj)`\n",
    "\n",
    "# Usage of debugmeta\n",
    "class Base(metaclass=debugmeta):\n",
    "    ...\n",
    "\n",
    "class Spam(Base):\n",
    "    ..."
   ]
  },
  {
   "cell_type": "code",
   "execution_count": 58,
   "metadata": {},
   "outputs": [
    {
     "name": "stdout",
     "output_type": "stream",
     "text": [
      "<class 'int'>\n",
      "<class 'str'>\n",
      "<class 'list'>\n",
      "<class 'type'>\n",
      "<class 'type'>\n",
      "<class 'type'>\n"
     ]
    }
   ],
   "source": [
    "x = 42\n",
    "print(type(x))\n",
    "\n",
    "s = 'Hello'\n",
    "print(type(s))\n",
    "\n",
    "item = [1, 2, 3]\n",
    "print(type(item))\n",
    "\n",
    "print(type(type(x)))\n",
    "print(type(type(s)))\n",
    "print(type(type(item)))\n",
    "\n",
    "# Every single item in Python has a type\n",
    "# However the type of the <type> itself is `type`\n",
    "# so type(int) is `type`\n",
    "\n",
    "# In python, every type is defined by a class.\n",
    "\n",
    "# So this means, somewhere `type` has to be a class from where other \"types\"\n",
    "# such as int, str, etc. inherit"
   ]
  },
  {
   "cell_type": "markdown",
   "metadata": {},
   "source": [
    "#### Class Deconstructed"
   ]
  },
  {
   "cell_type": "code",
   "execution_count": null,
   "metadata": {},
   "outputs": [],
   "source": [
    "# * Consider a class\n",
    "class Spam(Base):\n",
    "    def __init__(self, name):\n",
    "        self.name = name\n",
    "    def bar(self):\n",
    "        print 'I am Spam.bar'\n",
    "\n",
    "# * What are its components?\n",
    "#     - Name - \"Spam\"\n",
    "#     - Base Classes - (Base, )\n",
    "#     - Functions (__init__, bar)"
   ]
  },
  {
   "cell_type": "markdown",
   "metadata": {},
   "source": [
    "#### Using a MetaClass\n",
    "* Metaclasses get information about class definitions at the time of definitions\n",
    "    - Can inspect this data\n",
    "    - Can modify this data\n",
    "* Essentially, similar to a class decorator\n",
    "* Question: Why would you use one?\n",
    "\n"
   ]
  },
  {
   "cell_type": "markdown",
   "metadata": {},
   "source": [
    "#### Answer - Inheritance\n",
    "\n",
    "- Metaclasses **propagate** down hierarchies\n",
    "\n",
    "```\n",
    "class Base(metaclass=mytype):\n",
    "    ...\n",
    "\n",
    "class Spam(Base):      # metaclass=mytype\n",
    "    ...\n",
    "\n",
    "class Grok(Spam):      # metaclass=mytype\n",
    "    ...\n",
    "```\n",
    "\n",
    "- Think of it as genetic mutation"
   ]
  },
  {
   "cell_type": "markdown",
   "metadata": {},
   "source": [
    "### Big Picture\n",
    "\n",
    "- Its mostly about wrapping/rewriting\n",
    "    - Decorators: Functions\n",
    "        * Decorators are used to wrap around functions\n",
    "    - Class Decorators: Classes\n",
    "        * Class decorators are used to wrap around classes\n",
    "    - Metaclasses: Class hierarchies\n",
    "        * Metaclasses are used to wrap entier hierarchies of a class that derives from a particular metaclass\n",
    "- You have the power to change things"
   ]
  },
  {
   "cell_type": "markdown",
   "metadata": {},
   "source": [
    "## Journey So far\n",
    "- Pretty well trodden territory in Python 2 world\n",
    "- Only a few Python 3 specific changes (e.g. `__qualname__`)"
   ]
  },
  {
   "cell_type": "markdown",
   "metadata": {},
   "source": [
    "## Let us look at something Python 3 specific"
   ]
  },
  {
   "cell_type": "markdown",
   "metadata": {},
   "source": [
    "### Problem: Structures"
   ]
  },
  {
   "cell_type": "code",
   "execution_count": 59,
   "metadata": {},
   "outputs": [],
   "source": [
    "class Stock:\n",
    "    def __init__(self, name, shares, price):\n",
    "        self.name = name\n",
    "        self.shares = shared\n",
    "        self.price = price\n",
    "    \n",
    "class Point:\n",
    "    def __init__(self, x, y):\n",
    "        self.x = x\n",
    "        self.y = y\n",
    "        \n",
    "class Host:\n",
    "    def __init__(self, address, port):\n",
    "        self.address = address\n",
    "        self.port = port"
   ]
  },
  {
   "cell_type": "code",
   "execution_count": 78,
   "metadata": {},
   "outputs": [
    {
     "name": "stdout",
     "output_type": "stream",
     "text": [
      "self.__class__ <class '__main__.Stock'>\n",
      "self.__class__._fields ['name', 'shares', 'price']\n",
      "*args GOOG 100 490.1\n",
      "zip(self.__class__._fields, args) [('name', 'GOOG'), ('shares', 100), ('price', 490.1)]\n",
      "Name and its value: name GOOG\n",
      "Name and its value: shares 100\n",
      "Name and its value: price 490.1\n"
     ]
    }
   ],
   "source": [
    "# We can generalise this a little bit by using a base class, e.g.\n",
    "class Structure:\n",
    "    _fields = []\n",
    "    def __init__(self, *args):\n",
    "        print('self.__class__', self.__class__)\n",
    "        print('self.__class__._fields', self.__class__._fields)\n",
    "        print('*args', *args)\n",
    "        print('zip(self.__class__._fields, args)', list(zip(self.__class__._fields, args)))\n",
    "        for name, val in zip(self.__class__._fields, args):\n",
    "            print('Name and its value:', name, val)\n",
    "            setattr(self, name, val)\n",
    "\n",
    "class Stock(Structure):\n",
    "    _fields = ['name', 'shares', 'price']\n",
    "    \n",
    "# class Point(Structure):\n",
    "#     _fields = ['x', 'y']\n",
    "\n",
    "# class Host(Structure):\n",
    "#     _fields = ['address', 'port']\n",
    "\n",
    "s = Stock('GOOG', 100, 490.1)\n",
    "# print(s.name, s.shares, s.price)"
   ]
  },
  {
   "cell_type": "code",
   "execution_count": 79,
   "metadata": {},
   "outputs": [
    {
     "name": "stdout",
     "output_type": "stream",
     "text": [
      "Help on class Stock in module __main__:\n",
      "\n",
      "class Stock(Structure)\n",
      " |  Method resolution order:\n",
      " |      Stock\n",
      " |      Structure\n",
      " |      builtins.object\n",
      " |  \n",
      " |  Data and other attributes defined here:\n",
      " |  \n",
      " |  _fields = ['name', 'shares', 'price']\n",
      " |  \n",
      " |  ----------------------------------------------------------------------\n",
      " |  Methods inherited from Structure:\n",
      " |  \n",
      " |  __init__(self, *args)\n",
      " |      Initialize self.  See help(type(self)) for accurate signature.\n",
      " |  \n",
      " |  ----------------------------------------------------------------------\n",
      " |  Data descriptors inherited from Structure:\n",
      " |  \n",
      " |  __dict__\n",
      " |      dictionary for instance variables (if defined)\n",
      " |  \n",
      " |  __weakref__\n",
      " |      list of weak references to the object (if defined)\n",
      "\n"
     ]
    }
   ],
   "source": [
    "# Problem with this approach:\n",
    "# - You lose a lot of debugging information\n",
    "help(Stock)"
   ]
  },
  {
   "cell_type": "code",
   "execution_count": 80,
   "metadata": {},
   "outputs": [
    {
     "name": "stdout",
     "output_type": "stream",
     "text": [
      "self.__class__ <class '__main__.Stock'>\n",
      "self.__class__._fields ['name', 'shares', 'price']\n",
      "*args GOOG 100\n",
      "zip(self.__class__._fields, args) [('name', 'GOOG'), ('shares', 100)]\n",
      "Name and its value: name GOOG\n",
      "Name and its value: shares 100\n",
      "GOOG\n",
      "100\n"
     ]
    },
    {
     "ename": "AttributeError",
     "evalue": "'Stock' object has no attribute 'price'",
     "output_type": "error",
     "traceback": [
      "\u001b[0;31m---------------------------------------------------------------------------\u001b[0m",
      "\u001b[0;31mAttributeError\u001b[0m                            Traceback (most recent call last)",
      "\u001b[0;32m<ipython-input-80-63d284b11ce4>\u001b[0m in \u001b[0;36m<module>\u001b[0;34m\u001b[0m\n\u001b[1;32m      3\u001b[0m \u001b[0mprint\u001b[0m\u001b[0;34m(\u001b[0m\u001b[0ms\u001b[0m\u001b[0;34m.\u001b[0m\u001b[0mname\u001b[0m\u001b[0;34m)\u001b[0m\u001b[0;34m\u001b[0m\u001b[0m\n\u001b[1;32m      4\u001b[0m \u001b[0mprint\u001b[0m\u001b[0;34m(\u001b[0m\u001b[0ms\u001b[0m\u001b[0;34m.\u001b[0m\u001b[0mshares\u001b[0m\u001b[0;34m)\u001b[0m\u001b[0;34m\u001b[0m\u001b[0m\n\u001b[0;32m----> 5\u001b[0;31m \u001b[0mprint\u001b[0m\u001b[0;34m(\u001b[0m\u001b[0ms\u001b[0m\u001b[0;34m.\u001b[0m\u001b[0mprice\u001b[0m\u001b[0;34m)\u001b[0m\u001b[0;34m\u001b[0m\u001b[0m\n\u001b[0m",
      "\u001b[0;31mAttributeError\u001b[0m: 'Stock' object has no attribute 'price'"
     ]
    }
   ],
   "source": [
    "# if you do not call it with right number of arguments it doesn't fail\n",
    "s = Stock('GOOG', 100) # Third positional argument missing\n",
    "print(s.name)\n",
    "print(s.shares)\n",
    "print(s.price)"
   ]
  },
  {
   "cell_type": "code",
   "execution_count": 81,
   "metadata": {},
   "outputs": [
    {
     "ename": "TypeError",
     "evalue": "__init__() got an unexpected keyword argument 'name'",
     "output_type": "error",
     "traceback": [
      "\u001b[0;31m---------------------------------------------------------------------------\u001b[0m",
      "\u001b[0;31mTypeError\u001b[0m                                 Traceback (most recent call last)",
      "\u001b[0;32m<ipython-input-81-f4e7b0b498ad>\u001b[0m in \u001b[0;36m<module>\u001b[0;34m\u001b[0m\n\u001b[1;32m      1\u001b[0m \u001b[0;31m# You don't get keyword arguments\u001b[0m\u001b[0;34m\u001b[0m\u001b[0;34m\u001b[0m\u001b[0m\n\u001b[0;32m----> 2\u001b[0;31m \u001b[0ms\u001b[0m \u001b[0;34m=\u001b[0m \u001b[0mStock\u001b[0m\u001b[0;34m(\u001b[0m\u001b[0mname\u001b[0m\u001b[0;34m=\u001b[0m\u001b[0;34m'Goog'\u001b[0m\u001b[0;34m)\u001b[0m\u001b[0;34m\u001b[0m\u001b[0m\n\u001b[0m",
      "\u001b[0;31mTypeError\u001b[0m: __init__() got an unexpected keyword argument 'name'"
     ]
    }
   ],
   "source": [
    "# You don't get keyword arguments\n",
    "s = Stock(name='Goog')"
   ]
  },
  {
   "cell_type": "code",
   "execution_count": 83,
   "metadata": {},
   "outputs": [
    {
     "name": "stdout",
     "output_type": "stream",
     "text": [
      "(*args)\n"
     ]
    }
   ],
   "source": [
    "# Missing calling signatures\n",
    "import inspect\n",
    "print(inspect.signature(Stock))"
   ]
  },
  {
   "cell_type": "markdown",
   "metadata": {},
   "source": [
    "### Signatures is a new thing in Python 3"
   ]
  },
  {
   "cell_type": "markdown",
   "metadata": {},
   "source": [
    "#### New Approach: Signatures\n",
    "* build a function signature object\n",
    "\n",
    "```\n",
    "from inspect import Parameter, Signature\n",
    "\n",
    "fields = ['name', 'shares', 'price']\n",
    "parms = [\n",
    "    Parameter(name, Parameter.POSITIONAL_OR_KEYWORD) for name in fields\n",
    "]\n",
    "sig = Signature(parms)\n",
    "```\n",
    "\n",
    "* Signatures are more than just metadata"
   ]
  },
  {
   "cell_type": "code",
   "execution_count": 85,
   "metadata": {},
   "outputs": [
    {
     "name": "stdout",
     "output_type": "stream",
     "text": [
      "[<Parameter \"name\">, <Parameter \"shares\">, <Parameter \"price\">]\n",
      "(name, shares, price)\n"
     ]
    }
   ],
   "source": [
    "from inspect import Parameter, Signature\n",
    "\n",
    "fields = ['name', 'shares', 'price']\n",
    "parms = [Parameter(name, Parameter.POSITIONAL_OR_KEYWORD) for name in fields]\n",
    "sig = Signature(parms)\n",
    "print(parms)\n",
    "print(sig)"
   ]
  },
  {
   "cell_type": "markdown",
   "metadata": {},
   "source": [
    "#### Signature Binding\n",
    "- This is what you can do with signatures\n",
    "- Argument binding\n",
    "\n",
    "```\n",
    "def func(*args, **kwargs):\n",
    "    bound_args = sig.bind(*args, **kwargs)\n",
    "    for name, val in bound_args.arguments.items():\n",
    "        print('{} = {}'.format(name, val))\n",
    "```\n",
    "\n",
    "- `sig.bind()` binds positional/keyword args to signature\n",
    "* `.arguments` is an `OrderedDict` of passed values"
   ]
  },
  {
   "cell_type": "code",
   "execution_count": 91,
   "metadata": {},
   "outputs": [
    {
     "name": "stdout",
     "output_type": "stream",
     "text": [
      "(name, shares, price)\n",
      "name: AMZN\n",
      "shares: 100\n",
      "price: 299\n",
      "name: SHARE\n",
      "shares: 1\n",
      "price: 299\n"
     ]
    },
    {
     "ename": "TypeError",
     "evalue": "missing a required argument: 'price'",
     "output_type": "error",
     "traceback": [
      "\u001b[0;31m---------------------------------------------------------------------------\u001b[0m",
      "\u001b[0;31mTypeError\u001b[0m                                 Traceback (most recent call last)",
      "\u001b[0;32m<ipython-input-91-0fa3f366a733>\u001b[0m in \u001b[0;36m<module>\u001b[0;34m\u001b[0m\n\u001b[1;32m     15\u001b[0m \u001b[0;34m\u001b[0m\u001b[0m\n\u001b[1;32m     16\u001b[0m \u001b[0;31m# It will also do argument checking\u001b[0m\u001b[0;34m\u001b[0m\u001b[0;34m\u001b[0m\u001b[0m\n\u001b[0;32m---> 17\u001b[0;31m \u001b[0mfoo\u001b[0m\u001b[0;34m(\u001b[0m\u001b[0;36m1\u001b[0m\u001b[0;34m,\u001b[0m\u001b[0;36m2\u001b[0m\u001b[0;34m)\u001b[0m \u001b[0;31m# TypeError 'price' parameter lacking default value\u001b[0m\u001b[0;34m\u001b[0m\u001b[0m\n\u001b[0m",
      "\u001b[0;32m<ipython-input-91-0fa3f366a733>\u001b[0m in \u001b[0;36mfoo\u001b[0;34m(*args, **kwargs)\u001b[0m\n\u001b[1;32m      4\u001b[0m \u001b[0;31m# Let us bind this to a function's signature\u001b[0m\u001b[0;34m\u001b[0m\u001b[0;34m\u001b[0m\u001b[0m\n\u001b[1;32m      5\u001b[0m \u001b[0;32mdef\u001b[0m \u001b[0mfoo\u001b[0m\u001b[0;34m(\u001b[0m\u001b[0;34m*\u001b[0m\u001b[0margs\u001b[0m\u001b[0;34m,\u001b[0m \u001b[0;34m**\u001b[0m\u001b[0mkwargs\u001b[0m\u001b[0;34m)\u001b[0m\u001b[0;34m:\u001b[0m\u001b[0;34m\u001b[0m\u001b[0m\n\u001b[0;32m----> 6\u001b[0;31m     \u001b[0mbound\u001b[0m \u001b[0;34m=\u001b[0m \u001b[0msig\u001b[0m\u001b[0;34m.\u001b[0m\u001b[0mbind\u001b[0m\u001b[0;34m(\u001b[0m\u001b[0;34m*\u001b[0m\u001b[0margs\u001b[0m\u001b[0;34m,\u001b[0m \u001b[0;34m**\u001b[0m\u001b[0mkwargs\u001b[0m\u001b[0;34m)\u001b[0m\u001b[0;34m\u001b[0m\u001b[0m\n\u001b[0m\u001b[1;32m      7\u001b[0m     \u001b[0;32mfor\u001b[0m \u001b[0mname\u001b[0m\u001b[0;34m,\u001b[0m \u001b[0mval\u001b[0m \u001b[0;32min\u001b[0m \u001b[0mbound\u001b[0m\u001b[0;34m.\u001b[0m\u001b[0marguments\u001b[0m\u001b[0;34m.\u001b[0m\u001b[0mitems\u001b[0m\u001b[0;34m(\u001b[0m\u001b[0;34m)\u001b[0m\u001b[0;34m:\u001b[0m\u001b[0;34m\u001b[0m\u001b[0m\n\u001b[1;32m      8\u001b[0m         \u001b[0mprint\u001b[0m\u001b[0;34m(\u001b[0m\u001b[0;34m'{}: {}'\u001b[0m\u001b[0;34m.\u001b[0m\u001b[0mformat\u001b[0m\u001b[0;34m(\u001b[0m\u001b[0mname\u001b[0m\u001b[0;34m,\u001b[0m \u001b[0mval\u001b[0m\u001b[0;34m)\u001b[0m\u001b[0;34m)\u001b[0m\u001b[0;34m\u001b[0m\u001b[0m\n",
      "\u001b[0;32m~/.pyenv/versions/3.5.7/lib/python3.5/inspect.py\u001b[0m in \u001b[0;36mbind\u001b[0;34m(*args, **kwargs)\u001b[0m\n\u001b[1;32m   2928\u001b[0m         \u001b[0;32mif\u001b[0m \u001b[0mthe\u001b[0m \u001b[0mpassed\u001b[0m \u001b[0marguments\u001b[0m \u001b[0mcan\u001b[0m \u001b[0;32mnot\u001b[0m \u001b[0mbe\u001b[0m \u001b[0mbound\u001b[0m\u001b[0;34m.\u001b[0m\u001b[0;34m\u001b[0m\u001b[0m\n\u001b[1;32m   2929\u001b[0m         \"\"\"\n\u001b[0;32m-> 2930\u001b[0;31m         \u001b[0;32mreturn\u001b[0m \u001b[0margs\u001b[0m\u001b[0;34m[\u001b[0m\u001b[0;36m0\u001b[0m\u001b[0;34m]\u001b[0m\u001b[0;34m.\u001b[0m\u001b[0m_bind\u001b[0m\u001b[0;34m(\u001b[0m\u001b[0margs\u001b[0m\u001b[0;34m[\u001b[0m\u001b[0;36m1\u001b[0m\u001b[0;34m:\u001b[0m\u001b[0;34m]\u001b[0m\u001b[0;34m,\u001b[0m \u001b[0mkwargs\u001b[0m\u001b[0;34m)\u001b[0m\u001b[0;34m\u001b[0m\u001b[0m\n\u001b[0m\u001b[1;32m   2931\u001b[0m \u001b[0;34m\u001b[0m\u001b[0m\n\u001b[1;32m   2932\u001b[0m     \u001b[0;32mdef\u001b[0m \u001b[0mbind_partial\u001b[0m\u001b[0;34m(\u001b[0m\u001b[0;34m*\u001b[0m\u001b[0margs\u001b[0m\u001b[0;34m,\u001b[0m \u001b[0;34m**\u001b[0m\u001b[0mkwargs\u001b[0m\u001b[0;34m)\u001b[0m\u001b[0;34m:\u001b[0m\u001b[0;34m\u001b[0m\u001b[0m\n",
      "\u001b[0;32m~/.pyenv/versions/3.5.7/lib/python3.5/inspect.py\u001b[0m in \u001b[0;36m_bind\u001b[0;34m(self, args, kwargs, partial)\u001b[0m\n\u001b[1;32m   2843\u001b[0m                             \u001b[0mmsg\u001b[0m \u001b[0;34m=\u001b[0m \u001b[0;34m'missing a required argument: {arg!r}'\u001b[0m\u001b[0;34m\u001b[0m\u001b[0m\n\u001b[1;32m   2844\u001b[0m                             \u001b[0mmsg\u001b[0m \u001b[0;34m=\u001b[0m \u001b[0mmsg\u001b[0m\u001b[0;34m.\u001b[0m\u001b[0mformat\u001b[0m\u001b[0;34m(\u001b[0m\u001b[0marg\u001b[0m\u001b[0;34m=\u001b[0m\u001b[0mparam\u001b[0m\u001b[0;34m.\u001b[0m\u001b[0mname\u001b[0m\u001b[0;34m)\u001b[0m\u001b[0;34m\u001b[0m\u001b[0m\n\u001b[0;32m-> 2845\u001b[0;31m                             \u001b[0;32mraise\u001b[0m \u001b[0mTypeError\u001b[0m\u001b[0;34m(\u001b[0m\u001b[0mmsg\u001b[0m\u001b[0;34m)\u001b[0m \u001b[0;32mfrom\u001b[0m \u001b[0;32mNone\u001b[0m\u001b[0;34m\u001b[0m\u001b[0m\n\u001b[0m\u001b[1;32m   2846\u001b[0m             \u001b[0;32melse\u001b[0m\u001b[0;34m:\u001b[0m\u001b[0;34m\u001b[0m\u001b[0m\n\u001b[1;32m   2847\u001b[0m                 \u001b[0;31m# We have a positional argument to process\u001b[0m\u001b[0;34m\u001b[0m\u001b[0;34m\u001b[0m\u001b[0m\n",
      "\u001b[0;31mTypeError\u001b[0m: missing a required argument: 'price'"
     ]
    }
   ],
   "source": [
    "# So I have a sig object from previous code snipppet\n",
    "print(sig)    # (name, shares, price)\n",
    "\n",
    "# Let us bind this to a function's signature\n",
    "def foo(*args, **kwargs):\n",
    "    bound = sig.bind(*args, **kwargs)\n",
    "    for name, val in bound.arguments.items():\n",
    "        print('{}: {}'.format(name, val))\n",
    "\n",
    "foo('AMZN', 100, 299)\n",
    "\n",
    "# This also supports keyword arguments because while creating the\n",
    "# signature we mentioned `Parameter.POSITIONAL_OR_KEYWORD`\n",
    "foo(name='SHARE', price=299, shares=1)\n",
    "\n",
    "# It will also do argument checking\n",
    "foo(1,2) # TypeError: missing a required argument: 'price'"
   ]
  },
  {
   "cell_type": "code",
   "execution_count": 101,
   "metadata": {
    "scrolled": false
   },
   "outputs": [
    {
     "name": "stdout",
     "output_type": "stream",
     "text": [
      "Goog 100\n",
      "Goog 300 1\n",
      "Help on class Stock in module __main__:\n",
      "\n",
      "class Stock(Structure)\n",
      " |  Method resolution order:\n",
      " |      Stock\n",
      " |      Structure\n",
      " |      builtins.object\n",
      " |  \n",
      " |  Data and other attributes defined here:\n",
      " |  \n",
      " |  __signature__ = <Signature (name, shares, price)>\n",
      " |  \n",
      " |  ----------------------------------------------------------------------\n",
      " |  Methods inherited from Structure:\n",
      " |  \n",
      " |  __init__(self, *args, **kwargs)\n",
      " |      Initialize self.  See help(type(self)) for accurate signature.\n",
      " |  \n",
      " |  ----------------------------------------------------------------------\n",
      " |  Data descriptors inherited from Structure:\n",
      " |  \n",
      " |  __dict__\n",
      " |      dictionary for instance variables (if defined)\n",
      " |  \n",
      " |  __weakref__\n",
      " |      list of weak references to the object (if defined)\n",
      "\n"
     ]
    },
    {
     "data": {
      "text/plain": [
       "<Signature (name, shares, price)>"
      ]
     },
     "execution_count": 101,
     "metadata": {},
     "output_type": "execute_result"
    }
   ],
   "source": [
    "# So let us use Signature with our original Structure code\n",
    "from inspect import Parameter, Signature\n",
    "\n",
    "def make_signature(names):\n",
    "    return Signature(\n",
    "        Parameter(name,\n",
    "                 Parameter.POSITIONAL_OR_KEYWORD)\n",
    "        for name in names\n",
    "    )\n",
    "\n",
    "class Structure:\n",
    "    __signature__ = make_signature([])\n",
    "    \n",
    "    def __init__(self, *args, **kwargs):\n",
    "        bound = self.__signature__.bind(*args, **kwargs)\n",
    "        \n",
    "        for name, val in bound.arguments.items():\n",
    "            setattr(self, name, val)\n",
    "            \n",
    "# So now, all the classes are gonna be a little bit different\n",
    "class Stock(Structure):\n",
    "    __signature__ = make_signature(['name', 'shares', 'price'])\n",
    "    \n",
    "class Point(Structure):\n",
    "    __signature__ = make_signature(['x', 'y'])\n",
    "\n",
    "class Address(Structure):\n",
    "    __signature__ = make_signature(['hostname', 'port'])\n",
    "\n",
    "# now the classes will behave so much nicer!\n",
    "# for example - now classes will support combination of keyword and positional arguments\n",
    "s = Stock('Goog', 100, 490.1)\n",
    "print(s.name, s.shares)\n",
    "\n",
    "# Let us try mix of keyword and positional arguments\n",
    "new_s = Stock(name='Goog', price=300, shares=1)\n",
    "print(new_s.name, new_s.price, new_s.shares)\n",
    "\n",
    "help(Stock) # Shows proper signature as <Signature (name, shares, price)>\n",
    "\n",
    "import inspect\n",
    "inspect.signature(Stock) # shows the signature object - <Signature (name, shares, price)>"
   ]
  },
  {
   "cell_type": "markdown",
   "metadata": {},
   "source": [
    "### New Problem\n",
    "* This is rather annoying\n",
    "\n",
    "```\n",
    "class Stock(Structure):\n",
    "    __signature__ = make_signature(['name', 'shares', 'price'])\n",
    "    \n",
    "class Point(Structure):\n",
    "    __signature__ = make_signature(['x', 'y'])\n",
    "\n",
    "class Address(Structure):\n",
    "    __signature__ = make_signature(['hostname', 'port'])\n",
    "```\n",
    "\n",
    "* Can't it be simplified in some way?"
   ]
  },
  {
   "cell_type": "markdown",
   "metadata": {},
   "source": [
    "### Solutions\n",
    "* Ah, a problem involving class definitions\n",
    "    - Class decorators\n",
    "    - Metaclasses\n",
    "* Which seems more appropriate?\n",
    "* Let's explore both options"
   ]
  },
  {
   "cell_type": "markdown",
   "metadata": {},
   "source": [
    "#### Class Decorator solution"
   ]
  },
  {
   "cell_type": "code",
   "execution_count": 106,
   "metadata": {},
   "outputs": [],
   "source": [
    "def add_signature(*names):\n",
    "    def decorate(cls):\n",
    "        cls.__signature__ = make_signature(names)\n",
    "        return cls\n",
    "    return decorate"
   ]
  },
  {
   "cell_type": "markdown",
   "metadata": {},
   "source": [
    "##### Usage"
   ]
  },
  {
   "cell_type": "code",
   "execution_count": 107,
   "metadata": {},
   "outputs": [],
   "source": [
    "@add_signature('name', 'shares', 'price')\n",
    "class Stock(Structure):\n",
    "    pass"
   ]
  },
  {
   "cell_type": "markdown",
   "metadata": {},
   "source": [
    "#### Metaclass solution"
   ]
  },
  {
   "cell_type": "code",
   "execution_count": 7,
   "metadata": {},
   "outputs": [
    {
     "data": {
      "text/plain": [
       "'GOOG'"
      ]
     },
     "execution_count": 7,
     "metadata": {},
     "output_type": "execute_result"
    }
   ],
   "source": [
    "from inspect import Parameter, Signature\n",
    "\n",
    "def make_signature(names):\n",
    "    return Signature(\n",
    "        Parameter(name,\n",
    "                 Parameter.POSITIONAL_OR_KEYWORD)\n",
    "        for name in names\n",
    "    )\n",
    "\n",
    "class StructMeta(type):\n",
    "    def __new__(cls, name, bases, clsdict):\n",
    "        # We are making the class\n",
    "        clsobj = super().__new__(cls, name, bases, clsdict)\n",
    "        \n",
    "        # We are making the signature for the class\n",
    "        sig = make_signature(clsobj._fields)\n",
    "        \n",
    "        # Setting the signature on the class\n",
    "        setattr(clsobj, '__signature__', sig)\n",
    "        \n",
    "        return clsobj\n",
    "\n",
    "# Usage\n",
    "class Structure(metaclass=StructMeta):\n",
    "    _fields = []\n",
    "    def __init__(self, *args, **kwargs):\n",
    "        bound = self.__signature__.bind(*args, **kwargs)\n",
    "        for name, val in bound.arguments.items():\n",
    "            setattr(self, name, val)\n",
    "\n",
    "# Now we can go back to simplified version\n",
    "class Stock(Structure):\n",
    "    _fields = ['name', 'shares', 'price']\n",
    "    \n",
    "class Point(Structure):\n",
    "    _fields = ['x', 'y']\n",
    "\n",
    "class Host(Structure):\n",
    "    _fields = ['address', 'port']\n",
    "    \n",
    "# The good things about this is that the user does not have to worry.\n",
    "# Once the metaclass is injected in the base class, it is all taken care of\n",
    "\n",
    "x = Stock('GOOG', price=100, shares=10)\n",
    "x.shares\n",
    "x.name"
   ]
  },
  {
   "cell_type": "markdown",
   "metadata": {},
   "source": [
    "## Descriptors- Owning the Dot Notation (Raymond Hettinger)"
   ]
  },
  {
   "cell_type": "code",
   "execution_count": 10,
   "metadata": {},
   "outputs": [],
   "source": [
    "# Descriptor Protocol\n",
    "# * Properties are implemented via descriptors\n",
    "\n",
    "class Descriptor:\n",
    "    def __get__(self, instance, cls):\n",
    "        ...\n",
    "    def __set__(self, instance, value):\n",
    "        ...\n",
    "    def __delete__(self, instance):\n",
    "        ...\n",
    "\n",
    "# * Customized processing of attribute access"
   ]
  },
  {
   "cell_type": "code",
   "execution_count": 15,
   "metadata": {},
   "outputs": [
    {
     "name": "stdout",
     "output_type": "stream",
     "text": [
      "Set name acme\n",
      "Set shares 50\n",
      "Set price 91.1\n",
      "instance.__dict__ {'name': 'acme', 'shares': 50, 'price': 91.1}\n",
      "vars(instance) {'name': 'acme', 'shares': 50, 'price': 91.1}\n",
      "Get shares\n",
      "50\n",
      "Set shares 51\n",
      "Delete shares\n"
     ]
    }
   ],
   "source": [
    "# Let us define a proper descriptor\n",
    "class Descriptor:\n",
    "    def __init__(self, name=None):\n",
    "        self.name = name\n",
    "        \n",
    "    def __get__(self, instance, cls):\n",
    "        # instance: is the instance being manipulated\n",
    "        # e.g. Stock instance\n",
    "        print('instance.__dict__', instance.__dict__)\n",
    "        print('vars(instance)', vars(instance))\n",
    "        print(\"Get\", self.name)\n",
    "        return instance.__dict__[self.name]\n",
    "    \n",
    "    def __set__(self, instance, value):\n",
    "        print(\"Set\", self.name, value)\n",
    "        instance.__dict__[self.name] = value\n",
    "    \n",
    "    def __delete__(self, instance):\n",
    "        print(\"Delete\", self.name)\n",
    "        del instance.__dict__[self.name]\n",
    "\n",
    "# Now, let us use the above defined Descriptor in Stock class\n",
    "class Stock(Structure):\n",
    "    _fields = ['name', 'shares', 'price']\n",
    "    name = Descriptor('name')\n",
    "    shares = Descriptor('shares')\n",
    "    price = Descriptor('price')\n",
    "\n",
    "a = Stock('acme', 50, 91.1)\n",
    "print(a.shares)\n",
    "a.shares = 51\n",
    "del a.shares"
   ]
  },
  {
   "cell_type": "code",
   "execution_count": 22,
   "metadata": {
    "scrolled": true
   },
   "outputs": [
    {
     "name": "stdout",
     "output_type": "stream",
     "text": [
      "<class 'type'>\n",
      "Set name GOOG\n",
      "Set shares 50\n",
      "Set price 10.0\n"
     ]
    },
    {
     "ename": "TypeError",
     "evalue": "Expected <class 'int'>",
     "output_type": "error",
     "traceback": [
      "\u001b[0;31m---------------------------------------------------------------------------\u001b[0m",
      "\u001b[0;31mTypeError\u001b[0m                                 Traceback (most recent call last)",
      "\u001b[0;32m<ipython-input-22-dde1633e36dd>\u001b[0m in \u001b[0;36m<module>\u001b[0;34m\u001b[0m\n\u001b[1;32m     24\u001b[0m \u001b[0;34m\u001b[0m\u001b[0m\n\u001b[1;32m     25\u001b[0m \u001b[0ms\u001b[0m \u001b[0;34m=\u001b[0m \u001b[0mStock\u001b[0m\u001b[0;34m(\u001b[0m\u001b[0;34m'GOOG'\u001b[0m\u001b[0;34m,\u001b[0m \u001b[0;36m50\u001b[0m\u001b[0;34m,\u001b[0m \u001b[0;36m10.0\u001b[0m\u001b[0;34m)\u001b[0m\u001b[0;34m\u001b[0m\u001b[0;34m\u001b[0m\u001b[0m\n\u001b[0;32m---> 26\u001b[0;31m \u001b[0ms\u001b[0m\u001b[0;34m.\u001b[0m\u001b[0mshares\u001b[0m \u001b[0;34m=\u001b[0m \u001b[0;34m'Abc'\u001b[0m \u001b[0;31m# Raises TypeError!\u001b[0m\u001b[0;34m\u001b[0m\u001b[0;34m\u001b[0m\u001b[0m\n\u001b[0m",
      "\u001b[0;32m<ipython-input-22-dde1633e36dd>\u001b[0m in \u001b[0;36m__set__\u001b[0;34m(self, instance, value)\u001b[0m\n\u001b[1;32m      4\u001b[0m     \u001b[0;32mdef\u001b[0m \u001b[0m__set__\u001b[0m\u001b[0;34m(\u001b[0m\u001b[0mself\u001b[0m\u001b[0;34m,\u001b[0m \u001b[0minstance\u001b[0m\u001b[0;34m,\u001b[0m \u001b[0mvalue\u001b[0m\u001b[0;34m)\u001b[0m\u001b[0;34m:\u001b[0m\u001b[0;34m\u001b[0m\u001b[0;34m\u001b[0m\u001b[0m\n\u001b[1;32m      5\u001b[0m         \u001b[0;32mif\u001b[0m \u001b[0;32mnot\u001b[0m \u001b[0misinstance\u001b[0m\u001b[0;34m(\u001b[0m\u001b[0mvalue\u001b[0m\u001b[0;34m,\u001b[0m \u001b[0mself\u001b[0m\u001b[0;34m.\u001b[0m\u001b[0mty\u001b[0m\u001b[0;34m)\u001b[0m\u001b[0;34m:\u001b[0m\u001b[0;34m\u001b[0m\u001b[0;34m\u001b[0m\u001b[0m\n\u001b[0;32m----> 6\u001b[0;31m             \u001b[0;32mraise\u001b[0m \u001b[0mTypeError\u001b[0m\u001b[0;34m(\u001b[0m\u001b[0;34m'Expected {}'\u001b[0m\u001b[0;34m.\u001b[0m\u001b[0mformat\u001b[0m\u001b[0;34m(\u001b[0m\u001b[0mself\u001b[0m\u001b[0;34m.\u001b[0m\u001b[0mty\u001b[0m\u001b[0;34m)\u001b[0m\u001b[0;34m)\u001b[0m\u001b[0;34m\u001b[0m\u001b[0;34m\u001b[0m\u001b[0m\n\u001b[0m\u001b[1;32m      7\u001b[0m         \u001b[0msuper\u001b[0m\u001b[0;34m(\u001b[0m\u001b[0;34m)\u001b[0m\u001b[0;34m.\u001b[0m\u001b[0m__set__\u001b[0m\u001b[0;34m(\u001b[0m\u001b[0minstance\u001b[0m\u001b[0;34m,\u001b[0m \u001b[0mvalue\u001b[0m\u001b[0;34m)\u001b[0m\u001b[0;34m\u001b[0m\u001b[0;34m\u001b[0m\u001b[0m\n\u001b[1;32m      8\u001b[0m \u001b[0;34m\u001b[0m\u001b[0m\n",
      "\u001b[0;31mTypeError\u001b[0m: Expected <class 'int'>"
     ]
    }
   ],
   "source": [
    "# Using descriptors to build Type Checking\n",
    "class Typed(Descriptor):\n",
    "    ty = object     # Expected type\n",
    "    def __set__(self, instance, value):\n",
    "        if not isinstance(value, self.ty):\n",
    "            raise TypeError('Expected {}'.format(self.ty))\n",
    "        super().__set__(instance, value)\n",
    "\n",
    "# Specialization\n",
    "class Integer(Typed):\n",
    "    ty = int\n",
    "class Float(Typed):\n",
    "    ty = float\n",
    "class String(Typed):\n",
    "    ty = str\n",
    "\n",
    "# Now let us use this in Stock class (think: is this how Django creates all the CharField, BooleanField, etc fields?)\n",
    "class Stock(Structure):\n",
    "    _fields = ['name', 'shares', 'price']\n",
    "    name = String('name')\n",
    "    shares = Integer('shares')\n",
    "    price = Float('price')\n",
    "\n",
    "s = Stock('GOOG', 50, 10.0)\n",
    "s.shares = 'Abc' # Raises TypeError!"
   ]
  },
  {
   "cell_type": "code",
   "execution_count": 24,
   "metadata": {},
   "outputs": [
    {
     "name": "stdout",
     "output_type": "stream",
     "text": [
      "Set name NegativeShares\n"
     ]
    },
    {
     "ename": "ValueError",
     "evalue": "Expected value > 0",
     "output_type": "error",
     "traceback": [
      "\u001b[0;31m---------------------------------------------------------------------------\u001b[0m",
      "\u001b[0;31mValueError\u001b[0m                                Traceback (most recent call last)",
      "\u001b[0;32m<ipython-input-24-bd5350a36bab>\u001b[0m in \u001b[0;36m<module>\u001b[0;34m\u001b[0m\n\u001b[1;32m     22\u001b[0m     \u001b[0mprice\u001b[0m \u001b[0;34m=\u001b[0m \u001b[0mFloat\u001b[0m\u001b[0;34m(\u001b[0m\u001b[0;34m'price'\u001b[0m\u001b[0;34m)\u001b[0m\u001b[0;34m\u001b[0m\u001b[0;34m\u001b[0m\u001b[0m\n\u001b[1;32m     23\u001b[0m \u001b[0;34m\u001b[0m\u001b[0m\n\u001b[0;32m---> 24\u001b[0;31m \u001b[0ma\u001b[0m \u001b[0;34m=\u001b[0m \u001b[0mStock\u001b[0m\u001b[0;34m(\u001b[0m\u001b[0;34m'NegativeShares'\u001b[0m\u001b[0;34m,\u001b[0m \u001b[0mshares\u001b[0m\u001b[0;34m=\u001b[0m\u001b[0;34m-\u001b[0m\u001b[0;36m10\u001b[0m\u001b[0;34m,\u001b[0m \u001b[0mprice\u001b[0m\u001b[0;34m=\u001b[0m\u001b[0;36m1.0\u001b[0m\u001b[0;34m)\u001b[0m\u001b[0;34m\u001b[0m\u001b[0;34m\u001b[0m\u001b[0m\n\u001b[0m",
      "\u001b[0;32m<ipython-input-8-28fbadcae03b>\u001b[0m in \u001b[0;36m__init__\u001b[0;34m(self, *args, **kwargs)\u001b[0m\n\u001b[1;32m     27\u001b[0m         \u001b[0mbound\u001b[0m \u001b[0;34m=\u001b[0m \u001b[0mself\u001b[0m\u001b[0;34m.\u001b[0m\u001b[0m__signature__\u001b[0m\u001b[0;34m.\u001b[0m\u001b[0mbind\u001b[0m\u001b[0;34m(\u001b[0m\u001b[0;34m*\u001b[0m\u001b[0margs\u001b[0m\u001b[0;34m,\u001b[0m \u001b[0;34m**\u001b[0m\u001b[0mkwargs\u001b[0m\u001b[0;34m)\u001b[0m\u001b[0;34m\u001b[0m\u001b[0;34m\u001b[0m\u001b[0m\n\u001b[1;32m     28\u001b[0m         \u001b[0;32mfor\u001b[0m \u001b[0mname\u001b[0m\u001b[0;34m,\u001b[0m \u001b[0mval\u001b[0m \u001b[0;32min\u001b[0m \u001b[0mbound\u001b[0m\u001b[0;34m.\u001b[0m\u001b[0marguments\u001b[0m\u001b[0;34m.\u001b[0m\u001b[0mitems\u001b[0m\u001b[0;34m(\u001b[0m\u001b[0;34m)\u001b[0m\u001b[0;34m:\u001b[0m\u001b[0;34m\u001b[0m\u001b[0;34m\u001b[0m\u001b[0m\n\u001b[0;32m---> 29\u001b[0;31m             \u001b[0msetattr\u001b[0m\u001b[0;34m(\u001b[0m\u001b[0mself\u001b[0m\u001b[0;34m,\u001b[0m \u001b[0mname\u001b[0m\u001b[0;34m,\u001b[0m \u001b[0mval\u001b[0m\u001b[0;34m)\u001b[0m\u001b[0;34m\u001b[0m\u001b[0;34m\u001b[0m\u001b[0m\n\u001b[0m\u001b[1;32m     30\u001b[0m \u001b[0;34m\u001b[0m\u001b[0m\n\u001b[1;32m     31\u001b[0m \u001b[0;31m# Now we can go back to simplified version\u001b[0m\u001b[0;34m\u001b[0m\u001b[0;34m\u001b[0m\u001b[0;34m\u001b[0m\u001b[0m\n",
      "\u001b[0;32m<ipython-input-22-dde1633e36dd>\u001b[0m in \u001b[0;36m__set__\u001b[0;34m(self, instance, value)\u001b[0m\n\u001b[1;32m      5\u001b[0m         \u001b[0;32mif\u001b[0m \u001b[0;32mnot\u001b[0m \u001b[0misinstance\u001b[0m\u001b[0;34m(\u001b[0m\u001b[0mvalue\u001b[0m\u001b[0;34m,\u001b[0m \u001b[0mself\u001b[0m\u001b[0;34m.\u001b[0m\u001b[0mty\u001b[0m\u001b[0;34m)\u001b[0m\u001b[0;34m:\u001b[0m\u001b[0;34m\u001b[0m\u001b[0;34m\u001b[0m\u001b[0m\n\u001b[1;32m      6\u001b[0m             \u001b[0;32mraise\u001b[0m \u001b[0mTypeError\u001b[0m\u001b[0;34m(\u001b[0m\u001b[0;34m'Expected {}'\u001b[0m\u001b[0;34m.\u001b[0m\u001b[0mformat\u001b[0m\u001b[0;34m(\u001b[0m\u001b[0mself\u001b[0m\u001b[0;34m.\u001b[0m\u001b[0mty\u001b[0m\u001b[0;34m)\u001b[0m\u001b[0;34m)\u001b[0m\u001b[0;34m\u001b[0m\u001b[0;34m\u001b[0m\u001b[0m\n\u001b[0;32m----> 7\u001b[0;31m         \u001b[0msuper\u001b[0m\u001b[0;34m(\u001b[0m\u001b[0;34m)\u001b[0m\u001b[0;34m.\u001b[0m\u001b[0m__set__\u001b[0m\u001b[0;34m(\u001b[0m\u001b[0minstance\u001b[0m\u001b[0;34m,\u001b[0m \u001b[0mvalue\u001b[0m\u001b[0;34m)\u001b[0m\u001b[0;34m\u001b[0m\u001b[0;34m\u001b[0m\u001b[0m\n\u001b[0m\u001b[1;32m      8\u001b[0m \u001b[0;34m\u001b[0m\u001b[0m\n\u001b[1;32m      9\u001b[0m \u001b[0;31m# Specialization\u001b[0m\u001b[0;34m\u001b[0m\u001b[0;34m\u001b[0m\u001b[0;34m\u001b[0m\u001b[0m\n",
      "\u001b[0;32m<ipython-input-24-bd5350a36bab>\u001b[0m in \u001b[0;36m__set__\u001b[0;34m(self, instance, value)\u001b[0m\n\u001b[1;32m      3\u001b[0m     \u001b[0;32mdef\u001b[0m \u001b[0m__set__\u001b[0m\u001b[0;34m(\u001b[0m\u001b[0mself\u001b[0m\u001b[0;34m,\u001b[0m \u001b[0minstance\u001b[0m\u001b[0;34m,\u001b[0m \u001b[0mvalue\u001b[0m\u001b[0;34m)\u001b[0m\u001b[0;34m:\u001b[0m\u001b[0;34m\u001b[0m\u001b[0;34m\u001b[0m\u001b[0m\n\u001b[1;32m      4\u001b[0m         \u001b[0;32mif\u001b[0m \u001b[0mvalue\u001b[0m \u001b[0;34m<\u001b[0m \u001b[0;36m0\u001b[0m\u001b[0;34m:\u001b[0m\u001b[0;34m\u001b[0m\u001b[0;34m\u001b[0m\u001b[0m\n\u001b[0;32m----> 5\u001b[0;31m             \u001b[0;32mraise\u001b[0m \u001b[0mValueError\u001b[0m\u001b[0;34m(\u001b[0m\u001b[0;34m'Expected value > 0'\u001b[0m\u001b[0;34m)\u001b[0m\u001b[0;34m\u001b[0m\u001b[0;34m\u001b[0m\u001b[0m\n\u001b[0m\u001b[1;32m      6\u001b[0m         \u001b[0msuper\u001b[0m\u001b[0;34m(\u001b[0m\u001b[0;34m)\u001b[0m\u001b[0;34m.\u001b[0m\u001b[0m__set__\u001b[0m\u001b[0;34m(\u001b[0m\u001b[0minstance\u001b[0m\u001b[0;34m,\u001b[0m \u001b[0mvalue\u001b[0m\u001b[0;34m)\u001b[0m\u001b[0;34m\u001b[0m\u001b[0;34m\u001b[0m\u001b[0m\n\u001b[1;32m      7\u001b[0m \u001b[0;34m\u001b[0m\u001b[0m\n",
      "\u001b[0;31mValueError\u001b[0m: Expected value > 0"
     ]
    }
   ],
   "source": [
    "# Let us do Value/Domain checking\n",
    "class Positive(Descriptor):\n",
    "    def __set__(self, instance, value):\n",
    "        if value < 0:\n",
    "            raise ValueError('Expected value > 0')\n",
    "        super().__set__(instance, value)\n",
    "\n",
    "class PositiveInteger(Integer, Positive):\n",
    "    # Here we combined type checking and value checking\n",
    "    # Type - the class instance is an integer\n",
    "    # Value - the class instance is a positive integer and not just any integer \n",
    "    pass\n",
    "\n",
    "class PositiveFloat(Float, Positive):\n",
    "    pass\n",
    "\n",
    "# Let us use PositiveInteger\n",
    "class Stock(Structure):\n",
    "    _fields = ['name', 'shares', 'price']\n",
    "    name = String('name')\n",
    "    shares = PositiveInteger('shares')\n",
    "    price = Float('price')\n",
    "\n",
    "a = Stock('NegativeShares', shares=-10, price=1.0)"
   ]
  },
  {
   "cell_type": "markdown",
   "metadata": {},
   "source": [
    "### Keyword-only Args"
   ]
  },
  {
   "cell_type": "code",
   "execution_count": 31,
   "metadata": {},
   "outputs": [
    {
     "name": "stdout",
     "output_type": "stream",
     "text": [
      "keyword_only_arg: value for keyword only arg\n"
     ]
    },
    {
     "ename": "TypeError",
     "evalue": "test_keyword_only_args() takes 0 positional arguments but 1 was given",
     "output_type": "error",
     "traceback": [
      "\u001b[0;31m---------------------------------------------------------------------------\u001b[0m",
      "\u001b[0;31mTypeError\u001b[0m                                 Traceback (most recent call last)",
      "\u001b[0;32m<ipython-input-31-5b7fd25b6e7b>\u001b[0m in \u001b[0;36m<module>\u001b[0;34m\u001b[0m\n\u001b[1;32m     12\u001b[0m \u001b[0;34m\u001b[0m\u001b[0m\n\u001b[1;32m     13\u001b[0m \u001b[0;31m# Value for \"keyword_only_arg\" is passed as a positional argument, raises TypeError\u001b[0m\u001b[0;34m\u001b[0m\u001b[0;34m\u001b[0m\u001b[0;34m\u001b[0m\u001b[0m\n\u001b[0;32m---> 14\u001b[0;31m \u001b[0mtest_keyword_only_args\u001b[0m\u001b[0;34m(\u001b[0m\u001b[0;34m'value for keyword only arg'\u001b[0m\u001b[0;34m)\u001b[0m\u001b[0;34m\u001b[0m\u001b[0;34m\u001b[0m\u001b[0m\n\u001b[0m",
      "\u001b[0;31mTypeError\u001b[0m: test_keyword_only_args() takes 0 positional arguments but 1 was given"
     ]
    }
   ],
   "source": [
    "# Test how keyword-only args behave\n",
    "def test_keyword_only_args(*, keyword_only_arg):\n",
    "    \"\"\"\n",
    "    Here the argument \"keyword_only_arg\" is expected to behave as the name\n",
    "    says since this argument is after the argument that starts with asterisk (*)\n",
    "    \"\"\"\n",
    "    \n",
    "    print('keyword_only_arg:', keyword_only_arg)\n",
    "\n",
    "# Value for \"keyword_only_arg\" is passed as keyword argument\n",
    "test_keyword_only_args(keyword_only_arg='value for keyword only arg')\n",
    "\n",
    "# Value for \"keyword_only_arg\" is passed as a positional argument, raises TypeError\n",
    "test_keyword_only_args('value for keyword only arg')"
   ]
  },
  {
   "cell_type": "markdown",
   "metadata": {},
   "source": [
    "#### Annoyance"
   ]
  },
  {
   "cell_type": "markdown",
   "metadata": {},
   "source": [
    "```\n",
    "class Stock(Structure):\n",
    "    _fields = ['name', 'shares', 'price']\n",
    "    name = SizedRegexString('name', maxlen=8, pat='[A-Z]+$')\n",
    "    shares = PosInteger('shares')\n",
    "    price = PosFloat('price')\n",
    "```\n",
    "\n",
    "- Still quite a bit of repetition\n",
    "- Signatures and type checking not unified\n",
    "- Maybe we can push it further\n"
   ]
  },
  {
   "cell_type": "markdown",
   "metadata": {},
   "source": [
    "##### Metaclass as a solution to the problem"
   ]
  },
  {
   "cell_type": "markdown",
   "metadata": {},
   "source": [
    "- `__prepare__` is a new thing in Python\n",
    "- `__prepare__` returns the dictionary that is supposed to be used during class creation.\n",
    "- So using `__prepare__` you can completed get rid of the `_fields` attribute from the `Stock` class definition\n",
    "\n",
    "- Now if you return an `OrderedDict()` in the `__prepare__` method, it will also remember the order of the declaration of field"
   ]
  },
  {
   "attachments": {},
   "cell_type": "markdown",
   "metadata": {},
   "source": [
    "#### Performance\n",
    "##### The Costs\n",
    "\n",
    "* Option 1: Simple\n",
    "\n",
    "```\n",
    "class Stock:\n",
    "    def __init__(self, name, shares, price):\n",
    "        self.name = name\n",
    "        self.shares = shares\n",
    "        self.price = price\n",
    "```\n",
    "\n",
    "* Option 2: Meta\n",
    "\n",
    "```\n",
    "class Stock(Structure):\n",
    "    name = SizedRegexString(...)\n",
    "    shares = PosInteger()\n",
    "    price = PosFloat()\n",
    "```\n",
    "\n",
    "* A few tests show that Instance creation and attribute assignment takes a lot more time in the Meta way of doing things - See exact link: https://youtu.be/sPiWg5jSoZI?list=TLPQMjcwMjIwMjCV3vrJEw4gPA&t=5871"
   ]
  },
  {
   "cell_type": "markdown",
   "metadata": {},
   "source": [
    "See video up until 1:55 for further code. Its really cool, the kind of stuff David does with literally generating code doing things like `set_code()`, `make_init()`"
   ]
  },
  {
   "cell_type": "markdown",
   "metadata": {},
   "source": [
    "### sys.meta_path"
   ]
  },
  {
   "cell_type": "code",
   "execution_count": 34,
   "metadata": {},
   "outputs": [
    {
     "data": {
      "text/plain": [
       "[_frozen_importlib.BuiltinImporter,\n",
       " _frozen_importlib.FrozenImporter,\n",
       " _frozen_importlib_external.PathFinder,\n",
       " <six._SixMetaPathImporter at 0x10464ca60>]"
      ]
     },
     "execution_count": 34,
     "metadata": {},
     "output_type": "execute_result"
    }
   ],
   "source": [
    "import sys\n",
    "sys.meta_path\n",
    "# This is the list of classes that get triggered to process\n",
    "# the import statements"
   ]
  },
  {
   "cell_type": "code",
   "execution_count": 1,
   "metadata": {
    "scrolled": true
   },
   "outputs": [
    {
     "ename": "ModuleNotFoundError",
     "evalue": "No module named 'matha'",
     "output_type": "error",
     "traceback": [
      "\u001b[0;31m---------------------------------------------------------------------------\u001b[0m",
      "\u001b[0;31mModuleNotFoundError\u001b[0m                       Traceback (most recent call last)",
      "\u001b[0;32m<ipython-input-1-fa726df7b49a>\u001b[0m in \u001b[0;36m<module>\u001b[0;34m\u001b[0m\n\u001b[1;32m      6\u001b[0m         \u001b[0;32mreturn\u001b[0m \u001b[0;32mNone\u001b[0m\u001b[0;34m\u001b[0m\u001b[0;34m\u001b[0m\u001b[0m\n\u001b[1;32m      7\u001b[0m \u001b[0;34m\u001b[0m\u001b[0m\n\u001b[0;32m----> 8\u001b[0;31m \u001b[0;32mimport\u001b[0m \u001b[0mmatha\u001b[0m\u001b[0;34m\u001b[0m\u001b[0;34m\u001b[0m\u001b[0m\n\u001b[0m",
      "\u001b[0;31mModuleNotFoundError\u001b[0m: No module named 'matha'"
     ]
    }
   ],
   "source": [
    "class MyFinder:\n",
    "    def find_module(self, fullname, path):\n",
    "        # fullname is the name of what's being imported\n",
    "        # path is path setting (for packages)\n",
    "        print(fullname, path)\n",
    "        return None\n",
    "\n",
    "import matha"
   ]
  },
  {
   "cell_type": "markdown",
   "metadata": {},
   "source": [
    "- Inserting a custom MyFinder is a cool way to see what goes underneath when a package is being imported?\n",
    "- For example - what's the full path from where a given package is being imported?\n",
    "- Also really cool when you are trying to debug some changes you made to a module but you do not see at runtime\n",
    "```\n",
    ">>> import sys\n",
    ">>> sys.meta_path\n",
    "[<class '_frozen_importlib.BuiltinImporter'>, <class '_frozen_importlib.FrozenImporter'>, <class '_frozen_importlib_external.PathFinder'>]\n",
    ">>> class MyFinder:\n",
    "...     def find_module(self, fullname, path):\n",
    "...             print(fullname, path)\n",
    "...             return None\n",
    "...\n",
    ">>> sys.meta_path.insert(0, MyFinder())\n",
    ">>> sys.meta_path\n",
    "[<__main__.MyFinder object at 0x10320ccd0>, <class '_frozen_importlib.BuiltinImporter'>, <class '_frozen_importlib.FrozenImporter'>, <class '_frozen_importlib_external.PathFinder'>]\n",
    ">>> import math\n",
    "math None\n",
    ">>> import xml\n",
    "xml None\n",
    ">>> import xml.sax\n",
    "xml.sax ['/Users/ds/.pyenv/versions/3.8.0/lib/python3.8/xml']\n",
    "xml.sax.xmlreader ['/Users/ds/.pyenv/versions/3.8.0/lib/python3.8/xml/sax']\n",
    "xml.sax.handler ['/Users/ds/.pyenv/versions/3.8.0/lib/python3.8/xml/sax']\n",
    "xml.sax._exceptions ['/Users/ds/.pyenv/versions/3.8.0/lib/python3.8/xml/sax']\n",
    ">>>\n",
    "```"
   ]
  },
  {
   "cell_type": "markdown",
   "metadata": {},
   "source": [
    "How the `find_module` function actually needs to be defined"
   ]
  },
  {
   "cell_type": "code",
   "execution_count": 7,
   "metadata": {},
   "outputs": [
    {
     "name": "stdout",
     "output_type": "stream",
     "text": [
      "<module 'foo'>\n"
     ]
    },
    {
     "data": {
      "text/plain": [
       "{'__name__': 'foo',\n",
       " '__doc__': None,\n",
       " '__package__': None,\n",
       " '__loader__': None,\n",
       " '__spec__': None}"
      ]
     },
     "execution_count": 7,
     "metadata": {},
     "output_type": "execute_result"
    }
   ],
   "source": [
    "import imp\n",
    "mod = imp.new_module('foo')\n",
    "print(mod)\n",
    "dir(mod)\n",
    "vars(mod)"
   ]
  },
  {
   "cell_type": "code",
   "execution_count": 8,
   "metadata": {},
   "outputs": [
    {
     "name": "stdout",
     "output_type": "stream",
     "text": [
      "Help on function func in module test:\n",
      "\n",
      "func(name, email)\n",
      "    name: user's name\n",
      "    email: user's email\n",
      "    return: None\n",
      "\n"
     ]
    }
   ],
   "source": [
    "# Just for fun, now that we learnt sys.modules cache exists, does module reloading simply mean removing the module from sys.modules and then importing it again for new cache of the module to be built?\n",
    "# Let us try it out for fun\n",
    "from test import func\n",
    "help(func)"
   ]
  },
  {
   "cell_type": "code",
   "execution_count": 9,
   "metadata": {},
   "outputs": [
    {
     "data": {
      "text/plain": [
       "{'sys': <module 'sys' (built-in)>,\n",
       " 'builtins': <module 'builtins' (built-in)>,\n",
       " '_frozen_importlib': <module 'importlib._bootstrap' (frozen)>,\n",
       " '_imp': <module '_imp' (built-in)>,\n",
       " '_warnings': <module '_warnings' (built-in)>,\n",
       " '_frozen_importlib_external': <module 'importlib._bootstrap_external' (frozen)>,\n",
       " '_io': <module 'io' (built-in)>,\n",
       " 'marshal': <module 'marshal' (built-in)>,\n",
       " 'posix': <module 'posix' (built-in)>,\n",
       " '_thread': <module '_thread' (built-in)>,\n",
       " '_weakref': <module '_weakref' (built-in)>,\n",
       " 'time': <module 'time' (built-in)>,\n",
       " 'zipimport': <module 'zipimport' (frozen)>,\n",
       " '_codecs': <module '_codecs' (built-in)>,\n",
       " 'codecs': <module 'codecs' from '/Users/ds/.pyenv/versions/3.8.0/lib/python3.8/codecs.py'>,\n",
       " 'encodings.aliases': <module 'encodings.aliases' from '/Users/ds/.pyenv/versions/3.8.0/lib/python3.8/encodings/aliases.py'>,\n",
       " 'encodings': <module 'encodings' from '/Users/ds/.pyenv/versions/3.8.0/lib/python3.8/encodings/__init__.py'>,\n",
       " 'encodings.utf_8': <module 'encodings.utf_8' from '/Users/ds/.pyenv/versions/3.8.0/lib/python3.8/encodings/utf_8.py'>,\n",
       " '_signal': <module '_signal' (built-in)>,\n",
       " '__main__': <module '__main__'>,\n",
       " 'encodings.latin_1': <module 'encodings.latin_1' from '/Users/ds/.pyenv/versions/3.8.0/lib/python3.8/encodings/latin_1.py'>,\n",
       " '_abc': <module '_abc' (built-in)>,\n",
       " 'abc': <module 'abc' from '/Users/ds/.pyenv/versions/3.8.0/lib/python3.8/abc.py'>,\n",
       " 'io': <module 'io' from '/Users/ds/.pyenv/versions/3.8.0/lib/python3.8/io.py'>,\n",
       " '_stat': <module '_stat' (built-in)>,\n",
       " 'stat': <module 'stat' from '/Users/ds/.pyenv/versions/3.8.0/lib/python3.8/stat.py'>,\n",
       " 'genericpath': <module 'genericpath' from '/Users/ds/.pyenv/versions/3.8.0/lib/python3.8/genericpath.py'>,\n",
       " 'posixpath': <module 'posixpath' from '/Users/ds/.pyenv/versions/3.8.0/lib/python3.8/posixpath.py'>,\n",
       " 'os.path': <module 'posixpath' from '/Users/ds/.pyenv/versions/3.8.0/lib/python3.8/posixpath.py'>,\n",
       " '_collections_abc': <module '_collections_abc' from '/Users/ds/.pyenv/versions/3.8.0/lib/python3.8/_collections_abc.py'>,\n",
       " 'os': <module 'os' from '/Users/ds/.pyenv/versions/3.8.0/lib/python3.8/os.py'>,\n",
       " '_sitebuiltins': <module '_sitebuiltins' from '/Users/ds/.pyenv/versions/3.8.0/lib/python3.8/_sitebuiltins.py'>,\n",
       " 'site': <module 'site' from '/Users/ds/.pyenv/versions/3.8.0/lib/python3.8/site.py'>,\n",
       " 'importlib._bootstrap': <module 'importlib._bootstrap' (frozen)>,\n",
       " 'importlib._bootstrap_external': <module 'importlib._bootstrap_external' (frozen)>,\n",
       " 'types': <module 'types' from '/Users/ds/.pyenv/versions/3.8.0/lib/python3.8/types.py'>,\n",
       " 'warnings': <module 'warnings' from '/Users/ds/.pyenv/versions/3.8.0/lib/python3.8/warnings.py'>,\n",
       " 'importlib': <module 'importlib' from '/Users/ds/.pyenv/versions/3.8.0/lib/python3.8/importlib/__init__.py'>,\n",
       " 'importlib.machinery': <module 'importlib.machinery' from '/Users/ds/.pyenv/versions/3.8.0/lib/python3.8/importlib/machinery.py'>,\n",
       " 'importlib.abc': <module 'importlib.abc' from '/Users/ds/.pyenv/versions/3.8.0/lib/python3.8/importlib/abc.py'>,\n",
       " '_operator': <module '_operator' (built-in)>,\n",
       " 'operator': <module 'operator' from '/Users/ds/.pyenv/versions/3.8.0/lib/python3.8/operator.py'>,\n",
       " 'keyword': <module 'keyword' from '/Users/ds/.pyenv/versions/3.8.0/lib/python3.8/keyword.py'>,\n",
       " '_heapq': <module '_heapq' from '/Users/ds/.pyenv/versions/3.8.0/lib/python3.8/lib-dynload/_heapq.cpython-38-darwin.so'>,\n",
       " 'heapq': <module 'heapq' from '/Users/ds/.pyenv/versions/3.8.0/lib/python3.8/heapq.py'>,\n",
       " 'itertools': <module 'itertools' (built-in)>,\n",
       " 'reprlib': <module 'reprlib' from '/Users/ds/.pyenv/versions/3.8.0/lib/python3.8/reprlib.py'>,\n",
       " '_collections': <module '_collections' (built-in)>,\n",
       " 'collections': <module 'collections' from '/Users/ds/.pyenv/versions/3.8.0/lib/python3.8/collections/__init__.py'>,\n",
       " '_functools': <module '_functools' (built-in)>,\n",
       " 'functools': <module 'functools' from '/Users/ds/.pyenv/versions/3.8.0/lib/python3.8/functools.py'>,\n",
       " 'contextlib': <module 'contextlib' from '/Users/ds/.pyenv/versions/3.8.0/lib/python3.8/contextlib.py'>,\n",
       " 'importlib.util': <module 'importlib.util' from '/Users/ds/.pyenv/versions/3.8.0/lib/python3.8/importlib/util.py'>,\n",
       " '_weakrefset': <module '_weakrefset' from '/Users/ds/.pyenv/versions/3.8.0/lib/python3.8/_weakrefset.py'>,\n",
       " 'weakref': <module 'weakref' from '/Users/ds/.pyenv/versions/3.8.0/lib/python3.8/weakref.py'>,\n",
       " 'pkgutil': <module 'pkgutil' from '/Users/ds/.pyenv/versions/3.8.0/lib/python3.8/pkgutil.py'>,\n",
       " 'runpy': <module 'runpy' from '/Users/ds/.pyenv/versions/3.8.0/lib/python3.8/runpy.py'>,\n",
       " 'ipykernel._version': <module 'ipykernel._version' from '/Users/ds/.pyenv/versions/3.8.0/envs/py380-django30/lib/python3.8/site-packages/ipykernel/_version.py'>,\n",
       " '__future__': <module '__future__' from '/Users/ds/.pyenv/versions/3.8.0/lib/python3.8/__future__.py'>,\n",
       " 'enum': <module 'enum' from '/Users/ds/.pyenv/versions/3.8.0/lib/python3.8/enum.py'>,\n",
       " '_sre': <module '_sre' (built-in)>,\n",
       " 'sre_constants': <module 'sre_constants' from '/Users/ds/.pyenv/versions/3.8.0/lib/python3.8/sre_constants.py'>,\n",
       " 'sre_parse': <module 'sre_parse' from '/Users/ds/.pyenv/versions/3.8.0/lib/python3.8/sre_parse.py'>,\n",
       " 'sre_compile': <module 'sre_compile' from '/Users/ds/.pyenv/versions/3.8.0/lib/python3.8/sre_compile.py'>,\n",
       " '_locale': <module '_locale' (built-in)>,\n",
       " 'copyreg': <module 'copyreg' from '/Users/ds/.pyenv/versions/3.8.0/lib/python3.8/copyreg.py'>,\n",
       " 're': <module 're' from '/Users/ds/.pyenv/versions/3.8.0/lib/python3.8/re.py'>,\n",
       " '_json': <module '_json' from '/Users/ds/.pyenv/versions/3.8.0/lib/python3.8/lib-dynload/_json.cpython-38-darwin.so'>,\n",
       " 'json.scanner': <module 'json.scanner' from '/Users/ds/.pyenv/versions/3.8.0/lib/python3.8/json/scanner.py'>,\n",
       " 'json.decoder': <module 'json.decoder' from '/Users/ds/.pyenv/versions/3.8.0/lib/python3.8/json/decoder.py'>,\n",
       " 'json.encoder': <module 'json.encoder' from '/Users/ds/.pyenv/versions/3.8.0/lib/python3.8/json/encoder.py'>,\n",
       " 'json': <module 'json' from '/Users/ds/.pyenv/versions/3.8.0/lib/python3.8/json/__init__.py'>,\n",
       " 'errno': <module 'errno' (built-in)>,\n",
       " 'signal': <module 'signal' from '/Users/ds/.pyenv/versions/3.8.0/lib/python3.8/signal.py'>,\n",
       " 'threading': <module 'threading' from '/Users/ds/.pyenv/versions/3.8.0/lib/python3.8/threading.py'>,\n",
       " '_posixsubprocess': <module '_posixsubprocess' from '/Users/ds/.pyenv/versions/3.8.0/lib/python3.8/lib-dynload/_posixsubprocess.cpython-38-darwin.so'>,\n",
       " 'select': <module 'select' from '/Users/ds/.pyenv/versions/3.8.0/lib/python3.8/lib-dynload/select.cpython-38-darwin.so'>,\n",
       " 'collections.abc': <module 'collections.abc' from '/Users/ds/.pyenv/versions/3.8.0/lib/python3.8/collections/abc.py'>,\n",
       " 'math': <module 'math' from '/Users/ds/.pyenv/versions/3.8.0/lib/python3.8/lib-dynload/math.cpython-38-darwin.so'>,\n",
       " 'selectors': <module 'selectors' from '/Users/ds/.pyenv/versions/3.8.0/lib/python3.8/selectors.py'>,\n",
       " 'subprocess': <module 'subprocess' from '/Users/ds/.pyenv/versions/3.8.0/lib/python3.8/subprocess.py'>,\n",
       " 'IPython.core': <module 'IPython.core' from '/Users/ds/.pyenv/versions/3.8.0/envs/py380-django30/lib/python3.8/site-packages/IPython/core/__init__.py'>,\n",
       " 'IPython.core.getipython': <module 'IPython.core.getipython' from '/Users/ds/.pyenv/versions/3.8.0/envs/py380-django30/lib/python3.8/site-packages/IPython/core/getipython.py'>,\n",
       " 'IPython.core.release': <module 'IPython.core.release' from '/Users/ds/.pyenv/versions/3.8.0/envs/py380-django30/lib/python3.8/site-packages/IPython/core/release.py'>,\n",
       " 'atexit': <module 'atexit' (built-in)>,\n",
       " 'copy': <module 'copy' from '/Users/ds/.pyenv/versions/3.8.0/lib/python3.8/copy.py'>,\n",
       " 'fnmatch': <module 'fnmatch' from '/Users/ds/.pyenv/versions/3.8.0/lib/python3.8/fnmatch.py'>,\n",
       " 'glob': <module 'glob' from '/Users/ds/.pyenv/versions/3.8.0/lib/python3.8/glob.py'>,\n",
       " 'token': <module 'token' from '/Users/ds/.pyenv/versions/3.8.0/lib/python3.8/token.py'>,\n",
       " 'tokenize': <module 'tokenize' from '/Users/ds/.pyenv/versions/3.8.0/lib/python3.8/tokenize.py'>,\n",
       " 'linecache': <module 'linecache' from '/Users/ds/.pyenv/versions/3.8.0/lib/python3.8/linecache.py'>,\n",
       " 'traceback': <module 'traceback' from '/Users/ds/.pyenv/versions/3.8.0/lib/python3.8/traceback.py'>,\n",
       " '_string': <module '_string' (built-in)>,\n",
       " 'string': <module 'string' from '/Users/ds/.pyenv/versions/3.8.0/lib/python3.8/string.py'>,\n",
       " 'logging': <module 'logging' from '/Users/ds/.pyenv/versions/3.8.0/lib/python3.8/logging/__init__.py'>,\n",
       " 'zlib': <module 'zlib' from '/Users/ds/.pyenv/versions/3.8.0/lib/python3.8/lib-dynload/zlib.cpython-38-darwin.so'>,\n",
       " '_compression': <module '_compression' from '/Users/ds/.pyenv/versions/3.8.0/lib/python3.8/_compression.py'>,\n",
       " '_bz2': <module '_bz2' from '/Users/ds/.pyenv/versions/3.8.0/lib/python3.8/lib-dynload/_bz2.cpython-38-darwin.so'>,\n",
       " 'bz2': <module 'bz2' from '/Users/ds/.pyenv/versions/3.8.0/lib/python3.8/bz2.py'>,\n",
       " '_lzma': <module '_lzma' from '/Users/ds/.pyenv/versions/3.8.0/lib/python3.8/lib-dynload/_lzma.cpython-38-darwin.so'>,\n",
       " 'lzma': <module 'lzma' from '/Users/ds/.pyenv/versions/3.8.0/lib/python3.8/lzma.py'>,\n",
       " 'pwd': <module 'pwd' (built-in)>,\n",
       " 'grp': <module 'grp' from '/Users/ds/.pyenv/versions/3.8.0/lib/python3.8/lib-dynload/grp.cpython-38-darwin.so'>,\n",
       " 'shutil': <module 'shutil' from '/Users/ds/.pyenv/versions/3.8.0/lib/python3.8/shutil.py'>,\n",
       " '_opcode': <module '_opcode' from '/Users/ds/.pyenv/versions/3.8.0/lib/python3.8/lib-dynload/_opcode.cpython-38-darwin.so'>,\n",
       " 'opcode': <module 'opcode' from '/Users/ds/.pyenv/versions/3.8.0/lib/python3.8/opcode.py'>,\n",
       " 'dis': <module 'dis' from '/Users/ds/.pyenv/versions/3.8.0/lib/python3.8/dis.py'>,\n",
       " 'inspect': <module 'inspect' from '/Users/ds/.pyenv/versions/3.8.0/lib/python3.8/inspect.py'>,\n",
       " '_struct': <module '_struct' from '/Users/ds/.pyenv/versions/3.8.0/lib/python3.8/lib-dynload/_struct.cpython-38-darwin.so'>,\n",
       " 'struct': <module 'struct' from '/Users/ds/.pyenv/versions/3.8.0/lib/python3.8/struct.py'>,\n",
       " 'six': <module 'six' from '/Users/ds/.pyenv/versions/3.8.0/envs/py380-django30/lib/python3.8/site-packages/six.py'>,\n",
       " 'traitlets.utils': <module 'traitlets.utils' from '/Users/ds/.pyenv/versions/3.8.0/envs/py380-django30/lib/python3.8/site-packages/traitlets/utils/__init__.py'>,\n",
       " 'traitlets.utils.getargspec': <module 'traitlets.utils.getargspec' from '/Users/ds/.pyenv/versions/3.8.0/envs/py380-django30/lib/python3.8/site-packages/traitlets/utils/getargspec.py'>,\n",
       " 'ipython_genutils._version': <module 'ipython_genutils._version' from '/Users/ds/.pyenv/versions/3.8.0/envs/py380-django30/lib/python3.8/site-packages/ipython_genutils/_version.py'>,\n",
       " 'ipython_genutils': <module 'ipython_genutils' from '/Users/ds/.pyenv/versions/3.8.0/envs/py380-django30/lib/python3.8/site-packages/ipython_genutils/__init__.py'>,\n",
       " 'locale': <module 'locale' from '/Users/ds/.pyenv/versions/3.8.0/lib/python3.8/locale.py'>,\n",
       " 'ipython_genutils.encoding': <module 'ipython_genutils.encoding' from '/Users/ds/.pyenv/versions/3.8.0/envs/py380-django30/lib/python3.8/site-packages/ipython_genutils/encoding.py'>,\n",
       " 'platform': <module 'platform' from '/Users/ds/.pyenv/versions/3.8.0/lib/python3.8/platform.py'>,\n",
       " 'ipython_genutils.py3compat': <module 'ipython_genutils.py3compat' from '/Users/ds/.pyenv/versions/3.8.0/envs/py380-django30/lib/python3.8/site-packages/ipython_genutils/py3compat.py'>,\n",
       " 'traitlets.utils.importstring': <module 'traitlets.utils.importstring' from '/Users/ds/.pyenv/versions/3.8.0/envs/py380-django30/lib/python3.8/site-packages/traitlets/utils/importstring.py'>,\n",
       " 'traitlets.utils.sentinel': <module 'traitlets.utils.sentinel' from '/Users/ds/.pyenv/versions/3.8.0/envs/py380-django30/lib/python3.8/site-packages/traitlets/utils/sentinel.py'>,\n",
       " 'traitlets.utils.bunch': <module 'traitlets.utils.bunch' from '/Users/ds/.pyenv/versions/3.8.0/envs/py380-django30/lib/python3.8/site-packages/traitlets/utils/bunch.py'>,\n",
       " 'traitlets.traitlets': <module 'traitlets.traitlets' from '/Users/ds/.pyenv/versions/3.8.0/envs/py380-django30/lib/python3.8/site-packages/traitlets/traitlets.py'>,\n",
       " 'traitlets._version': <module 'traitlets._version' from '/Users/ds/.pyenv/versions/3.8.0/envs/py380-django30/lib/python3.8/site-packages/traitlets/_version.py'>,\n",
       " 'traitlets': <module 'traitlets' from '/Users/ds/.pyenv/versions/3.8.0/envs/py380-django30/lib/python3.8/site-packages/traitlets/__init__.py'>,\n",
       " 'decorator': <module 'decorator' from '/Users/ds/.pyenv/versions/3.8.0/envs/py380-django30/lib/python3.8/site-packages/decorator.py'>,\n",
       " 'gettext': <module 'gettext' from '/Users/ds/.pyenv/versions/3.8.0/lib/python3.8/gettext.py'>,\n",
       " 'argparse': <module 'argparse' from '/Users/ds/.pyenv/versions/3.8.0/lib/python3.8/argparse.py'>,\n",
       " '_ast': <module '_ast' (built-in)>,\n",
       " 'ast': <module 'ast' from '/Users/ds/.pyenv/versions/3.8.0/lib/python3.8/ast.py'>,\n",
       " '_bisect': <module '_bisect' from '/Users/ds/.pyenv/versions/3.8.0/lib/python3.8/lib-dynload/_bisect.cpython-38-darwin.so'>,\n",
       " 'bisect': <module 'bisect' from '/Users/ds/.pyenv/versions/3.8.0/lib/python3.8/bisect.py'>,\n",
       " '_sha512': <module '_sha512' from '/Users/ds/.pyenv/versions/3.8.0/lib/python3.8/lib-dynload/_sha512.cpython-38-darwin.so'>,\n",
       " '_random': <module '_random' from '/Users/ds/.pyenv/versions/3.8.0/lib/python3.8/lib-dynload/_random.cpython-38-darwin.so'>,\n",
       " 'random': <module 'random' from '/Users/ds/.pyenv/versions/3.8.0/lib/python3.8/random.py'>,\n",
       " 'ipython_genutils.path': <module 'ipython_genutils.path' from '/Users/ds/.pyenv/versions/3.8.0/envs/py380-django30/lib/python3.8/site-packages/ipython_genutils/path.py'>,\n",
       " 'traitlets.config.loader': <module 'traitlets.config.loader' from '/Users/ds/.pyenv/versions/3.8.0/envs/py380-django30/lib/python3.8/site-packages/traitlets/config/loader.py'>,\n",
       " 'textwrap': <module 'textwrap' from '/Users/ds/.pyenv/versions/3.8.0/lib/python3.8/textwrap.py'>,\n",
       " 'ipython_genutils.text': <module 'ipython_genutils.text' from '/Users/ds/.pyenv/versions/3.8.0/envs/py380-django30/lib/python3.8/site-packages/ipython_genutils/text.py'>,\n",
       " 'traitlets.config.configurable': <module 'traitlets.config.configurable' from '/Users/ds/.pyenv/versions/3.8.0/envs/py380-django30/lib/python3.8/site-packages/traitlets/config/configurable.py'>,\n",
       " 'ipython_genutils.importstring': <module 'ipython_genutils.importstring' from '/Users/ds/.pyenv/versions/3.8.0/envs/py380-django30/lib/python3.8/site-packages/ipython_genutils/importstring.py'>,\n",
       " 'traitlets.config.application': <module 'traitlets.config.application' from '/Users/ds/.pyenv/versions/3.8.0/envs/py380-django30/lib/python3.8/site-packages/traitlets/config/application.py'>,\n",
       " 'traitlets.config': <module 'traitlets.config' from '/Users/ds/.pyenv/versions/3.8.0/envs/py380-django30/lib/python3.8/site-packages/traitlets/config/__init__.py'>,\n",
       " 'pprint': <module 'pprint' from '/Users/ds/.pyenv/versions/3.8.0/lib/python3.8/pprint.py'>,\n",
       " 'urllib': <module 'urllib' from '/Users/ds/.pyenv/versions/3.8.0/lib/python3.8/urllib/__init__.py'>,\n",
       " 'urllib.parse': <module 'urllib.parse' from '/Users/ds/.pyenv/versions/3.8.0/lib/python3.8/urllib/parse.py'>,\n",
       " 'pydoc': <module 'pydoc' from '/Users/ds/.pyenv/versions/3.8.0/lib/python3.8/pydoc.py'>,\n",
       " 'bdb': <module 'bdb' from '/Users/ds/.pyenv/versions/3.8.0/lib/python3.8/bdb.py'>,\n",
       " 'IPython.utils': <module 'IPython.utils' from '/Users/ds/.pyenv/versions/3.8.0/envs/py380-django30/lib/python3.8/site-packages/IPython/utils/__init__.py'>,\n",
       " 'IPython.utils.ipstruct': <module 'IPython.utils.ipstruct' from '/Users/ds/.pyenv/versions/3.8.0/envs/py380-django30/lib/python3.8/site-packages/IPython/utils/ipstruct.py'>,\n",
       " 'IPython.utils.coloransi': <module 'IPython.utils.coloransi' from '/Users/ds/.pyenv/versions/3.8.0/envs/py380-django30/lib/python3.8/site-packages/IPython/utils/coloransi.py'>,\n",
       " 'pygments.util': <module 'pygments.util' from '/Users/ds/.pyenv/versions/3.8.0/envs/py380-django30/lib/python3.8/site-packages/pygments/util.py'>,\n",
       " 'pygments': <module 'pygments' from '/Users/ds/.pyenv/versions/3.8.0/envs/py380-django30/lib/python3.8/site-packages/pygments/__init__.py'>,\n",
       " 'IPython.utils.colorable': <module 'IPython.utils.colorable' from '/Users/ds/.pyenv/versions/3.8.0/envs/py380-django30/lib/python3.8/site-packages/IPython/utils/colorable.py'>,\n",
       " 'IPython.utils.PyColorize': <module 'IPython.utils.PyColorize' from '/Users/ds/.pyenv/versions/3.8.0/envs/py380-django30/lib/python3.8/site-packages/IPython/utils/PyColorize.py'>,\n",
       " 'IPython.utils.encoding': <module 'IPython.utils.encoding' from '/Users/ds/.pyenv/versions/3.8.0/envs/py380-django30/lib/python3.8/site-packages/IPython/utils/encoding.py'>,\n",
       " 'IPython.utils.py3compat': <module 'IPython.utils.py3compat' from '/Users/ds/.pyenv/versions/3.8.0/envs/py380-django30/lib/python3.8/site-packages/IPython/utils/py3compat.py'>,\n",
       " 'IPython.core.excolors': <module 'IPython.core.excolors' from '/Users/ds/.pyenv/versions/3.8.0/envs/py380-django30/lib/python3.8/site-packages/IPython/core/excolors.py'>,\n",
       " 'IPython.testing': <module 'IPython.testing' from '/Users/ds/.pyenv/versions/3.8.0/envs/py380-django30/lib/python3.8/site-packages/IPython/testing/__init__.py'>,\n",
       " 'IPython.testing.skipdoctest': <module 'IPython.testing.skipdoctest' from '/Users/ds/.pyenv/versions/3.8.0/envs/py380-django30/lib/python3.8/site-packages/IPython/testing/skipdoctest.py'>,\n",
       " 'cmd': <module 'cmd' from '/Users/ds/.pyenv/versions/3.8.0/lib/python3.8/cmd.py'>,\n",
       " 'codeop': <module 'codeop' from '/Users/ds/.pyenv/versions/3.8.0/lib/python3.8/codeop.py'>,\n",
       " 'code': <module 'code' from '/Users/ds/.pyenv/versions/3.8.0/lib/python3.8/code.py'>,\n",
       " 'pdb': <module 'pdb' from '/Users/ds/.pyenv/versions/3.8.0/lib/python3.8/pdb.py'>,\n",
       " 'IPython.core.debugger': <module 'IPython.core.debugger' from '/Users/ds/.pyenv/versions/3.8.0/envs/py380-django30/lib/python3.8/site-packages/IPython/core/debugger.py'>,\n",
       " 'IPython.core.display_trap': <module 'IPython.core.display_trap' from '/Users/ds/.pyenv/versions/3.8.0/envs/py380-django30/lib/python3.8/site-packages/IPython/core/display_trap.py'>,\n",
       " 'pexpect.exceptions': <module 'pexpect.exceptions' from '/Users/ds/.pyenv/versions/3.8.0/envs/py380-django30/lib/python3.8/site-packages/pexpect/exceptions.py'>,\n",
       " 'pexpect.utils': <module 'pexpect.utils' from '/Users/ds/.pyenv/versions/3.8.0/envs/py380-django30/lib/python3.8/site-packages/pexpect/utils.py'>,\n",
       " 'pexpect.expect': <module 'pexpect.expect' from '/Users/ds/.pyenv/versions/3.8.0/envs/py380-django30/lib/python3.8/site-packages/pexpect/expect.py'>,\n",
       " 'termios': <module 'termios' from '/Users/ds/.pyenv/versions/3.8.0/lib/python3.8/lib-dynload/termios.cpython-38-darwin.so'>,\n",
       " 'tty': <module 'tty' from '/Users/ds/.pyenv/versions/3.8.0/lib/python3.8/tty.py'>,\n",
       " 'pty': <module 'pty' from '/Users/ds/.pyenv/versions/3.8.0/lib/python3.8/pty.py'>,\n",
       " 'fcntl': <module 'fcntl' from '/Users/ds/.pyenv/versions/3.8.0/lib/python3.8/lib-dynload/fcntl.cpython-38-darwin.so'>,\n",
       " 'resource': <module 'resource' from '/Users/ds/.pyenv/versions/3.8.0/lib/python3.8/lib-dynload/resource.cpython-38-darwin.so'>,\n",
       " 'ptyprocess.util': <module 'ptyprocess.util' from '/Users/ds/.pyenv/versions/3.8.0/envs/py380-django30/lib/python3.8/site-packages/ptyprocess/util.py'>,\n",
       " 'ptyprocess.ptyprocess': <module 'ptyprocess.ptyprocess' from '/Users/ds/.pyenv/versions/3.8.0/envs/py380-django30/lib/python3.8/site-packages/ptyprocess/ptyprocess.py'>,\n",
       " 'ptyprocess': <module 'ptyprocess' from '/Users/ds/.pyenv/versions/3.8.0/envs/py380-django30/lib/python3.8/site-packages/ptyprocess/__init__.py'>,\n",
       " 'pexpect.spawnbase': <module 'pexpect.spawnbase' from '/Users/ds/.pyenv/versions/3.8.0/envs/py380-django30/lib/python3.8/site-packages/pexpect/spawnbase.py'>,\n",
       " 'pexpect.pty_spawn': <module 'pexpect.pty_spawn' from '/Users/ds/.pyenv/versions/3.8.0/envs/py380-django30/lib/python3.8/site-packages/pexpect/pty_spawn.py'>,\n",
       " 'pexpect.run': <module 'pexpect.run' from '/Users/ds/.pyenv/versions/3.8.0/envs/py380-django30/lib/python3.8/site-packages/pexpect/run.py'>,\n",
       " 'pexpect': <module 'pexpect' from '/Users/ds/.pyenv/versions/3.8.0/envs/py380-django30/lib/python3.8/site-packages/pexpect/__init__.py'>,\n",
       " 'shlex': <module 'shlex' from '/Users/ds/.pyenv/versions/3.8.0/lib/python3.8/shlex.py'>,\n",
       " 'IPython.utils._process_common': <module 'IPython.utils._process_common' from '/Users/ds/.pyenv/versions/3.8.0/envs/py380-django30/lib/python3.8/site-packages/IPython/utils/_process_common.py'>,\n",
       " 'IPython.utils._process_posix': <module 'IPython.utils._process_posix' from '/Users/ds/.pyenv/versions/3.8.0/envs/py380-django30/lib/python3.8/site-packages/IPython/utils/_process_posix.py'>,\n",
       " 'IPython.utils.process': <module 'IPython.utils.process' from '/Users/ds/.pyenv/versions/3.8.0/envs/py380-django30/lib/python3.8/site-packages/IPython/utils/process.py'>,\n",
       " 'IPython.utils.decorators': <module 'IPython.utils.decorators' from '/Users/ds/.pyenv/versions/3.8.0/envs/py380-django30/lib/python3.8/site-packages/IPython/utils/decorators.py'>,\n",
       " 'IPython.utils.path': <module 'IPython.utils.path' from '/Users/ds/.pyenv/versions/3.8.0/envs/py380-django30/lib/python3.8/site-packages/IPython/utils/path.py'>,\n",
       " 'IPython.utils.data': <module 'IPython.utils.data' from '/Users/ds/.pyenv/versions/3.8.0/envs/py380-django30/lib/python3.8/site-packages/IPython/utils/data.py'>,\n",
       " 'IPython.utils.terminal': <module 'IPython.utils.terminal' from '/Users/ds/.pyenv/versions/3.8.0/envs/py380-django30/lib/python3.8/site-packages/IPython/utils/terminal.py'>,\n",
       " 'IPython.core.ultratb': <module 'IPython.core.ultratb' from '/Users/ds/.pyenv/versions/3.8.0/envs/py380-django30/lib/python3.8/site-packages/IPython/core/ultratb.py'>,\n",
       " 'IPython.utils._sysinfo': <module 'IPython.utils._sysinfo' from '/Users/ds/.pyenv/versions/3.8.0/envs/py380-django30/lib/python3.8/site-packages/IPython/utils/_sysinfo.py'>,\n",
       " 'IPython.utils.sysinfo': <module 'IPython.utils.sysinfo' from '/Users/ds/.pyenv/versions/3.8.0/envs/py380-django30/lib/python3.8/site-packages/IPython/utils/sysinfo.py'>,\n",
       " 'IPython.core.crashhandler': <module 'IPython.core.crashhandler' from '/Users/ds/.pyenv/versions/3.8.0/envs/py380-django30/lib/python3.8/site-packages/IPython/core/crashhandler.py'>,\n",
       " 'tempfile': <module 'tempfile' from '/Users/ds/.pyenv/versions/3.8.0/lib/python3.8/tempfile.py'>,\n",
       " 'IPython.utils.importstring': <module 'IPython.utils.importstring' from '/Users/ds/.pyenv/versions/3.8.0/envs/py380-django30/lib/python3.8/site-packages/IPython/utils/importstring.py'>,\n",
       " 'IPython.paths': <module 'IPython.paths' from '/Users/ds/.pyenv/versions/3.8.0/envs/py380-django30/lib/python3.8/site-packages/IPython/paths.py'>,\n",
       " 'IPython.core.profiledir': <module 'IPython.core.profiledir' from '/Users/ds/.pyenv/versions/3.8.0/envs/py380-django30/lib/python3.8/site-packages/IPython/core/profiledir.py'>,\n",
       " 'IPython.core.application': <module 'IPython.core.application' from '/Users/ds/.pyenv/versions/3.8.0/envs/py380-django30/lib/python3.8/site-packages/IPython/core/application.py'>,\n",
       " 'IPython.terminal': <module 'IPython.terminal' from '/Users/ds/.pyenv/versions/3.8.0/envs/py380-django30/lib/python3.8/site-packages/IPython/terminal/__init__.py'>,\n",
       " '_hashlib': <module '_hashlib' from '/Users/ds/.pyenv/versions/3.8.0/lib/python3.8/lib-dynload/_hashlib.cpython-38-darwin.so'>,\n",
       " '_blake2': <module '_blake2' from '/Users/ds/.pyenv/versions/3.8.0/lib/python3.8/lib-dynload/_blake2.cpython-38-darwin.so'>,\n",
       " '_sha3': <module '_sha3' from '/Users/ds/.pyenv/versions/3.8.0/lib/python3.8/lib-dynload/_sha3.cpython-38-darwin.so'>,\n",
       " 'hashlib': <module 'hashlib' from '/Users/ds/.pyenv/versions/3.8.0/lib/python3.8/hashlib.py'>,\n",
       " 'IPython.core.compilerop': <module 'IPython.core.compilerop' from '/Users/ds/.pyenv/versions/3.8.0/envs/py380-django30/lib/python3.8/site-packages/IPython/core/compilerop.py'>,\n",
       " 'IPython.core.error': <module 'IPython.core.error' from '/Users/ds/.pyenv/versions/3.8.0/envs/py380-django30/lib/python3.8/site-packages/IPython/core/error.py'>,\n",
       " 'ntpath': <module 'ntpath' from '/Users/ds/.pyenv/versions/3.8.0/lib/python3.8/ntpath.py'>,\n",
       " 'pathlib': <module 'pathlib' from '/Users/ds/.pyenv/versions/3.8.0/lib/python3.8/pathlib.py'>,\n",
       " 'IPython.utils.text': <module 'IPython.utils.text' from '/Users/ds/.pyenv/versions/3.8.0/envs/py380-django30/lib/python3.8/site-packages/IPython/utils/text.py'>,\n",
       " 'IPython.core.magic_arguments': <module 'IPython.core.magic_arguments' from '/Users/ds/.pyenv/versions/3.8.0/envs/py380-django30/lib/python3.8/site-packages/IPython/core/magic_arguments.py'>,\n",
       " 'getopt': <module 'getopt' from '/Users/ds/.pyenv/versions/3.8.0/lib/python3.8/getopt.py'>,\n",
       " 'typing.io': typing.io,\n",
       " 'typing.re': typing.re,\n",
       " 'typing': <module 'typing' from '/Users/ds/.pyenv/versions/3.8.0/lib/python3.8/typing.py'>,\n",
       " 'binascii': <module 'binascii' from '/Users/ds/.pyenv/versions/3.8.0/lib/python3.8/lib-dynload/binascii.cpython-38-darwin.so'>,\n",
       " 'mimetypes': <module 'mimetypes' from '/Users/ds/.pyenv/versions/3.8.0/lib/python3.8/mimetypes.py'>,\n",
       " 'IPython.core.display': <module 'IPython.core.display' from '/Users/ds/.pyenv/versions/3.8.0/envs/py380-django30/lib/python3.8/site-packages/IPython/core/display.py'>,\n",
       " 'IPython.core.page': <module 'IPython.core.page' from '/Users/ds/.pyenv/versions/3.8.0/envs/py380-django30/lib/python3.8/site-packages/IPython/core/page.py'>,\n",
       " 'getpass': <module 'getpass' from '/Users/ds/.pyenv/versions/3.8.0/lib/python3.8/getpass.py'>,\n",
       " 'IPython.lib.security': <module 'IPython.lib.security' from '/Users/ds/.pyenv/versions/3.8.0/envs/py380-django30/lib/python3.8/site-packages/IPython/lib/security.py'>,\n",
       " 'IPython.lib': <module 'IPython.lib' from '/Users/ds/.pyenv/versions/3.8.0/envs/py380-django30/lib/python3.8/site-packages/IPython/lib/__init__.py'>,\n",
       " '_datetime': <module '_datetime' from '/Users/ds/.pyenv/versions/3.8.0/lib/python3.8/lib-dynload/_datetime.cpython-38-darwin.so'>,\n",
       " 'datetime': <module 'datetime' from '/Users/ds/.pyenv/versions/3.8.0/lib/python3.8/datetime.py'>,\n",
       " 'IPython.lib.pretty': <module 'IPython.lib.pretty' from '/Users/ds/.pyenv/versions/3.8.0/envs/py380-django30/lib/python3.8/site-packages/IPython/lib/pretty.py'>,\n",
       " 'IPython.utils.openpy': <module 'IPython.utils.openpy' from '/Users/ds/.pyenv/versions/3.8.0/envs/py380-django30/lib/python3.8/site-packages/IPython/utils/openpy.py'>,\n",
       " 'IPython.utils.dir2': <module 'IPython.utils.dir2' from '/Users/ds/.pyenv/versions/3.8.0/envs/py380-django30/lib/python3.8/site-packages/IPython/utils/dir2.py'>,\n",
       " 'IPython.utils.wildcard': <module 'IPython.utils.wildcard' from '/Users/ds/.pyenv/versions/3.8.0/envs/py380-django30/lib/python3.8/site-packages/IPython/utils/wildcard.py'>,\n",
       " 'pygments.lexers._mapping': <module 'pygments.lexers._mapping' from '/Users/ds/.pyenv/versions/3.8.0/envs/py380-django30/lib/python3.8/site-packages/pygments/lexers/_mapping.py'>,\n",
       " 'pygments.modeline': <module 'pygments.modeline' from '/Users/ds/.pyenv/versions/3.8.0/envs/py380-django30/lib/python3.8/site-packages/pygments/modeline.py'>,\n",
       " 'pygments.plugin': <module 'pygments.plugin' from '/Users/ds/.pyenv/versions/3.8.0/envs/py380-django30/lib/python3.8/site-packages/pygments/plugin.py'>,\n",
       " 'pygments.lexers': <module 'pygments.lexers' from '/Users/ds/.pyenv/versions/3.8.0/envs/py380-django30/lib/python3.8/site-packages/pygments/lexers/__init__.py'>,\n",
       " 'pygments.filter': <module 'pygments.filter' from '/Users/ds/.pyenv/versions/3.8.0/envs/py380-django30/lib/python3.8/site-packages/pygments/filter.py'>,\n",
       " 'pygments.token': <module 'pygments.token' from '/Users/ds/.pyenv/versions/3.8.0/envs/py380-django30/lib/python3.8/site-packages/pygments/token.py'>,\n",
       " 'pygments.filters': <module 'pygments.filters' from '/Users/ds/.pyenv/versions/3.8.0/envs/py380-django30/lib/python3.8/site-packages/pygments/filters/__init__.py'>,\n",
       " 'pygments.regexopt': <module 'pygments.regexopt' from '/Users/ds/.pyenv/versions/3.8.0/envs/py380-django30/lib/python3.8/site-packages/pygments/regexopt.py'>,\n",
       " 'pygments.lexer': <module 'pygments.lexer' from '/Users/ds/.pyenv/versions/3.8.0/envs/py380-django30/lib/python3.8/site-packages/pygments/lexer.py'>,\n",
       " 'pygments.unistring': <module 'pygments.unistring' from '/Users/ds/.pyenv/versions/3.8.0/envs/py380-django30/lib/python3.8/site-packages/pygments/unistring.py'>,\n",
       " 'pygments.lexers.python': <module 'pygments.lexers.python' from '/Users/ds/.pyenv/versions/3.8.0/envs/py380-django30/lib/python3.8/site-packages/pygments/lexers/python.py'>,\n",
       " 'pygments.formatters._mapping': <module 'pygments.formatters._mapping' from '/Users/ds/.pyenv/versions/3.8.0/envs/py380-django30/lib/python3.8/site-packages/pygments/formatters/_mapping.py'>,\n",
       " 'pygments.formatters': <module 'pygments.formatters' from '/Users/ds/.pyenv/versions/3.8.0/envs/py380-django30/lib/python3.8/site-packages/pygments/formatters/__init__.py'>,\n",
       " 'pygments.styles': <module 'pygments.styles' from '/Users/ds/.pyenv/versions/3.8.0/envs/py380-django30/lib/python3.8/site-packages/pygments/styles/__init__.py'>,\n",
       " 'pygments.formatter': <module 'pygments.formatter' from '/Users/ds/.pyenv/versions/3.8.0/envs/py380-django30/lib/python3.8/site-packages/pygments/formatter.py'>,\n",
       " 'pygments.formatters.html': <module 'pygments.formatters.html' from '/Users/ds/.pyenv/versions/3.8.0/envs/py380-django30/lib/python3.8/site-packages/pygments/formatters/html.py'>,\n",
       " 'IPython.core.oinspect': <module 'IPython.core.oinspect' from '/Users/ds/.pyenv/versions/3.8.0/envs/py380-django30/lib/python3.8/site-packages/IPython/core/oinspect.py'>,\n",
       " 'IPython.core.inputtransformer2': <module 'IPython.core.inputtransformer2' from '/Users/ds/.pyenv/versions/3.8.0/envs/py380-django30/lib/python3.8/site-packages/IPython/core/inputtransformer2.py'>,\n",
       " 'IPython.core.magic': <module 'IPython.core.magic' from '/Users/ds/.pyenv/versions/3.8.0/envs/py380-django30/lib/python3.8/site-packages/IPython/core/magic.py'>,\n",
       " '_compat_pickle': <module '_compat_pickle' from '/Users/ds/.pyenv/versions/3.8.0/lib/python3.8/_compat_pickle.py'>,\n",
       " '_pickle': <module '_pickle' from '/Users/ds/.pyenv/versions/3.8.0/lib/python3.8/lib-dynload/_pickle.cpython-38-darwin.so'>,\n",
       " 'pickle': <module 'pickle' from '/Users/ds/.pyenv/versions/3.8.0/lib/python3.8/pickle.py'>,\n",
       " 'pickleshare': <module 'pickleshare' from '/Users/ds/.pyenv/versions/3.8.0/envs/py380-django30/lib/python3.8/site-packages/pickleshare.py'>,\n",
       " 'IPython.core.autocall': <module 'IPython.core.autocall' from '/Users/ds/.pyenv/versions/3.8.0/envs/py380-django30/lib/python3.8/site-packages/IPython/core/autocall.py'>,\n",
       " 'IPython.core.macro': <module 'IPython.core.macro' from '/Users/ds/.pyenv/versions/3.8.0/envs/py380-django30/lib/python3.8/site-packages/IPython/core/macro.py'>,\n",
       " 'IPython.core.splitinput': <module 'IPython.core.splitinput' from '/Users/ds/.pyenv/versions/3.8.0/envs/py380-django30/lib/python3.8/site-packages/IPython/core/splitinput.py'>,\n",
       " 'IPython.core.prefilter': <module 'IPython.core.prefilter' from '/Users/ds/.pyenv/versions/3.8.0/envs/py380-django30/lib/python3.8/site-packages/IPython/core/prefilter.py'>,\n",
       " 'IPython.core.alias': <module 'IPython.core.alias' from '/Users/ds/.pyenv/versions/3.8.0/envs/py380-django30/lib/python3.8/site-packages/IPython/core/alias.py'>,\n",
       " 'IPython.core.builtin_trap': <module 'IPython.core.builtin_trap' from '/Users/ds/.pyenv/versions/3.8.0/envs/py380-django30/lib/python3.8/site-packages/IPython/core/builtin_trap.py'>,\n",
       " 'backcall.backcall': <module 'backcall.backcall' from '/Users/ds/.pyenv/versions/3.8.0/envs/py380-django30/lib/python3.8/site-packages/backcall/backcall.py'>,\n",
       " 'backcall': <module 'backcall' from '/Users/ds/.pyenv/versions/3.8.0/envs/py380-django30/lib/python3.8/site-packages/backcall/__init__.py'>,\n",
       " 'IPython.core.events': <module 'IPython.core.events' from '/Users/ds/.pyenv/versions/3.8.0/envs/py380-django30/lib/python3.8/site-packages/IPython/core/events.py'>,\n",
       " 'IPython.core.displayhook': <module 'IPython.core.displayhook' from '/Users/ds/.pyenv/versions/3.8.0/envs/py380-django30/lib/python3.8/site-packages/IPython/core/displayhook.py'>,\n",
       " 'IPython.core.displaypub': <module 'IPython.core.displaypub' from '/Users/ds/.pyenv/versions/3.8.0/envs/py380-django30/lib/python3.8/site-packages/IPython/core/displaypub.py'>,\n",
       " 'IPython.core.extensions': <module 'IPython.core.extensions' from '/Users/ds/.pyenv/versions/3.8.0/envs/py380-django30/lib/python3.8/site-packages/IPython/core/extensions.py'>,\n",
       " 'IPython.utils.sentinel': <module 'IPython.utils.sentinel' from '/Users/ds/.pyenv/versions/3.8.0/envs/py380-django30/lib/python3.8/site-packages/IPython/utils/sentinel.py'>,\n",
       " 'IPython.core.formatters': <module 'IPython.core.formatters' from '/Users/ds/.pyenv/versions/3.8.0/envs/py380-django30/lib/python3.8/site-packages/IPython/core/formatters.py'>,\n",
       " '_sqlite3': <module '_sqlite3' from '/Users/ds/.pyenv/versions/3.8.0/lib/python3.8/lib-dynload/_sqlite3.cpython-38-darwin.so'>,\n",
       " 'sqlite3.dbapi2': <module 'sqlite3.dbapi2' from '/Users/ds/.pyenv/versions/3.8.0/lib/python3.8/sqlite3/dbapi2.py'>,\n",
       " 'sqlite3': <module 'sqlite3' from '/Users/ds/.pyenv/versions/3.8.0/lib/python3.8/sqlite3/__init__.py'>,\n",
       " 'IPython.core.history': <module 'IPython.core.history' from '/Users/ds/.pyenv/versions/3.8.0/envs/py380-django30/lib/python3.8/site-packages/IPython/core/history.py'>,\n",
       " 'IPython.core.logger': <module 'IPython.core.logger' from '/Users/ds/.pyenv/versions/3.8.0/envs/py380-django30/lib/python3.8/site-packages/IPython/core/logger.py'>,\n",
       " 'IPython.core.payload': <module 'IPython.core.payload' from '/Users/ds/.pyenv/versions/3.8.0/envs/py380-django30/lib/python3.8/site-packages/IPython/core/payload.py'>,\n",
       " 'IPython.core.usage': <module 'IPython.core.usage' from '/Users/ds/.pyenv/versions/3.8.0/envs/py380-django30/lib/python3.8/site-packages/IPython/core/usage.py'>,\n",
       " 'html.entities': <module 'html.entities' from '/Users/ds/.pyenv/versions/3.8.0/lib/python3.8/html/entities.py'>,\n",
       " 'html': <module 'html' from '/Users/ds/.pyenv/versions/3.8.0/lib/python3.8/html/__init__.py'>,\n",
       " 'IPython.lib.display': <module 'IPython.lib.display' from '/Users/ds/.pyenv/versions/3.8.0/envs/py380-django30/lib/python3.8/site-packages/IPython/lib/display.py'>,\n",
       " 'IPython.display': <module 'IPython.display' from '/Users/ds/.pyenv/versions/3.8.0/envs/py380-django30/lib/python3.8/site-packages/IPython/display.py'>,\n",
       " 'IPython.utils.capture': <module 'IPython.utils.capture' from '/Users/ds/.pyenv/versions/3.8.0/envs/py380-django30/lib/python3.8/site-packages/IPython/utils/capture.py'>,\n",
       " '_bootlocale': <module '_bootlocale' from '/Users/ds/.pyenv/versions/3.8.0/lib/python3.8/_bootlocale.py'>,\n",
       " 'IPython.utils.io': <module 'IPython.utils.io' from '/Users/ds/.pyenv/versions/3.8.0/envs/py380-django30/lib/python3.8/site-packages/IPython/utils/io.py'>,\n",
       " 'IPython.core.hooks': <module 'IPython.core.hooks' from '/Users/ds/.pyenv/versions/3.8.0/envs/py380-django30/lib/python3.8/site-packages/IPython/core/hooks.py'>,\n",
       " 'IPython.utils.strdispatch': <module 'IPython.utils.strdispatch' from '/Users/ds/.pyenv/versions/3.8.0/envs/py380-django30/lib/python3.8/site-packages/IPython/utils/strdispatch.py'>,\n",
       " 'IPython.utils.syspathcontext': <module 'IPython.utils.syspathcontext' from '/Users/ds/.pyenv/versions/3.8.0/envs/py380-django30/lib/python3.8/site-packages/IPython/utils/syspathcontext.py'>,\n",
       " 'IPython.utils.tempdir': <module 'IPython.utils.tempdir' from '/Users/ds/.pyenv/versions/3.8.0/envs/py380-django30/lib/python3.8/site-packages/IPython/utils/tempdir.py'>,\n",
       " 'IPython.utils.contexts': <module 'IPython.utils.contexts' from '/Users/ds/.pyenv/versions/3.8.0/envs/py380-django30/lib/python3.8/site-packages/IPython/utils/contexts.py'>,\n",
       " 'IPython.core.async_helpers': <module 'IPython.core.async_helpers' from '/Users/ds/.pyenv/versions/3.8.0/envs/py380-django30/lib/python3.8/site-packages/IPython/core/async_helpers.py'>,\n",
       " 'IPython.core.interactiveshell': <module 'IPython.core.interactiveshell' from '/Users/ds/.pyenv/versions/3.8.0/envs/py380-django30/lib/python3.8/site-packages/IPython/core/interactiveshell.py'>,\n",
       " 'concurrent': <module 'concurrent' from '/Users/ds/.pyenv/versions/3.8.0/lib/python3.8/concurrent/__init__.py'>,\n",
       " 'concurrent.futures._base': <module 'concurrent.futures._base' from '/Users/ds/.pyenv/versions/3.8.0/lib/python3.8/concurrent/futures/_base.py'>,\n",
       " 'concurrent.futures': <module 'concurrent.futures' from '/Users/ds/.pyenv/versions/3.8.0/lib/python3.8/concurrent/futures/__init__.py'>,\n",
       " '_socket': <module '_socket' from '/Users/ds/.pyenv/versions/3.8.0/lib/python3.8/lib-dynload/_socket.cpython-38-darwin.so'>,\n",
       " 'socket': <module 'socket' from '/Users/ds/.pyenv/versions/3.8.0/lib/python3.8/socket.py'>,\n",
       " '_ssl': <module '_ssl' from '/Users/ds/.pyenv/versions/3.8.0/lib/python3.8/lib-dynload/_ssl.cpython-38-darwin.so'>,\n",
       " 'base64': <module 'base64' from '/Users/ds/.pyenv/versions/3.8.0/lib/python3.8/base64.py'>,\n",
       " 'ssl': <module 'ssl' from '/Users/ds/.pyenv/versions/3.8.0/lib/python3.8/ssl.py'>,\n",
       " 'asyncio.constants': <module 'asyncio.constants' from '/Users/ds/.pyenv/versions/3.8.0/lib/python3.8/asyncio/constants.py'>,\n",
       " 'asyncio.format_helpers': <module 'asyncio.format_helpers' from '/Users/ds/.pyenv/versions/3.8.0/lib/python3.8/asyncio/format_helpers.py'>,\n",
       " 'asyncio.base_futures': <module 'asyncio.base_futures' from '/Users/ds/.pyenv/versions/3.8.0/lib/python3.8/asyncio/base_futures.py'>,\n",
       " 'asyncio.log': <module 'asyncio.log' from '/Users/ds/.pyenv/versions/3.8.0/lib/python3.8/asyncio/log.py'>,\n",
       " 'asyncio.coroutines': <module 'asyncio.coroutines' from '/Users/ds/.pyenv/versions/3.8.0/lib/python3.8/asyncio/coroutines.py'>,\n",
       " '_contextvars': <module '_contextvars' from '/Users/ds/.pyenv/versions/3.8.0/lib/python3.8/lib-dynload/_contextvars.cpython-38-darwin.so'>,\n",
       " 'contextvars': <module 'contextvars' from '/Users/ds/.pyenv/versions/3.8.0/lib/python3.8/contextvars.py'>,\n",
       " 'asyncio.exceptions': <module 'asyncio.exceptions' from '/Users/ds/.pyenv/versions/3.8.0/lib/python3.8/asyncio/exceptions.py'>,\n",
       " 'asyncio.base_tasks': <module 'asyncio.base_tasks' from '/Users/ds/.pyenv/versions/3.8.0/lib/python3.8/asyncio/base_tasks.py'>,\n",
       " '_asyncio': <module '_asyncio' from '/Users/ds/.pyenv/versions/3.8.0/lib/python3.8/lib-dynload/_asyncio.cpython-38-darwin.so'>,\n",
       " 'asyncio.events': <module 'asyncio.events' from '/Users/ds/.pyenv/versions/3.8.0/lib/python3.8/asyncio/events.py'>,\n",
       " 'asyncio.futures': <module 'asyncio.futures' from '/Users/ds/.pyenv/versions/3.8.0/lib/python3.8/asyncio/futures.py'>,\n",
       " 'asyncio.protocols': <module 'asyncio.protocols' from '/Users/ds/.pyenv/versions/3.8.0/lib/python3.8/asyncio/protocols.py'>,\n",
       " 'asyncio.transports': <module 'asyncio.transports' from '/Users/ds/.pyenv/versions/3.8.0/lib/python3.8/asyncio/transports.py'>,\n",
       " 'asyncio.sslproto': <module 'asyncio.sslproto' from '/Users/ds/.pyenv/versions/3.8.0/lib/python3.8/asyncio/sslproto.py'>,\n",
       " 'asyncio.locks': <module 'asyncio.locks' from '/Users/ds/.pyenv/versions/3.8.0/lib/python3.8/asyncio/locks.py'>,\n",
       " 'asyncio.tasks': <module 'asyncio.tasks' from '/Users/ds/.pyenv/versions/3.8.0/lib/python3.8/asyncio/tasks.py'>,\n",
       " 'asyncio.staggered': <module 'asyncio.staggered' from '/Users/ds/.pyenv/versions/3.8.0/lib/python3.8/asyncio/staggered.py'>,\n",
       " 'asyncio.trsock': <module 'asyncio.trsock' from '/Users/ds/.pyenv/versions/3.8.0/lib/python3.8/asyncio/trsock.py'>,\n",
       " 'asyncio.base_events': <module 'asyncio.base_events' from '/Users/ds/.pyenv/versions/3.8.0/lib/python3.8/asyncio/base_events.py'>,\n",
       " 'asyncio.runners': <module 'asyncio.runners' from '/Users/ds/.pyenv/versions/3.8.0/lib/python3.8/asyncio/runners.py'>,\n",
       " 'asyncio.queues': <module 'asyncio.queues' from '/Users/ds/.pyenv/versions/3.8.0/lib/python3.8/asyncio/queues.py'>,\n",
       " 'asyncio.streams': <module 'asyncio.streams' from '/Users/ds/.pyenv/versions/3.8.0/lib/python3.8/asyncio/streams.py'>,\n",
       " 'asyncio.subprocess': <module 'asyncio.subprocess' from '/Users/ds/.pyenv/versions/3.8.0/lib/python3.8/asyncio/subprocess.py'>,\n",
       " 'asyncio.base_subprocess': <module 'asyncio.base_subprocess' from '/Users/ds/.pyenv/versions/3.8.0/lib/python3.8/asyncio/base_subprocess.py'>,\n",
       " 'asyncio.selector_events': <module 'asyncio.selector_events' from '/Users/ds/.pyenv/versions/3.8.0/lib/python3.8/asyncio/selector_events.py'>,\n",
       " 'asyncio.unix_events': <module 'asyncio.unix_events' from '/Users/ds/.pyenv/versions/3.8.0/lib/python3.8/asyncio/unix_events.py'>,\n",
       " 'asyncio': <module 'asyncio' from '/Users/ds/.pyenv/versions/3.8.0/lib/python3.8/asyncio/__init__.py'>,\n",
       " 'prompt_toolkit.application.current': <module 'prompt_toolkit.application.current' from '/Users/ds/.pyenv/versions/3.8.0/envs/py380-django30/lib/python3.8/site-packages/prompt_toolkit/application/current.py'>,\n",
       " 'prompt_toolkit.eventloop.utils': <module 'prompt_toolkit.eventloop.utils' from '/Users/ds/.pyenv/versions/3.8.0/envs/py380-django30/lib/python3.8/site-packages/prompt_toolkit/eventloop/utils.py'>,\n",
       " 'prompt_toolkit.eventloop.async_generator': <module 'prompt_toolkit.eventloop.async_generator' from '/Users/ds/.pyenv/versions/3.8.0/envs/py380-django30/lib/python3.8/site-packages/prompt_toolkit/eventloop/async_generator.py'>,\n",
       " 'wcwidth.table_wide': <module 'wcwidth.table_wide' from '/Users/ds/.pyenv/versions/3.8.0/envs/py380-django30/lib/python3.8/site-packages/wcwidth/table_wide.py'>,\n",
       " 'wcwidth.table_zero': <module 'wcwidth.table_zero' from '/Users/ds/.pyenv/versions/3.8.0/envs/py380-django30/lib/python3.8/site-packages/wcwidth/table_zero.py'>,\n",
       " 'wcwidth.wcwidth': <module 'wcwidth.wcwidth' from '/Users/ds/.pyenv/versions/3.8.0/envs/py380-django30/lib/python3.8/site-packages/wcwidth/wcwidth.py'>,\n",
       " 'wcwidth': <module 'wcwidth' from '/Users/ds/.pyenv/versions/3.8.0/envs/py380-django30/lib/python3.8/site-packages/wcwidth/__init__.py'>,\n",
       " 'prompt_toolkit.utils': <module 'prompt_toolkit.utils' from '/Users/ds/.pyenv/versions/3.8.0/envs/py380-django30/lib/python3.8/site-packages/prompt_toolkit/utils.py'>,\n",
       " 'prompt_toolkit.eventloop.inputhook': <module 'prompt_toolkit.eventloop.inputhook' from '/Users/ds/.pyenv/versions/3.8.0/envs/py380-django30/lib/python3.8/site-packages/prompt_toolkit/eventloop/inputhook.py'>,\n",
       " 'prompt_toolkit.eventloop': <module 'prompt_toolkit.eventloop' from '/Users/ds/.pyenv/versions/3.8.0/envs/py380-django30/lib/python3.8/site-packages/prompt_toolkit/eventloop/__init__.py'>,\n",
       " 'prompt_toolkit.application.run_in_terminal': <module 'prompt_toolkit.application.run_in_terminal' from '/Users/ds/.pyenv/versions/3.8.0/envs/py380-django30/lib/python3.8/site-packages/prompt_toolkit/application/run_in_terminal.py'>,\n",
       " 'prompt_toolkit.selection': <module 'prompt_toolkit.selection' from '/Users/ds/.pyenv/versions/3.8.0/envs/py380-django30/lib/python3.8/site-packages/prompt_toolkit/selection.py'>,\n",
       " 'prompt_toolkit.clipboard.base': <module 'prompt_toolkit.clipboard.base' from '/Users/ds/.pyenv/versions/3.8.0/envs/py380-django30/lib/python3.8/site-packages/prompt_toolkit/clipboard/base.py'>,\n",
       " 'prompt_toolkit.clipboard.in_memory': <module 'prompt_toolkit.clipboard.in_memory' from '/Users/ds/.pyenv/versions/3.8.0/envs/py380-django30/lib/python3.8/site-packages/prompt_toolkit/clipboard/in_memory.py'>,\n",
       " 'prompt_toolkit.clipboard': <module 'prompt_toolkit.clipboard' from '/Users/ds/.pyenv/versions/3.8.0/envs/py380-django30/lib/python3.8/site-packages/prompt_toolkit/clipboard/__init__.py'>,\n",
       " 'prompt_toolkit.cache': <module 'prompt_toolkit.cache' from '/Users/ds/.pyenv/versions/3.8.0/envs/py380-django30/lib/python3.8/site-packages/prompt_toolkit/cache.py'>,\n",
       " 'prompt_toolkit.enums': <module 'prompt_toolkit.enums' from '/Users/ds/.pyenv/versions/3.8.0/envs/py380-django30/lib/python3.8/site-packages/prompt_toolkit/enums.py'>,\n",
       " 'prompt_toolkit.filters.base': <module 'prompt_toolkit.filters.base' from '/Users/ds/.pyenv/versions/3.8.0/envs/py380-django30/lib/python3.8/site-packages/prompt_toolkit/filters/base.py'>,\n",
       " 'prompt_toolkit.filters.app': <module 'prompt_toolkit.filters.app' from '/Users/ds/.pyenv/versions/3.8.0/envs/py380-django30/lib/python3.8/site-packages/prompt_toolkit/filters/app.py'>,\n",
       " 'prompt_toolkit.filters.cli': <module 'prompt_toolkit.filters.cli' from '/Users/ds/.pyenv/versions/3.8.0/envs/py380-django30/lib/python3.8/site-packages/prompt_toolkit/filters/cli.py'>,\n",
       " 'prompt_toolkit.filters.utils': <module 'prompt_toolkit.filters.utils' from '/Users/ds/.pyenv/versions/3.8.0/envs/py380-django30/lib/python3.8/site-packages/prompt_toolkit/filters/utils.py'>,\n",
       " 'prompt_toolkit.filters': <module 'prompt_toolkit.filters' from '/Users/ds/.pyenv/versions/3.8.0/envs/py380-django30/lib/python3.8/site-packages/prompt_toolkit/filters/__init__.py'>,\n",
       " 'prompt_toolkit.document': <module 'prompt_toolkit.document' from '/Users/ds/.pyenv/versions/3.8.0/envs/py380-django30/lib/python3.8/site-packages/prompt_toolkit/document.py'>,\n",
       " 'prompt_toolkit.auto_suggest': <module 'prompt_toolkit.auto_suggest' from '/Users/ds/.pyenv/versions/3.8.0/envs/py380-django30/lib/python3.8/site-packages/prompt_toolkit/auto_suggest.py'>,\n",
       " 'prompt_toolkit.data_structures': <module 'prompt_toolkit.data_structures' from '/Users/ds/.pyenv/versions/3.8.0/envs/py380-django30/lib/python3.8/site-packages/prompt_toolkit/data_structures.py'>,\n",
       " 'prompt_toolkit.styles.base': <module 'prompt_toolkit.styles.base' from '/Users/ds/.pyenv/versions/3.8.0/envs/py380-django30/lib/python3.8/site-packages/prompt_toolkit/styles/base.py'>,\n",
       " 'prompt_toolkit.styles.named_colors': <module 'prompt_toolkit.styles.named_colors' from '/Users/ds/.pyenv/versions/3.8.0/envs/py380-django30/lib/python3.8/site-packages/prompt_toolkit/styles/named_colors.py'>,\n",
       " 'prompt_toolkit.styles.style': <module 'prompt_toolkit.styles.style' from '/Users/ds/.pyenv/versions/3.8.0/envs/py380-django30/lib/python3.8/site-packages/prompt_toolkit/styles/style.py'>,\n",
       " 'prompt_toolkit.styles.defaults': <module 'prompt_toolkit.styles.defaults' from '/Users/ds/.pyenv/versions/3.8.0/envs/py380-django30/lib/python3.8/site-packages/prompt_toolkit/styles/defaults.py'>,\n",
       " 'prompt_toolkit.styles.pygments': <module 'prompt_toolkit.styles.pygments' from '/Users/ds/.pyenv/versions/3.8.0/envs/py380-django30/lib/python3.8/site-packages/prompt_toolkit/styles/pygments.py'>,\n",
       " 'colorsys': <module 'colorsys' from '/Users/ds/.pyenv/versions/3.8.0/lib/python3.8/colorsys.py'>,\n",
       " 'prompt_toolkit.styles.style_transformation': <module 'prompt_toolkit.styles.style_transformation' from '/Users/ds/.pyenv/versions/3.8.0/envs/py380-django30/lib/python3.8/site-packages/prompt_toolkit/styles/style_transformation.py'>,\n",
       " 'prompt_toolkit.styles': <module 'prompt_toolkit.styles' from '/Users/ds/.pyenv/versions/3.8.0/envs/py380-django30/lib/python3.8/site-packages/prompt_toolkit/styles/__init__.py'>,\n",
       " 'prompt_toolkit.output.color_depth': <module 'prompt_toolkit.output.color_depth' from '/Users/ds/.pyenv/versions/3.8.0/envs/py380-django30/lib/python3.8/site-packages/prompt_toolkit/output/color_depth.py'>,\n",
       " 'prompt_toolkit.output.base': <module 'prompt_toolkit.output.base' from '/Users/ds/.pyenv/versions/3.8.0/envs/py380-django30/lib/python3.8/site-packages/prompt_toolkit/output/base.py'>,\n",
       " 'prompt_toolkit.patch_stdout': <module 'prompt_toolkit.patch_stdout' from '/Users/ds/.pyenv/versions/3.8.0/envs/py380-django30/lib/python3.8/site-packages/prompt_toolkit/patch_stdout.py'>,\n",
       " 'prompt_toolkit.output.defaults': <module 'prompt_toolkit.output.defaults' from '/Users/ds/.pyenv/versions/3.8.0/envs/py380-django30/lib/python3.8/site-packages/prompt_toolkit/output/defaults.py'>,\n",
       " 'prompt_toolkit.output': <module 'prompt_toolkit.output' from '/Users/ds/.pyenv/versions/3.8.0/envs/py380-django30/lib/python3.8/site-packages/prompt_toolkit/output/__init__.py'>,\n",
       " 'array': <module 'array' from '/Users/ds/.pyenv/versions/3.8.0/lib/python3.8/lib-dynload/array.cpython-38-darwin.so'>,\n",
       " 'prompt_toolkit.output.vt100': <module 'prompt_toolkit.output.vt100' from '/Users/ds/.pyenv/versions/3.8.0/envs/py380-django30/lib/python3.8/site-packages/prompt_toolkit/output/vt100.py'>,\n",
       " 'prompt_toolkit.mouse_events': <module 'prompt_toolkit.mouse_events' from '/Users/ds/.pyenv/versions/3.8.0/envs/py380-django30/lib/python3.8/site-packages/prompt_toolkit/mouse_events.py'>,\n",
       " 'prompt_toolkit.formatted_text.base': <module 'prompt_toolkit.formatted_text.base' from '/Users/ds/.pyenv/versions/3.8.0/envs/py380-django30/lib/python3.8/site-packages/prompt_toolkit/formatted_text/base.py'>,\n",
       " 'prompt_toolkit.formatted_text.ansi': <module 'prompt_toolkit.formatted_text.ansi' from '/Users/ds/.pyenv/versions/3.8.0/envs/py380-django30/lib/python3.8/site-packages/prompt_toolkit/formatted_text/ansi.py'>,\n",
       " 'xml': <module 'xml' from '/Users/ds/.pyenv/versions/3.8.0/lib/python3.8/xml/__init__.py'>,\n",
       " 'xml.dom.domreg': <module 'xml.dom.domreg' from '/Users/ds/.pyenv/versions/3.8.0/lib/python3.8/xml/dom/domreg.py'>,\n",
       " 'xml.dom': <module 'xml.dom' from '/Users/ds/.pyenv/versions/3.8.0/lib/python3.8/xml/dom/__init__.py'>,\n",
       " 'xml.dom.minicompat': <module 'xml.dom.minicompat' from '/Users/ds/.pyenv/versions/3.8.0/lib/python3.8/xml/dom/minicompat.py'>,\n",
       " 'xml.dom.NodeFilter': <module 'xml.dom.NodeFilter' from '/Users/ds/.pyenv/versions/3.8.0/lib/python3.8/xml/dom/NodeFilter.py'>,\n",
       " 'xml.dom.xmlbuilder': <module 'xml.dom.xmlbuilder' from '/Users/ds/.pyenv/versions/3.8.0/lib/python3.8/xml/dom/xmlbuilder.py'>,\n",
       " 'xml.dom.minidom': <module 'xml.dom.minidom' from '/Users/ds/.pyenv/versions/3.8.0/lib/python3.8/xml/dom/minidom.py'>,\n",
       " 'prompt_toolkit.formatted_text.html': <module 'prompt_toolkit.formatted_text.html' from '/Users/ds/.pyenv/versions/3.8.0/envs/py380-django30/lib/python3.8/site-packages/prompt_toolkit/formatted_text/html.py'>,\n",
       " 'prompt_toolkit.formatted_text.pygments': <module 'prompt_toolkit.formatted_text.pygments' from '/Users/ds/.pyenv/versions/3.8.0/envs/py380-django30/lib/python3.8/site-packages/prompt_toolkit/formatted_text/pygments.py'>,\n",
       " 'prompt_toolkit.formatted_text.utils': <module 'prompt_toolkit.formatted_text.utils' from '/Users/ds/.pyenv/versions/3.8.0/envs/py380-django30/lib/python3.8/site-packages/prompt_toolkit/formatted_text/utils.py'>,\n",
       " 'prompt_toolkit.formatted_text': <module 'prompt_toolkit.formatted_text' from '/Users/ds/.pyenv/versions/3.8.0/envs/py380-django30/lib/python3.8/site-packages/prompt_toolkit/formatted_text/__init__.py'>,\n",
       " 'prompt_toolkit.completion.base': <module 'prompt_toolkit.completion.base' from '/Users/ds/.pyenv/versions/3.8.0/envs/py380-django30/lib/python3.8/site-packages/prompt_toolkit/completion/base.py'>,\n",
       " 'prompt_toolkit.completion.filesystem': <module 'prompt_toolkit.completion.filesystem' from '/Users/ds/.pyenv/versions/3.8.0/envs/py380-django30/lib/python3.8/site-packages/prompt_toolkit/completion/filesystem.py'>,\n",
       " 'prompt_toolkit.completion.word_completer': <module 'prompt_toolkit.completion.word_completer' from '/Users/ds/.pyenv/versions/3.8.0/envs/py380-django30/lib/python3.8/site-packages/prompt_toolkit/completion/word_completer.py'>,\n",
       " 'prompt_toolkit.completion.fuzzy_completer': <module 'prompt_toolkit.completion.fuzzy_completer' from '/Users/ds/.pyenv/versions/3.8.0/envs/py380-django30/lib/python3.8/site-packages/prompt_toolkit/completion/fuzzy_completer.py'>,\n",
       " 'prompt_toolkit.completion.nested': <module 'prompt_toolkit.completion.nested' from '/Users/ds/.pyenv/versions/3.8.0/envs/py380-django30/lib/python3.8/site-packages/prompt_toolkit/completion/nested.py'>,\n",
       " 'prompt_toolkit.completion': <module 'prompt_toolkit.completion' from '/Users/ds/.pyenv/versions/3.8.0/envs/py380-django30/lib/python3.8/site-packages/prompt_toolkit/completion/__init__.py'>,\n",
       " 'prompt_toolkit.history': <module 'prompt_toolkit.history' from '/Users/ds/.pyenv/versions/3.8.0/envs/py380-django30/lib/python3.8/site-packages/prompt_toolkit/history.py'>,\n",
       " 'prompt_toolkit.keys': <module 'prompt_toolkit.keys' from '/Users/ds/.pyenv/versions/3.8.0/envs/py380-django30/lib/python3.8/site-packages/prompt_toolkit/keys.py'>,\n",
       " 'prompt_toolkit.key_binding.key_bindings': <module 'prompt_toolkit.key_binding.key_bindings' from '/Users/ds/.pyenv/versions/3.8.0/envs/py380-django30/lib/python3.8/site-packages/prompt_toolkit/key_binding/key_bindings.py'>,\n",
       " 'prompt_toolkit.key_binding.key_processor': <module 'prompt_toolkit.key_binding.key_processor' from '/Users/ds/.pyenv/versions/3.8.0/envs/py380-django30/lib/python3.8/site-packages/prompt_toolkit/key_binding/key_processor.py'>,\n",
       " 'prompt_toolkit.key_binding': <module 'prompt_toolkit.key_binding' from '/Users/ds/.pyenv/versions/3.8.0/envs/py380-django30/lib/python3.8/site-packages/prompt_toolkit/key_binding/__init__.py'>,\n",
       " 'prompt_toolkit.key_binding.vi_state': <module 'prompt_toolkit.key_binding.vi_state' from '/Users/ds/.pyenv/versions/3.8.0/envs/py380-django30/lib/python3.8/site-packages/prompt_toolkit/key_binding/vi_state.py'>,\n",
       " 'prompt_toolkit.search': <module 'prompt_toolkit.search' from '/Users/ds/.pyenv/versions/3.8.0/envs/py380-django30/lib/python3.8/site-packages/prompt_toolkit/search.py'>,\n",
       " 'prompt_toolkit.validation': <module 'prompt_toolkit.validation' from '/Users/ds/.pyenv/versions/3.8.0/envs/py380-django30/lib/python3.8/site-packages/prompt_toolkit/validation.py'>,\n",
       " 'prompt_toolkit.buffer': <module 'prompt_toolkit.buffer' from '/Users/ds/.pyenv/versions/3.8.0/envs/py380-django30/lib/python3.8/site-packages/prompt_toolkit/buffer.py'>,\n",
       " 'prompt_toolkit.input.base': <module 'prompt_toolkit.input.base' from '/Users/ds/.pyenv/versions/3.8.0/envs/py380-django30/lib/python3.8/site-packages/prompt_toolkit/input/base.py'>,\n",
       " 'prompt_toolkit.input.defaults': <module 'prompt_toolkit.input.defaults' from '/Users/ds/.pyenv/versions/3.8.0/envs/py380-django30/lib/python3.8/site-packages/prompt_toolkit/input/defaults.py'>,\n",
       " 'prompt_toolkit.input': <module 'prompt_toolkit.input' from '/Users/ds/.pyenv/versions/3.8.0/envs/py380-django30/lib/python3.8/site-packages/prompt_toolkit/input/__init__.py'>,\n",
       " 'prompt_toolkit.input.typeahead': <module 'prompt_toolkit.input.typeahead' from '/Users/ds/.pyenv/versions/3.8.0/envs/py380-django30/lib/python3.8/site-packages/prompt_toolkit/input/typeahead.py'>,\n",
       " 'prompt_toolkit.key_binding.bindings': <module 'prompt_toolkit.key_binding.bindings' from '/Users/ds/.pyenv/versions/3.8.0/envs/py380-django30/lib/python3.8/site-packages/prompt_toolkit/key_binding/bindings/__init__.py'>,\n",
       " 'prompt_toolkit.key_binding.bindings.scroll': <module 'prompt_toolkit.key_binding.bindings.scroll' from '/Users/ds/.pyenv/versions/3.8.0/envs/py380-django30/lib/python3.8/site-packages/prompt_toolkit/key_binding/bindings/scroll.py'>,\n",
       " 'prompt_toolkit.key_binding.bindings.page_navigation': <module 'prompt_toolkit.key_binding.bindings.page_navigation' from '/Users/ds/.pyenv/versions/3.8.0/envs/py380-django30/lib/python3.8/site-packages/prompt_toolkit/key_binding/bindings/page_navigation.py'>,\n",
       " 'prompt_toolkit.lexers.base': <module 'prompt_toolkit.lexers.base' from '/Users/ds/.pyenv/versions/3.8.0/envs/py380-django30/lib/python3.8/site-packages/prompt_toolkit/lexers/base.py'>,\n",
       " 'prompt_toolkit.lexers.pygments': <module 'prompt_toolkit.lexers.pygments' from '/Users/ds/.pyenv/versions/3.8.0/envs/py380-django30/lib/python3.8/site-packages/prompt_toolkit/lexers/pygments.py'>,\n",
       " 'prompt_toolkit.lexers': <module 'prompt_toolkit.lexers' from '/Users/ds/.pyenv/versions/3.8.0/envs/py380-django30/lib/python3.8/site-packages/prompt_toolkit/lexers/__init__.py'>,\n",
       " 'prompt_toolkit.layout.utils': <module 'prompt_toolkit.layout.utils' from '/Users/ds/.pyenv/versions/3.8.0/envs/py380-django30/lib/python3.8/site-packages/prompt_toolkit/layout/utils.py'>,\n",
       " 'prompt_toolkit.layout.processors': <module 'prompt_toolkit.layout.processors' from '/Users/ds/.pyenv/versions/3.8.0/envs/py380-django30/lib/python3.8/site-packages/prompt_toolkit/layout/processors.py'>,\n",
       " 'prompt_toolkit.layout.controls': <module 'prompt_toolkit.layout.controls' from '/Users/ds/.pyenv/versions/3.8.0/envs/py380-django30/lib/python3.8/site-packages/prompt_toolkit/layout/controls.py'>,\n",
       " 'prompt_toolkit.layout.dimension': <module 'prompt_toolkit.layout.dimension' from '/Users/ds/.pyenv/versions/3.8.0/envs/py380-django30/lib/python3.8/site-packages/prompt_toolkit/layout/dimension.py'>,\n",
       " 'prompt_toolkit.layout.margins': <module 'prompt_toolkit.layout.margins' from '/Users/ds/.pyenv/versions/3.8.0/envs/py380-django30/lib/python3.8/site-packages/prompt_toolkit/layout/margins.py'>,\n",
       " 'prompt_toolkit.layout.mouse_handlers': <module 'prompt_toolkit.layout.mouse_handlers' from '/Users/ds/.pyenv/versions/3.8.0/envs/py380-django30/lib/python3.8/site-packages/prompt_toolkit/layout/mouse_handlers.py'>,\n",
       " 'prompt_toolkit.layout.screen': <module 'prompt_toolkit.layout.screen' from '/Users/ds/.pyenv/versions/3.8.0/envs/py380-django30/lib/python3.8/site-packages/prompt_toolkit/layout/screen.py'>,\n",
       " 'prompt_toolkit.layout.containers': <module 'prompt_toolkit.layout.containers' from '/Users/ds/.pyenv/versions/3.8.0/envs/py380-django30/lib/python3.8/site-packages/prompt_toolkit/layout/containers.py'>,\n",
       " 'prompt_toolkit.layout.layout': <module 'prompt_toolkit.layout.layout' from '/Users/ds/.pyenv/versions/3.8.0/envs/py380-django30/lib/python3.8/site-packages/prompt_toolkit/layout/layout.py'>,\n",
       " 'prompt_toolkit.layout.menus': <module 'prompt_toolkit.layout.menus' from '/Users/ds/.pyenv/versions/3.8.0/envs/py380-django30/lib/python3.8/site-packages/prompt_toolkit/layout/menus.py'>,\n",
       " 'prompt_toolkit.layout': <module 'prompt_toolkit.layout' from '/Users/ds/.pyenv/versions/3.8.0/envs/py380-django30/lib/python3.8/site-packages/prompt_toolkit/layout/__init__.py'>,\n",
       " 'prompt_toolkit.key_binding.bindings.completion': <module 'prompt_toolkit.key_binding.bindings.completion' from '/Users/ds/.pyenv/versions/3.8.0/envs/py380-django30/lib/python3.8/site-packages/prompt_toolkit/key_binding/bindings/completion.py'>,\n",
       " 'prompt_toolkit.key_binding.bindings.named_commands': <module 'prompt_toolkit.key_binding.bindings.named_commands' from '/Users/ds/.pyenv/versions/3.8.0/envs/py380-django30/lib/python3.8/site-packages/prompt_toolkit/key_binding/bindings/named_commands.py'>,\n",
       " 'prompt_toolkit.key_binding.bindings.basic': <module 'prompt_toolkit.key_binding.bindings.basic' from '/Users/ds/.pyenv/versions/3.8.0/envs/py380-django30/lib/python3.8/site-packages/prompt_toolkit/key_binding/bindings/basic.py'>,\n",
       " 'prompt_toolkit.key_binding.bindings.cpr': <module 'prompt_toolkit.key_binding.bindings.cpr' from '/Users/ds/.pyenv/versions/3.8.0/envs/py380-django30/lib/python3.8/site-packages/prompt_toolkit/key_binding/bindings/cpr.py'>,\n",
       " 'prompt_toolkit.key_binding.bindings.emacs': <module 'prompt_toolkit.key_binding.bindings.emacs' from '/Users/ds/.pyenv/versions/3.8.0/envs/py380-django30/lib/python3.8/site-packages/prompt_toolkit/key_binding/bindings/emacs.py'>,\n",
       " 'prompt_toolkit.key_binding.bindings.mouse': <module 'prompt_toolkit.key_binding.bindings.mouse' from '/Users/ds/.pyenv/versions/3.8.0/envs/py380-django30/lib/python3.8/site-packages/prompt_toolkit/key_binding/bindings/mouse.py'>,\n",
       " 'prompt_toolkit.input.ansi_escape_sequences': <module 'prompt_toolkit.input.ansi_escape_sequences' from '/Users/ds/.pyenv/versions/3.8.0/envs/py380-django30/lib/python3.8/site-packages/prompt_toolkit/input/ansi_escape_sequences.py'>,\n",
       " 'prompt_toolkit.input.vt100_parser': <module 'prompt_toolkit.input.vt100_parser' from '/Users/ds/.pyenv/versions/3.8.0/envs/py380-django30/lib/python3.8/site-packages/prompt_toolkit/input/vt100_parser.py'>,\n",
       " 'prompt_toolkit.key_binding.digraphs': <module 'prompt_toolkit.key_binding.digraphs' from '/Users/ds/.pyenv/versions/3.8.0/envs/py380-django30/lib/python3.8/site-packages/prompt_toolkit/key_binding/digraphs.py'>,\n",
       " 'prompt_toolkit.key_binding.bindings.vi': <module 'prompt_toolkit.key_binding.bindings.vi' from '/Users/ds/.pyenv/versions/3.8.0/envs/py380-django30/lib/python3.8/site-packages/prompt_toolkit/key_binding/bindings/vi.py'>,\n",
       " 'prompt_toolkit.key_binding.defaults': <module 'prompt_toolkit.key_binding.defaults' from '/Users/ds/.pyenv/versions/3.8.0/envs/py380-django30/lib/python3.8/site-packages/prompt_toolkit/key_binding/defaults.py'>,\n",
       " 'prompt_toolkit.key_binding.emacs_state': <module 'prompt_toolkit.key_binding.emacs_state' from '/Users/ds/.pyenv/versions/3.8.0/envs/py380-django30/lib/python3.8/site-packages/prompt_toolkit/key_binding/emacs_state.py'>,\n",
       " 'prompt_toolkit.layout.dummy': <module 'prompt_toolkit.layout.dummy' from '/Users/ds/.pyenv/versions/3.8.0/envs/py380-django30/lib/python3.8/site-packages/prompt_toolkit/layout/dummy.py'>,\n",
       " 'prompt_toolkit.renderer': <module 'prompt_toolkit.renderer' from '/Users/ds/.pyenv/versions/3.8.0/envs/py380-django30/lib/python3.8/site-packages/prompt_toolkit/renderer.py'>,\n",
       " 'prompt_toolkit.application.application': <module 'prompt_toolkit.application.application' from '/Users/ds/.pyenv/versions/3.8.0/envs/py380-django30/lib/python3.8/site-packages/prompt_toolkit/application/application.py'>,\n",
       " 'prompt_toolkit.application.dummy': <module 'prompt_toolkit.application.dummy' from '/Users/ds/.pyenv/versions/3.8.0/envs/py380-django30/lib/python3.8/site-packages/prompt_toolkit/application/dummy.py'>,\n",
       " 'prompt_toolkit.application': <module 'prompt_toolkit.application' from '/Users/ds/.pyenv/versions/3.8.0/envs/py380-django30/lib/python3.8/site-packages/prompt_toolkit/application/__init__.py'>,\n",
       " 'prompt_toolkit.key_binding.bindings.focus': <module 'prompt_toolkit.key_binding.bindings.focus' from '/Users/ds/.pyenv/versions/3.8.0/envs/py380-django30/lib/python3.8/site-packages/prompt_toolkit/key_binding/bindings/focus.py'>,\n",
       " 'prompt_toolkit.widgets.toolbars': <module 'prompt_toolkit.widgets.toolbars' from '/Users/ds/.pyenv/versions/3.8.0/envs/py380-django30/lib/python3.8/site-packages/prompt_toolkit/widgets/toolbars.py'>,\n",
       " 'prompt_toolkit.widgets.base': <module 'prompt_toolkit.widgets.base' from '/Users/ds/.pyenv/versions/3.8.0/envs/py380-django30/lib/python3.8/site-packages/prompt_toolkit/widgets/base.py'>,\n",
       " 'prompt_toolkit.widgets.dialogs': <module 'prompt_toolkit.widgets.dialogs' from '/Users/ds/.pyenv/versions/3.8.0/envs/py380-django30/lib/python3.8/site-packages/prompt_toolkit/widgets/dialogs.py'>,\n",
       " 'prompt_toolkit.widgets.menus': <module 'prompt_toolkit.widgets.menus' from '/Users/ds/.pyenv/versions/3.8.0/envs/py380-django30/lib/python3.8/site-packages/prompt_toolkit/widgets/menus.py'>,\n",
       " 'prompt_toolkit.widgets': <module 'prompt_toolkit.widgets' from '/Users/ds/.pyenv/versions/3.8.0/envs/py380-django30/lib/python3.8/site-packages/prompt_toolkit/widgets/__init__.py'>,\n",
       " 'prompt_toolkit.shortcuts.dialogs': <module 'prompt_toolkit.shortcuts.dialogs' from '/Users/ds/.pyenv/versions/3.8.0/envs/py380-django30/lib/python3.8/site-packages/prompt_toolkit/shortcuts/dialogs.py'>,\n",
       " 'prompt_toolkit.shortcuts.progress_bar.formatters': <module 'prompt_toolkit.shortcuts.progress_bar.formatters' from '/Users/ds/.pyenv/versions/3.8.0/envs/py380-django30/lib/python3.8/site-packages/prompt_toolkit/shortcuts/progress_bar/formatters.py'>,\n",
       " 'prompt_toolkit.shortcuts.progress_bar.base': <module 'prompt_toolkit.shortcuts.progress_bar.base' from '/Users/ds/.pyenv/versions/3.8.0/envs/py380-django30/lib/python3.8/site-packages/prompt_toolkit/shortcuts/progress_bar/base.py'>,\n",
       " 'prompt_toolkit.shortcuts.progress_bar': <module 'prompt_toolkit.shortcuts.progress_bar' from '/Users/ds/.pyenv/versions/3.8.0/envs/py380-django30/lib/python3.8/site-packages/prompt_toolkit/shortcuts/progress_bar/__init__.py'>,\n",
       " 'prompt_toolkit.key_binding.bindings.auto_suggest': <module 'prompt_toolkit.key_binding.bindings.auto_suggest' from '/Users/ds/.pyenv/versions/3.8.0/envs/py380-django30/lib/python3.8/site-packages/prompt_toolkit/key_binding/bindings/auto_suggest.py'>,\n",
       " 'prompt_toolkit.key_binding.bindings.open_in_editor': <module 'prompt_toolkit.key_binding.bindings.open_in_editor' from '/Users/ds/.pyenv/versions/3.8.0/envs/py380-django30/lib/python3.8/site-packages/prompt_toolkit/key_binding/bindings/open_in_editor.py'>,\n",
       " 'prompt_toolkit.shortcuts.prompt': <module 'prompt_toolkit.shortcuts.prompt' from '/Users/ds/.pyenv/versions/3.8.0/envs/py380-django30/lib/python3.8/site-packages/prompt_toolkit/shortcuts/prompt.py'>,\n",
       " 'prompt_toolkit.shortcuts.utils': <module 'prompt_toolkit.shortcuts.utils' from '/Users/ds/.pyenv/versions/3.8.0/envs/py380-django30/lib/python3.8/site-packages/prompt_toolkit/shortcuts/utils.py'>,\n",
       " 'prompt_toolkit.shortcuts': <module 'prompt_toolkit.shortcuts' from '/Users/ds/.pyenv/versions/3.8.0/envs/py380-django30/lib/python3.8/site-packages/prompt_toolkit/shortcuts/__init__.py'>,\n",
       " 'prompt_toolkit': <module 'prompt_toolkit' from '/Users/ds/.pyenv/versions/3.8.0/envs/py380-django30/lib/python3.8/site-packages/prompt_toolkit/__init__.py'>,\n",
       " 'pygments.style': <module 'pygments.style' from '/Users/ds/.pyenv/versions/3.8.0/envs/py380-django30/lib/python3.8/site-packages/pygments/style.py'>,\n",
       " 'unicodedata': <module 'unicodedata' from '/Users/ds/.pyenv/versions/3.8.0/lib/python3.8/lib-dynload/unicodedata.cpython-38-darwin.so'>,\n",
       " 'IPython.core.latex_symbols': <module 'IPython.core.latex_symbols' from '/Users/ds/.pyenv/versions/3.8.0/envs/py380-django30/lib/python3.8/site-packages/IPython/core/latex_symbols.py'>,\n",
       " 'IPython.utils.generics': <module 'IPython.utils.generics' from '/Users/ds/.pyenv/versions/3.8.0/envs/py380-django30/lib/python3.8/site-packages/IPython/utils/generics.py'>,\n",
       " 'parso._compatibility': <module 'parso._compatibility' from '/Users/ds/.pyenv/versions/3.8.0/envs/py380-django30/lib/python3.8/site-packages/parso/_compatibility.py'>,\n",
       " 'parso.utils': <module 'parso.utils' from '/Users/ds/.pyenv/versions/3.8.0/envs/py380-django30/lib/python3.8/site-packages/parso/utils.py'>,\n",
       " 'parso.tree': <module 'parso.tree' from '/Users/ds/.pyenv/versions/3.8.0/envs/py380-django30/lib/python3.8/site-packages/parso/tree.py'>,\n",
       " 'parso.python': <module 'parso.python' from '/Users/ds/.pyenv/versions/3.8.0/envs/py380-django30/lib/python3.8/site-packages/parso/python/__init__.py'>,\n",
       " 'parso.python.token': <module 'parso.python.token' from '/Users/ds/.pyenv/versions/3.8.0/envs/py380-django30/lib/python3.8/site-packages/parso/python/token.py'>,\n",
       " 'parso.python.tokenize': <module 'parso.python.tokenize' from '/Users/ds/.pyenv/versions/3.8.0/envs/py380-django30/lib/python3.8/site-packages/parso/python/tokenize.py'>,\n",
       " 'parso.pgen2.grammar_parser': <module 'parso.pgen2.grammar_parser' from '/Users/ds/.pyenv/versions/3.8.0/envs/py380-django30/lib/python3.8/site-packages/parso/pgen2/grammar_parser.py'>,\n",
       " 'parso.pgen2.generator': <module 'parso.pgen2.generator' from '/Users/ds/.pyenv/versions/3.8.0/envs/py380-django30/lib/python3.8/site-packages/parso/pgen2/generator.py'>,\n",
       " 'parso.pgen2': <module 'parso.pgen2' from '/Users/ds/.pyenv/versions/3.8.0/envs/py380-django30/lib/python3.8/site-packages/parso/pgen2/__init__.py'>,\n",
       " 'parso.parser': <module 'parso.parser' from '/Users/ds/.pyenv/versions/3.8.0/envs/py380-django30/lib/python3.8/site-packages/parso/parser.py'>,\n",
       " 'difflib': <module 'difflib' from '/Users/ds/.pyenv/versions/3.8.0/lib/python3.8/difflib.py'>,\n",
       " 'parso.python.prefix': <module 'parso.python.prefix' from '/Users/ds/.pyenv/versions/3.8.0/envs/py380-django30/lib/python3.8/site-packages/parso/python/prefix.py'>,\n",
       " 'parso.python.tree': <module 'parso.python.tree' from '/Users/ds/.pyenv/versions/3.8.0/envs/py380-django30/lib/python3.8/site-packages/parso/python/tree.py'>,\n",
       " 'parso.python.parser': <module 'parso.python.parser' from '/Users/ds/.pyenv/versions/3.8.0/envs/py380-django30/lib/python3.8/site-packages/parso/python/parser.py'>,\n",
       " 'parso.python.diff': <module 'parso.python.diff' from '/Users/ds/.pyenv/versions/3.8.0/envs/py380-django30/lib/python3.8/site-packages/parso/python/diff.py'>,\n",
       " 'gc': <module 'gc' (built-in)>,\n",
       " 'parso.cache': <module 'parso.cache' from '/Users/ds/.pyenv/versions/3.8.0/envs/py380-django30/lib/python3.8/site-packages/parso/cache.py'>,\n",
       " 'parso.normalizer': <module 'parso.normalizer' from '/Users/ds/.pyenv/versions/3.8.0/envs/py380-django30/lib/python3.8/site-packages/parso/normalizer.py'>,\n",
       " 'parso.python.errors': <module 'parso.python.errors' from '/Users/ds/.pyenv/versions/3.8.0/envs/py380-django30/lib/python3.8/site-packages/parso/python/errors.py'>,\n",
       " 'parso.python.pep8': <module 'parso.python.pep8' from '/Users/ds/.pyenv/versions/3.8.0/envs/py380-django30/lib/python3.8/site-packages/parso/python/pep8.py'>,\n",
       " 'parso.file_io': <module 'parso.file_io' from '/Users/ds/.pyenv/versions/3.8.0/envs/py380-django30/lib/python3.8/site-packages/parso/file_io.py'>,\n",
       " 'parso.grammar': <module 'parso.grammar' from '/Users/ds/.pyenv/versions/3.8.0/envs/py380-django30/lib/python3.8/site-packages/parso/grammar.py'>,\n",
       " 'parso': <module 'parso' from '/Users/ds/.pyenv/versions/3.8.0/envs/py380-django30/lib/python3.8/site-packages/parso/__init__.py'>,\n",
       " 'jedi.file_io': <module 'jedi.file_io' from '/Users/ds/.pyenv/versions/3.8.0/envs/py380-django30/lib/python3.8/site-packages/jedi/file_io.py'>,\n",
       " '_queue': <module '_queue' from '/Users/ds/.pyenv/versions/3.8.0/lib/python3.8/lib-dynload/_queue.cpython-38-darwin.so'>,\n",
       " 'queue': <module 'queue' from '/Users/ds/.pyenv/versions/3.8.0/lib/python3.8/queue.py'>,\n",
       " 'jedi._compatibility': <module 'jedi._compatibility' from '/Users/ds/.pyenv/versions/3.8.0/envs/py380-django30/lib/python3.8/site-packages/jedi/_compatibility.py'>,\n",
       " 'jedi.parser_utils': <module 'jedi.parser_utils' from '/Users/ds/.pyenv/versions/3.8.0/envs/py380-django30/lib/python3.8/site-packages/jedi/parser_utils.py'>,\n",
       " 'jedi.debug': <module 'jedi.debug' from '/Users/ds/.pyenv/versions/3.8.0/envs/py380-django30/lib/python3.8/site-packages/jedi/debug.py'>,\n",
       " 'jedi.settings': <module 'jedi.settings' from '/Users/ds/.pyenv/versions/3.8.0/envs/py380-django30/lib/python3.8/site-packages/jedi/settings.py'>,\n",
       " 'jedi.cache': <module 'jedi.cache' from '/Users/ds/.pyenv/versions/3.8.0/envs/py380-django30/lib/python3.8/site-packages/jedi/cache.py'>,\n",
       " 'jedi.inference.cache': <module 'jedi.inference.cache' from '/Users/ds/.pyenv/versions/3.8.0/envs/py380-django30/lib/python3.8/site-packages/jedi/inference/cache.py'>,\n",
       " 'jedi.common.value': <module 'jedi.common.value' from '/Users/ds/.pyenv/versions/3.8.0/envs/py380-django30/lib/python3.8/site-packages/jedi/common/value.py'>,\n",
       " 'jedi.common': <module 'jedi.common' from '/Users/ds/.pyenv/versions/3.8.0/envs/py380-django30/lib/python3.8/site-packages/jedi/common/__init__.py'>,\n",
       " 'jedi.inference.helpers': <module 'jedi.inference.helpers' from '/Users/ds/.pyenv/versions/3.8.0/envs/py380-django30/lib/python3.8/site-packages/jedi/inference/helpers.py'>,\n",
       " 'jedi.inference.utils': <module 'jedi.inference.utils' from '/Users/ds/.pyenv/versions/3.8.0/envs/py380-django30/lib/python3.8/site-packages/jedi/inference/utils.py'>,\n",
       " 'jedi.inference.base_value': <module 'jedi.inference.base_value' from '/Users/ds/.pyenv/versions/3.8.0/envs/py380-django30/lib/python3.8/site-packages/jedi/inference/base_value.py'>,\n",
       " 'jedi.common.utils': <module 'jedi.common.utils' from '/Users/ds/.pyenv/versions/3.8.0/envs/py380-django30/lib/python3.8/site-packages/jedi/common/utils.py'>,\n",
       " 'jedi.inference.sys_path': <module 'jedi.inference.sys_path' from '/Users/ds/.pyenv/versions/3.8.0/envs/py380-django30/lib/python3.8/site-packages/jedi/inference/sys_path.py'>,\n",
       " 'jedi.inference.recursion': <module 'jedi.inference.recursion' from '/Users/ds/.pyenv/versions/3.8.0/envs/py380-django30/lib/python3.8/site-packages/jedi/inference/recursion.py'>,\n",
       " 'jedi.inference.flow_analysis': <module 'jedi.inference.flow_analysis' from '/Users/ds/.pyenv/versions/3.8.0/envs/py380-django30/lib/python3.8/site-packages/jedi/inference/flow_analysis.py'>,\n",
       " 'jedi.inference.lazy_value': <module 'jedi.inference.lazy_value' from '/Users/ds/.pyenv/versions/3.8.0/envs/py380-django30/lib/python3.8/site-packages/jedi/inference/lazy_value.py'>,\n",
       " 'jedi.inference.docstrings': <module 'jedi.inference.docstrings' from '/Users/ds/.pyenv/versions/3.8.0/envs/py380-django30/lib/python3.8/site-packages/jedi/inference/docstrings.py'>,\n",
       " 'jedi.plugins': <module 'jedi.plugins' from '/Users/ds/.pyenv/versions/3.8.0/envs/py380-django30/lib/python3.8/site-packages/jedi/plugins/__init__.py'>,\n",
       " 'jedi.inference.names': <module 'jedi.inference.names' from '/Users/ds/.pyenv/versions/3.8.0/envs/py380-django30/lib/python3.8/site-packages/jedi/inference/names.py'>,\n",
       " 'jedi.inference.filters': <module 'jedi.inference.filters' from '/Users/ds/.pyenv/versions/3.8.0/envs/py380-django30/lib/python3.8/site-packages/jedi/inference/filters.py'>,\n",
       " 'jedi.inference.compiled.getattr_static': <module 'jedi.inference.compiled.getattr_static' from '/Users/ds/.pyenv/versions/3.8.0/envs/py380-django30/lib/python3.8/site-packages/jedi/inference/compiled/getattr_static.py'>,\n",
       " 'jedi.inference.compiled.access': <module 'jedi.inference.compiled.access' from '/Users/ds/.pyenv/versions/3.8.0/envs/py380-django30/lib/python3.8/site-packages/jedi/inference/compiled/access.py'>,\n",
       " 'jedi.inference.signature': <module 'jedi.inference.signature' from '/Users/ds/.pyenv/versions/3.8.0/envs/py380-django30/lib/python3.8/site-packages/jedi/inference/signature.py'>,\n",
       " 'jedi.inference.context': <module 'jedi.inference.context' from '/Users/ds/.pyenv/versions/3.8.0/envs/py380-django30/lib/python3.8/site-packages/jedi/inference/context.py'>,\n",
       " 'jedi.inference.compiled.value': <module 'jedi.inference.compiled.value' from '/Users/ds/.pyenv/versions/3.8.0/envs/py380-django30/lib/python3.8/site-packages/jedi/inference/compiled/value.py'>,\n",
       " 'jedi.inference.compiled': <module 'jedi.inference.compiled' from '/Users/ds/.pyenv/versions/3.8.0/envs/py380-django30/lib/python3.8/site-packages/jedi/inference/compiled/__init__.py'>,\n",
       " 'jedi.inference.analysis': <module 'jedi.inference.analysis' from '/Users/ds/.pyenv/versions/3.8.0/envs/py380-django30/lib/python3.8/site-packages/jedi/inference/analysis.py'>,\n",
       " 'jedi.inference.gradual': <module 'jedi.inference.gradual' from '/Users/ds/.pyenv/versions/3.8.0/envs/py380-django30/lib/python3.8/site-packages/jedi/inference/gradual/__init__.py'>,\n",
       " 'jedi.inference.value.module': <module 'jedi.inference.value.module' from '/Users/ds/.pyenv/versions/3.8.0/envs/py380-django30/lib/python3.8/site-packages/jedi/inference/value/module.py'>,\n",
       " 'jedi.inference.value.dynamic_arrays': <module 'jedi.inference.value.dynamic_arrays' from '/Users/ds/.pyenv/versions/3.8.0/envs/py380-django30/lib/python3.8/site-packages/jedi/inference/value/dynamic_arrays.py'>,\n",
       " 'jedi.inference.value.iterable': <module 'jedi.inference.value.iterable' from '/Users/ds/.pyenv/versions/3.8.0/envs/py380-django30/lib/python3.8/site-packages/jedi/inference/value/iterable.py'>,\n",
       " 'jedi.inference.arguments': <module 'jedi.inference.arguments' from '/Users/ds/.pyenv/versions/3.8.0/envs/py380-django30/lib/python3.8/site-packages/jedi/inference/arguments.py'>,\n",
       " 'jedi.inference.parser_cache': <module 'jedi.inference.parser_cache' from '/Users/ds/.pyenv/versions/3.8.0/envs/py380-django30/lib/python3.8/site-packages/jedi/inference/parser_cache.py'>,\n",
       " 'jedi.inference.gradual.generics': <module 'jedi.inference.gradual.generics' from '/Users/ds/.pyenv/versions/3.8.0/envs/py380-django30/lib/python3.8/site-packages/jedi/inference/gradual/generics.py'>,\n",
       " 'jedi.inference.value.function': <module 'jedi.inference.value.function' from '/Users/ds/.pyenv/versions/3.8.0/envs/py380-django30/lib/python3.8/site-packages/jedi/inference/value/function.py'>,\n",
       " 'jedi.inference.value.klass': <module 'jedi.inference.value.klass' from '/Users/ds/.pyenv/versions/3.8.0/envs/py380-django30/lib/python3.8/site-packages/jedi/inference/value/klass.py'>,\n",
       " 'jedi.inference.value.instance': <module 'jedi.inference.value.instance' from '/Users/ds/.pyenv/versions/3.8.0/envs/py380-django30/lib/python3.8/site-packages/jedi/inference/value/instance.py'>,\n",
       " 'jedi.inference.value': <module 'jedi.inference.value' from '/Users/ds/.pyenv/versions/3.8.0/envs/py380-django30/lib/python3.8/site-packages/jedi/inference/value/__init__.py'>,\n",
       " 'jedi.inference.gradual.base': <module 'jedi.inference.gradual.base' from '/Users/ds/.pyenv/versions/3.8.0/envs/py380-django30/lib/python3.8/site-packages/jedi/inference/gradual/base.py'>,\n",
       " 'jedi.inference.gradual.type_var': <module 'jedi.inference.gradual.type_var' from '/Users/ds/.pyenv/versions/3.8.0/envs/py380-django30/lib/python3.8/site-packages/jedi/inference/gradual/type_var.py'>,\n",
       " 'jedi.inference.gradual.typing': <module 'jedi.inference.gradual.typing' from '/Users/ds/.pyenv/versions/3.8.0/envs/py380-django30/lib/python3.8/site-packages/jedi/inference/gradual/typing.py'>,\n",
       " 'jedi.inference.gradual.stub_value': <module 'jedi.inference.gradual.stub_value' from '/Users/ds/.pyenv/versions/3.8.0/envs/py380-django30/lib/python3.8/site-packages/jedi/inference/gradual/stub_value.py'>,\n",
       " 'jedi.inference.gradual.typeshed': <module 'jedi.inference.gradual.typeshed' from '/Users/ds/.pyenv/versions/3.8.0/envs/py380-django30/lib/python3.8/site-packages/jedi/inference/gradual/typeshed.py'>,\n",
       " 'jedi.inference.imports': <module 'jedi.inference.imports' from '/Users/ds/.pyenv/versions/3.8.0/envs/py380-django30/lib/python3.8/site-packages/jedi/inference/imports.py'>,\n",
       " 'jedi.inference.param': <module 'jedi.inference.param' from '/Users/ds/.pyenv/versions/3.8.0/envs/py380-django30/lib/python3.8/site-packages/jedi/inference/param.py'>,\n",
       " 'jedi.inference.gradual.annotation': <module 'jedi.inference.gradual.annotation' from '/Users/ds/.pyenv/versions/3.8.0/envs/py380-django30/lib/python3.8/site-packages/jedi/inference/gradual/annotation.py'>,\n",
       " 'jedi.inference.value.decorator': <module 'jedi.inference.value.decorator' from '/Users/ds/.pyenv/versions/3.8.0/envs/py380-django30/lib/python3.8/site-packages/jedi/inference/value/decorator.py'>,\n",
       " 'jedi.inference.syntax_tree': <module 'jedi.inference.syntax_tree' from '/Users/ds/.pyenv/versions/3.8.0/envs/py380-django30/lib/python3.8/site-packages/jedi/inference/syntax_tree.py'>,\n",
       " 'jedi.inference': <module 'jedi.inference' from '/Users/ds/.pyenv/versions/3.8.0/envs/py380-django30/lib/python3.8/site-packages/jedi/inference/__init__.py'>,\n",
       " 'jedi.inference.gradual.conversion': <module 'jedi.inference.gradual.conversion' from '/Users/ds/.pyenv/versions/3.8.0/envs/py380-django30/lib/python3.8/site-packages/jedi/inference/gradual/conversion.py'>,\n",
       " 'pydoc_data': <module 'pydoc_data' from '/Users/ds/.pyenv/versions/3.8.0/lib/python3.8/pydoc_data/__init__.py'>,\n",
       " 'pydoc_data.topics': <module 'pydoc_data.topics' from '/Users/ds/.pyenv/versions/3.8.0/lib/python3.8/pydoc_data/topics.py'>,\n",
       " 'jedi.api.keywords': <module 'jedi.api.keywords' from '/Users/ds/.pyenv/versions/3.8.0/envs/py380-django30/lib/python3.8/site-packages/jedi/api/keywords.py'>,\n",
       " 'jedi.api.completion_cache': <module 'jedi.api.completion_cache' from '/Users/ds/.pyenv/versions/3.8.0/envs/py380-django30/lib/python3.8/site-packages/jedi/api/completion_cache.py'>,\n",
       " 'jedi.api.helpers': <module 'jedi.api.helpers' from '/Users/ds/.pyenv/versions/3.8.0/envs/py380-django30/lib/python3.8/site-packages/jedi/api/helpers.py'>,\n",
       " 'jedi.api.classes': <module 'jedi.api.classes' from '/Users/ds/.pyenv/versions/3.8.0/envs/py380-django30/lib/python3.8/site-packages/jedi/api/classes.py'>,\n",
       " 'jedi.inference.compiled.mixed': <module 'jedi.inference.compiled.mixed' from '/Users/ds/.pyenv/versions/3.8.0/envs/py380-django30/lib/python3.8/site-packages/jedi/inference/compiled/mixed.py'>,\n",
       " 'jedi.api.interpreter': <module 'jedi.api.interpreter' from '/Users/ds/.pyenv/versions/3.8.0/envs/py380-django30/lib/python3.8/site-packages/jedi/api/interpreter.py'>,\n",
       " 'jedi.api.strings': <module 'jedi.api.strings' from '/Users/ds/.pyenv/versions/3.8.0/envs/py380-django30/lib/python3.8/site-packages/jedi/api/strings.py'>,\n",
       " 'jedi.api.file_name': <module 'jedi.api.file_name' from '/Users/ds/.pyenv/versions/3.8.0/envs/py380-django30/lib/python3.8/site-packages/jedi/api/file_name.py'>,\n",
       " 'jedi.api.completion': <module 'jedi.api.completion' from '/Users/ds/.pyenv/versions/3.8.0/envs/py380-django30/lib/python3.8/site-packages/jedi/api/completion.py'>,\n",
       " 'filecmp': <module 'filecmp' from '/Users/ds/.pyenv/versions/3.8.0/lib/python3.8/filecmp.py'>,\n",
       " 'jedi.inference.compiled.subprocess.functions': <module 'jedi.inference.compiled.subprocess.functions' from '/Users/ds/.pyenv/versions/3.8.0/envs/py380-django30/lib/python3.8/site-packages/jedi/inference/compiled/subprocess/functions.py'>,\n",
       " 'jedi.api.exceptions': <module 'jedi.api.exceptions' from '/Users/ds/.pyenv/versions/3.8.0/envs/py380-django30/lib/python3.8/site-packages/jedi/api/exceptions.py'>,\n",
       " 'jedi.inference.compiled.subprocess': <module 'jedi.inference.compiled.subprocess' from '/Users/ds/.pyenv/versions/3.8.0/envs/py380-django30/lib/python3.8/site-packages/jedi/inference/compiled/subprocess/__init__.py'>,\n",
       " 'jedi.api.environment': <module 'jedi.api.environment' from '/Users/ds/.pyenv/versions/3.8.0/envs/py380-django30/lib/python3.8/site-packages/jedi/api/environment.py'>,\n",
       " 'jedi.api.project': <module 'jedi.api.project' from '/Users/ds/.pyenv/versions/3.8.0/envs/py380-django30/lib/python3.8/site-packages/jedi/api/project.py'>,\n",
       " 'jedi.inference.references': <module 'jedi.inference.references' from '/Users/ds/.pyenv/versions/3.8.0/envs/py380-django30/lib/python3.8/site-packages/jedi/inference/references.py'>,\n",
       " 'jedi.inference.gradual.utils': <module 'jedi.inference.gradual.utils' from '/Users/ds/.pyenv/versions/3.8.0/envs/py380-django30/lib/python3.8/site-packages/jedi/inference/gradual/utils.py'>,\n",
       " 'jedi.api': <module 'jedi.api' from '/Users/ds/.pyenv/versions/3.8.0/envs/py380-django30/lib/python3.8/site-packages/jedi/api/__init__.py'>,\n",
       " 'jedi.plugins.stdlib': <module 'jedi.plugins.stdlib' from '/Users/ds/.pyenv/versions/3.8.0/envs/py380-django30/lib/python3.8/site-packages/jedi/plugins/stdlib.py'>,\n",
       " 'jedi.plugins.flask': <module 'jedi.plugins.flask' from '/Users/ds/.pyenv/versions/3.8.0/envs/py380-django30/lib/python3.8/site-packages/jedi/plugins/flask.py'>,\n",
       " 'jedi.plugins.pytest': <module 'jedi.plugins.pytest' from '/Users/ds/.pyenv/versions/3.8.0/envs/py380-django30/lib/python3.8/site-packages/jedi/plugins/pytest.py'>,\n",
       " 'jedi.plugins.registry': <module 'jedi.plugins.registry' from '/Users/ds/.pyenv/versions/3.8.0/envs/py380-django30/lib/python3.8/site-packages/jedi/plugins/registry.py'>,\n",
       " 'jedi': <module 'jedi' from '/Users/ds/.pyenv/versions/3.8.0/envs/py380-django30/lib/python3.8/site-packages/jedi/__init__.py'>,\n",
       " 'IPython.core.completer': <module 'IPython.core.completer' from '/Users/ds/.pyenv/versions/3.8.0/envs/py380-django30/lib/python3.8/site-packages/IPython/core/completer.py'>,\n",
       " 'IPython.terminal.ptutils': <module 'IPython.terminal.ptutils' from '/Users/ds/.pyenv/versions/3.8.0/envs/py380-django30/lib/python3.8/site-packages/IPython/terminal/ptutils.py'>,\n",
       " 'IPython.terminal.shortcuts': <module 'IPython.terminal.shortcuts' from '/Users/ds/.pyenv/versions/3.8.0/envs/py380-django30/lib/python3.8/site-packages/IPython/terminal/shortcuts.py'>,\n",
       " 'IPython.terminal.debugger': <module 'IPython.terminal.debugger' from '/Users/ds/.pyenv/versions/3.8.0/envs/py380-django30/lib/python3.8/site-packages/IPython/terminal/debugger.py'>,\n",
       " 'IPython.lib.clipboard': <module 'IPython.lib.clipboard' from '/Users/ds/.pyenv/versions/3.8.0/envs/py380-django30/lib/python3.8/site-packages/IPython/lib/clipboard.py'>,\n",
       " 'IPython.terminal.magics': <module 'IPython.terminal.magics' from '/Users/ds/.pyenv/versions/3.8.0/envs/py380-django30/lib/python3.8/site-packages/IPython/terminal/magics.py'>,\n",
       " 'IPython.terminal.pt_inputhooks': <module 'IPython.terminal.pt_inputhooks' from '/Users/ds/.pyenv/versions/3.8.0/envs/py380-django30/lib/python3.8/site-packages/IPython/terminal/pt_inputhooks/__init__.py'>,\n",
       " 'IPython.terminal.prompts': <module 'IPython.terminal.prompts' from '/Users/ds/.pyenv/versions/3.8.0/envs/py380-django30/lib/python3.8/site-packages/IPython/terminal/prompts.py'>,\n",
       " 'IPython.terminal.interactiveshell': <module 'IPython.terminal.interactiveshell' from '/Users/ds/.pyenv/versions/3.8.0/envs/py380-django30/lib/python3.8/site-packages/IPython/terminal/interactiveshell.py'>,\n",
       " 'IPython.core.magics.auto': <module 'IPython.core.magics.auto' from '/Users/ds/.pyenv/versions/3.8.0/envs/py380-django30/lib/python3.8/site-packages/IPython/core/magics/auto.py'>,\n",
       " 'IPython.core.magics.basic': <module 'IPython.core.magics.basic' from '/Users/ds/.pyenv/versions/3.8.0/envs/py380-django30/lib/python3.8/site-packages/IPython/core/magics/basic.py'>,\n",
       " 'email': <module 'email' from '/Users/ds/.pyenv/versions/3.8.0/lib/python3.8/email/__init__.py'>,\n",
       " 'http': <module 'http' from '/Users/ds/.pyenv/versions/3.8.0/lib/python3.8/http/__init__.py'>,\n",
       " 'email.errors': <module 'email.errors' from '/Users/ds/.pyenv/versions/3.8.0/lib/python3.8/email/errors.py'>,\n",
       " 'email.quoprimime': <module 'email.quoprimime' from '/Users/ds/.pyenv/versions/3.8.0/lib/python3.8/email/quoprimime.py'>,\n",
       " 'email.base64mime': <module 'email.base64mime' from '/Users/ds/.pyenv/versions/3.8.0/lib/python3.8/email/base64mime.py'>,\n",
       " 'quopri': <module 'quopri' from '/Users/ds/.pyenv/versions/3.8.0/lib/python3.8/quopri.py'>,\n",
       " 'email.encoders': <module 'email.encoders' from '/Users/ds/.pyenv/versions/3.8.0/lib/python3.8/email/encoders.py'>,\n",
       " 'email.charset': <module 'email.charset' from '/Users/ds/.pyenv/versions/3.8.0/lib/python3.8/email/charset.py'>,\n",
       " 'email.header': <module 'email.header' from '/Users/ds/.pyenv/versions/3.8.0/lib/python3.8/email/header.py'>,\n",
       " 'calendar': <module 'calendar' from '/Users/ds/.pyenv/versions/3.8.0/lib/python3.8/calendar.py'>,\n",
       " 'email._parseaddr': <module 'email._parseaddr' from '/Users/ds/.pyenv/versions/3.8.0/lib/python3.8/email/_parseaddr.py'>,\n",
       " 'email.utils': <module 'email.utils' from '/Users/ds/.pyenv/versions/3.8.0/lib/python3.8/email/utils.py'>,\n",
       " 'email._policybase': <module 'email._policybase' from '/Users/ds/.pyenv/versions/3.8.0/lib/python3.8/email/_policybase.py'>,\n",
       " 'email.feedparser': <module 'email.feedparser' from '/Users/ds/.pyenv/versions/3.8.0/lib/python3.8/email/feedparser.py'>,\n",
       " 'email.parser': <module 'email.parser' from '/Users/ds/.pyenv/versions/3.8.0/lib/python3.8/email/parser.py'>,\n",
       " 'uu': <module 'uu' from '/Users/ds/.pyenv/versions/3.8.0/lib/python3.8/uu.py'>,\n",
       " 'email._encoded_words': <module 'email._encoded_words' from '/Users/ds/.pyenv/versions/3.8.0/lib/python3.8/email/_encoded_words.py'>,\n",
       " 'email.iterators': <module 'email.iterators' from '/Users/ds/.pyenv/versions/3.8.0/lib/python3.8/email/iterators.py'>,\n",
       " 'email.message': <module 'email.message' from '/Users/ds/.pyenv/versions/3.8.0/lib/python3.8/email/message.py'>,\n",
       " 'http.client': <module 'http.client' from '/Users/ds/.pyenv/versions/3.8.0/lib/python3.8/http/client.py'>,\n",
       " 'urllib.response': <module 'urllib.response' from '/Users/ds/.pyenv/versions/3.8.0/lib/python3.8/urllib/response.py'>,\n",
       " 'urllib.error': <module 'urllib.error' from '/Users/ds/.pyenv/versions/3.8.0/lib/python3.8/urllib/error.py'>,\n",
       " '_scproxy': <module '_scproxy' from '/Users/ds/.pyenv/versions/3.8.0/lib/python3.8/lib-dynload/_scproxy.cpython-38-darwin.so'>,\n",
       " 'urllib.request': <module 'urllib.request' from '/Users/ds/.pyenv/versions/3.8.0/lib/python3.8/urllib/request.py'>,\n",
       " 'IPython.core.magics.code': <module 'IPython.core.magics.code' from '/Users/ds/.pyenv/versions/3.8.0/envs/py380-django30/lib/python3.8/site-packages/IPython/core/magics/code.py'>,\n",
       " 'IPython.core.magics.config': <module 'IPython.core.magics.config' from '/Users/ds/.pyenv/versions/3.8.0/envs/py380-django30/lib/python3.8/site-packages/IPython/core/magics/config.py'>,\n",
       " 'IPython.core.magics.display': <module 'IPython.core.magics.display' from '/Users/ds/.pyenv/versions/3.8.0/envs/py380-django30/lib/python3.8/site-packages/IPython/core/magics/display.py'>,\n",
       " 'timeit': <module 'timeit' from '/Users/ds/.pyenv/versions/3.8.0/lib/python3.8/timeit.py'>,\n",
       " '_lsprof': <module '_lsprof' from '/Users/ds/.pyenv/versions/3.8.0/lib/python3.8/lib-dynload/_lsprof.cpython-38-darwin.so'>,\n",
       " 'profile': <module 'profile' from '/Users/ds/.pyenv/versions/3.8.0/lib/python3.8/profile.py'>,\n",
       " 'cProfile': <module 'cProfile' from '/Users/ds/.pyenv/versions/3.8.0/lib/python3.8/cProfile.py'>,\n",
       " 'pstats': <module 'pstats' from '/Users/ds/.pyenv/versions/3.8.0/lib/python3.8/pstats.py'>,\n",
       " 'IPython.utils.module_paths': <module 'IPython.utils.module_paths' from '/Users/ds/.pyenv/versions/3.8.0/envs/py380-django30/lib/python3.8/site-packages/IPython/utils/module_paths.py'>,\n",
       " 'IPython.utils.timing': <module 'IPython.utils.timing' from '/Users/ds/.pyenv/versions/3.8.0/envs/py380-django30/lib/python3.8/site-packages/IPython/utils/timing.py'>,\n",
       " 'IPython.core.magics.execution': <module 'IPython.core.magics.execution' from '/Users/ds/.pyenv/versions/3.8.0/envs/py380-django30/lib/python3.8/site-packages/IPython/core/magics/execution.py'>,\n",
       " 'IPython.core.magics.extension': <module 'IPython.core.magics.extension' from '/Users/ds/.pyenv/versions/3.8.0/envs/py380-django30/lib/python3.8/site-packages/IPython/core/magics/extension.py'>,\n",
       " 'IPython.core.magics.history': <module 'IPython.core.magics.history' from '/Users/ds/.pyenv/versions/3.8.0/envs/py380-django30/lib/python3.8/site-packages/IPython/core/magics/history.py'>,\n",
       " 'IPython.core.magics.logging': <module 'IPython.core.magics.logging' from '/Users/ds/.pyenv/versions/3.8.0/envs/py380-django30/lib/python3.8/site-packages/IPython/core/magics/logging.py'>,\n",
       " 'IPython.core.magics.namespace': <module 'IPython.core.magics.namespace' from '/Users/ds/.pyenv/versions/3.8.0/envs/py380-django30/lib/python3.8/site-packages/IPython/core/magics/namespace.py'>,\n",
       " 'IPython.core.magics.osm': <module 'IPython.core.magics.osm' from '/Users/ds/.pyenv/versions/3.8.0/envs/py380-django30/lib/python3.8/site-packages/IPython/core/magics/osm.py'>,\n",
       " 'IPython.core.magics.packaging': <module 'IPython.core.magics.packaging' from '/Users/ds/.pyenv/versions/3.8.0/envs/py380-django30/lib/python3.8/site-packages/IPython/core/magics/packaging.py'>,\n",
       " 'IPython.core.pylabtools': <module 'IPython.core.pylabtools' from '/Users/ds/.pyenv/versions/3.8.0/envs/py380-django30/lib/python3.8/site-packages/IPython/core/pylabtools.py'>,\n",
       " 'IPython.core.magics.pylab': <module 'IPython.core.magics.pylab' from '/Users/ds/.pyenv/versions/3.8.0/envs/py380-django30/lib/python3.8/site-packages/IPython/core/magics/pylab.py'>,\n",
       " 'IPython.lib.backgroundjobs': <module 'IPython.lib.backgroundjobs' from '/Users/ds/.pyenv/versions/3.8.0/envs/py380-django30/lib/python3.8/site-packages/IPython/lib/backgroundjobs.py'>,\n",
       " 'IPython.core.magics.script': <module 'IPython.core.magics.script' from '/Users/ds/.pyenv/versions/3.8.0/envs/py380-django30/lib/python3.8/site-packages/IPython/core/magics/script.py'>,\n",
       " 'IPython.core.magics': <module 'IPython.core.magics' from '/Users/ds/.pyenv/versions/3.8.0/envs/py380-django30/lib/python3.8/site-packages/IPython/core/magics/__init__.py'>,\n",
       " 'IPython.core.shellapp': <module 'IPython.core.shellapp' from '/Users/ds/.pyenv/versions/3.8.0/envs/py380-django30/lib/python3.8/site-packages/IPython/core/shellapp.py'>,\n",
       " 'IPython.extensions': <module 'IPython.extensions' from '/Users/ds/.pyenv/versions/3.8.0/envs/py380-django30/lib/python3.8/site-packages/IPython/extensions/__init__.py'>,\n",
       " 'IPython.extensions.storemagic': <module 'IPython.extensions.storemagic' from '/Users/ds/.pyenv/versions/3.8.0/envs/py380-django30/lib/python3.8/site-packages/IPython/extensions/storemagic.py'>,\n",
       " 'IPython.terminal.ipapp': <module 'IPython.terminal.ipapp' from '/Users/ds/.pyenv/versions/3.8.0/envs/py380-django30/lib/python3.8/site-packages/IPython/terminal/ipapp.py'>,\n",
       " 'IPython.terminal.embed': <module 'IPython.terminal.embed' from '/Users/ds/.pyenv/versions/3.8.0/envs/py380-django30/lib/python3.8/site-packages/IPython/terminal/embed.py'>,\n",
       " 'IPython.utils.frame': <module 'IPython.utils.frame' from '/Users/ds/.pyenv/versions/3.8.0/envs/py380-django30/lib/python3.8/site-packages/IPython/utils/frame.py'>,\n",
       " 'IPython': <module 'IPython' from '/Users/ds/.pyenv/versions/3.8.0/envs/py380-django30/lib/python3.8/site-packages/IPython/__init__.py'>,\n",
       " 'jupyter_client._version': <module 'jupyter_client._version' from '/Users/ds/.pyenv/versions/3.8.0/envs/py380-django30/lib/python3.8/site-packages/jupyter_client/_version.py'>,\n",
       " '_ctypes': <module '_ctypes' from '/Users/ds/.pyenv/versions/3.8.0/lib/python3.8/lib-dynload/_ctypes.cpython-38-darwin.so'>,\n",
       " 'ctypes._endian': <module 'ctypes._endian' from '/Users/ds/.pyenv/versions/3.8.0/lib/python3.8/ctypes/_endian.py'>,\n",
       " 'ctypes': <module 'ctypes' from '/Users/ds/.pyenv/versions/3.8.0/lib/python3.8/ctypes/__init__.py'>,\n",
       " 'zmq.libzmq': <module 'zmq.libzmq' from '/Users/ds/.pyenv/versions/3.8.0/envs/py380-django30/lib/python3.8/site-packages/zmq/libzmq.cpython-38-darwin.so'>,\n",
       " 'zmq.backend.select': <module 'zmq.backend.select' from '/Users/ds/.pyenv/versions/3.8.0/envs/py380-django30/lib/python3.8/site-packages/zmq/backend/select.py'>,\n",
       " 'cython_runtime': <module 'cython_runtime'>,\n",
       " 'zmq.backend.cython.constants': <module 'zmq.backend.cython.constants' from '/Users/ds/.pyenv/versions/3.8.0/envs/py380-django30/lib/python3.8/site-packages/zmq/backend/cython/constants.cpython-38-darwin.so'>,\n",
       " '_cython_0_29_15': <module '_cython_0_29_15'>,\n",
       " 'zmq.backend.cython.error': <module 'zmq.backend.cython.error' from '/Users/ds/.pyenv/versions/3.8.0/envs/py380-django30/lib/python3.8/site-packages/zmq/backend/cython/error.cpython-38-darwin.so'>,\n",
       " 'zmq.error': <module 'zmq.error' from '/Users/ds/.pyenv/versions/3.8.0/envs/py380-django30/lib/python3.8/site-packages/zmq/error.py'>,\n",
       " 'zmq.backend.cython.message': <module 'zmq.backend.cython.message' from '/Users/ds/.pyenv/versions/3.8.0/envs/py380-django30/lib/python3.8/site-packages/zmq/backend/cython/message.cpython-38-darwin.so'>,\n",
       " 'zmq.backend.cython.context': <module 'zmq.backend.cython.context' from '/Users/ds/.pyenv/versions/3.8.0/envs/py380-django30/lib/python3.8/site-packages/zmq/backend/cython/context.cpython-38-darwin.so'>,\n",
       " 'zmq.backend.cython.socket': <module 'zmq.backend.cython.socket' from '/Users/ds/.pyenv/versions/3.8.0/envs/py380-django30/lib/python3.8/site-packages/zmq/backend/cython/socket.cpython-38-darwin.so'>,\n",
       " 'zmq.backend.cython.utils': <module 'zmq.backend.cython.utils' from '/Users/ds/.pyenv/versions/3.8.0/envs/py380-django30/lib/python3.8/site-packages/zmq/backend/cython/utils.cpython-38-darwin.so'>,\n",
       " 'zmq.backend.cython._poll': <module 'zmq.backend.cython._poll' from '/Users/ds/.pyenv/versions/3.8.0/envs/py380-django30/lib/python3.8/site-packages/zmq/backend/cython/_poll.cpython-38-darwin.so'>,\n",
       " 'zmq.backend.cython._version': <module 'zmq.backend.cython._version' from '/Users/ds/.pyenv/versions/3.8.0/envs/py380-django30/lib/python3.8/site-packages/zmq/backend/cython/_version.cpython-38-darwin.so'>,\n",
       " 'zmq.backend.cython._device': <module 'zmq.backend.cython._device' from '/Users/ds/.pyenv/versions/3.8.0/envs/py380-django30/lib/python3.8/site-packages/zmq/backend/cython/_device.cpython-38-darwin.so'>,\n",
       " 'zmq.backend.cython._proxy_steerable': <module 'zmq.backend.cython._proxy_steerable' from '/Users/ds/.pyenv/versions/3.8.0/envs/py380-django30/lib/python3.8/site-packages/zmq/backend/cython/_proxy_steerable.cpython-38-darwin.so'>,\n",
       " 'zmq.backend.cython': <module 'zmq.backend.cython' from '/Users/ds/.pyenv/versions/3.8.0/envs/py380-django30/lib/python3.8/site-packages/zmq/backend/cython/__init__.py'>,\n",
       " 'zmq.backend': <module 'zmq.backend' from '/Users/ds/.pyenv/versions/3.8.0/envs/py380-django30/lib/python3.8/site-packages/zmq/backend/__init__.py'>,\n",
       " 'zmq.utils': <module 'zmq.utils' from '/Users/ds/.pyenv/versions/3.8.0/envs/py380-django30/lib/python3.8/site-packages/zmq/utils/__init__.py'>,\n",
       " 'zmq.utils.constant_names': <module 'zmq.utils.constant_names' from '/Users/ds/.pyenv/versions/3.8.0/envs/py380-django30/lib/python3.8/site-packages/zmq/utils/constant_names.py'>,\n",
       " 'zmq.sugar.constants': <module 'zmq.sugar.constants' from '/Users/ds/.pyenv/versions/3.8.0/envs/py380-django30/lib/python3.8/site-packages/zmq/sugar/constants.py'>,\n",
       " 'zmq.sugar.attrsettr': <module 'zmq.sugar.attrsettr' from '/Users/ds/.pyenv/versions/3.8.0/envs/py380-django30/lib/python3.8/site-packages/zmq/sugar/attrsettr.py'>,\n",
       " 'zmq.sugar.poll': <module 'zmq.sugar.poll' from '/Users/ds/.pyenv/versions/3.8.0/envs/py380-django30/lib/python3.8/site-packages/zmq/sugar/poll.py'>,\n",
       " 'zmq.utils.strtypes': <module 'zmq.utils.strtypes' from '/Users/ds/.pyenv/versions/3.8.0/envs/py380-django30/lib/python3.8/site-packages/zmq/utils/strtypes.py'>,\n",
       " 'zmq.utils.jsonapi': <module 'zmq.utils.jsonapi' from '/Users/ds/.pyenv/versions/3.8.0/envs/py380-django30/lib/python3.8/site-packages/zmq/utils/jsonapi.py'>,\n",
       " 'zmq.sugar.socket': <module 'zmq.sugar.socket' from '/Users/ds/.pyenv/versions/3.8.0/envs/py380-django30/lib/python3.8/site-packages/zmq/sugar/socket.py'>,\n",
       " 'zmq.sugar.context': <module 'zmq.sugar.context' from '/Users/ds/.pyenv/versions/3.8.0/envs/py380-django30/lib/python3.8/site-packages/zmq/sugar/context.py'>,\n",
       " 'zmq.sugar.frame': <module 'zmq.sugar.frame' from '/Users/ds/.pyenv/versions/3.8.0/envs/py380-django30/lib/python3.8/site-packages/zmq/sugar/frame.py'>,\n",
       " 'zmq.sugar.tracker': <module 'zmq.sugar.tracker' from '/Users/ds/.pyenv/versions/3.8.0/envs/py380-django30/lib/python3.8/site-packages/zmq/sugar/tracker.py'>,\n",
       " 'zmq.sugar.version': <module 'zmq.sugar.version' from '/Users/ds/.pyenv/versions/3.8.0/envs/py380-django30/lib/python3.8/site-packages/zmq/sugar/version.py'>,\n",
       " 'zmq.sugar.stopwatch': <module 'zmq.sugar.stopwatch' from '/Users/ds/.pyenv/versions/3.8.0/envs/py380-django30/lib/python3.8/site-packages/zmq/sugar/stopwatch.py'>,\n",
       " 'zmq.sugar': <module 'zmq.sugar' from '/Users/ds/.pyenv/versions/3.8.0/envs/py380-django30/lib/python3.8/site-packages/zmq/sugar/__init__.py'>,\n",
       " 'zmq': <module 'zmq' from '/Users/ds/.pyenv/versions/3.8.0/envs/py380-django30/lib/python3.8/site-packages/zmq/__init__.py'>,\n",
       " 'jupyter_client.localinterfaces': <module 'jupyter_client.localinterfaces' from '/Users/ds/.pyenv/versions/3.8.0/envs/py380-django30/lib/python3.8/site-packages/jupyter_client/localinterfaces.py'>,\n",
       " 'jupyter_core.version': <module 'jupyter_core.version' from '/Users/ds/.pyenv/versions/3.8.0/envs/py380-django30/lib/python3.8/site-packages/jupyter_core/version.py'>,\n",
       " 'jupyter_core': <module 'jupyter_core' from '/Users/ds/.pyenv/versions/3.8.0/envs/py380-django30/lib/python3.8/site-packages/jupyter_core/__init__.py'>,\n",
       " 'distutils': <module 'distutils' from '/Users/ds/.pyenv/versions/3.8.0/lib/python3.8/distutils/__init__.py'>,\n",
       " 'distutils.errors': <module 'distutils.errors' from '/Users/ds/.pyenv/versions/3.8.0/lib/python3.8/distutils/errors.py'>,\n",
       " 'distutils.dep_util': <module 'distutils.dep_util' from '/Users/ds/.pyenv/versions/3.8.0/lib/python3.8/distutils/dep_util.py'>,\n",
       " 'distutils.debug': <module 'distutils.debug' from '/Users/ds/.pyenv/versions/3.8.0/lib/python3.8/distutils/debug.py'>,\n",
       " 'distutils.log': <module 'distutils.log' from '/Users/ds/.pyenv/versions/3.8.0/lib/python3.8/distutils/log.py'>,\n",
       " 'distutils.spawn': <module 'distutils.spawn' from '/Users/ds/.pyenv/versions/3.8.0/lib/python3.8/distutils/spawn.py'>,\n",
       " 'distutils.util': <module 'distutils.util' from '/Users/ds/.pyenv/versions/3.8.0/lib/python3.8/distutils/util.py'>,\n",
       " 'jupyter_core.paths': <module 'jupyter_core.paths' from '/Users/ds/.pyenv/versions/3.8.0/envs/py380-django30/lib/python3.8/site-packages/jupyter_core/paths.py'>,\n",
       " 'jupyter_client.connect': <module 'jupyter_client.connect' from '/Users/ds/.pyenv/versions/3.8.0/envs/py380-django30/lib/python3.8/site-packages/jupyter_client/connect.py'>,\n",
       " 'traitlets.log': <module 'traitlets.log' from '/Users/ds/.pyenv/versions/3.8.0/envs/py380-django30/lib/python3.8/site-packages/traitlets/log.py'>,\n",
       " 'jupyter_client.launcher': <module 'jupyter_client.launcher' from '/Users/ds/.pyenv/versions/3.8.0/envs/py380-django30/lib/python3.8/site-packages/jupyter_client/launcher.py'>,\n",
       " 'jupyter_client.channelsabc': <module 'jupyter_client.channelsabc' from '/Users/ds/.pyenv/versions/3.8.0/envs/py380-django30/lib/python3.8/site-packages/jupyter_client/channelsabc.py'>,\n",
       " 'jupyter_client.channels': <module 'jupyter_client.channels' from '/Users/ds/.pyenv/versions/3.8.0/envs/py380-django30/lib/python3.8/site-packages/jupyter_client/channels.py'>,\n",
       " 'jupyter_client.clientabc': <module 'jupyter_client.clientabc' from '/Users/ds/.pyenv/versions/3.8.0/envs/py380-django30/lib/python3.8/site-packages/jupyter_client/clientabc.py'>,\n",
       " 'jupyter_client.client': <module 'jupyter_client.client' from '/Users/ds/.pyenv/versions/3.8.0/envs/py380-django30/lib/python3.8/site-packages/jupyter_client/client.py'>,\n",
       " 'jupyter_client.kernelspec': <module 'jupyter_client.kernelspec' from '/Users/ds/.pyenv/versions/3.8.0/envs/py380-django30/lib/python3.8/site-packages/jupyter_client/kernelspec.py'>,\n",
       " 'jupyter_client.managerabc': <module 'jupyter_client.managerabc' from '/Users/ds/.pyenv/versions/3.8.0/envs/py380-django30/lib/python3.8/site-packages/jupyter_client/managerabc.py'>,\n",
       " 'jupyter_client.manager': <module 'jupyter_client.manager' from '/Users/ds/.pyenv/versions/3.8.0/envs/py380-django30/lib/python3.8/site-packages/jupyter_client/manager.py'>,\n",
       " 'jupyter_client.blocking.channels': <module 'jupyter_client.blocking.channels' from '/Users/ds/.pyenv/versions/3.8.0/envs/py380-django30/lib/python3.8/site-packages/jupyter_client/blocking/channels.py'>,\n",
       " 'jupyter_client.blocking.client': <module 'jupyter_client.blocking.client' from '/Users/ds/.pyenv/versions/3.8.0/envs/py380-django30/lib/python3.8/site-packages/jupyter_client/blocking/client.py'>,\n",
       " 'jupyter_client.blocking': <module 'jupyter_client.blocking' from '/Users/ds/.pyenv/versions/3.8.0/envs/py380-django30/lib/python3.8/site-packages/jupyter_client/blocking/__init__.py'>,\n",
       " 'zmq._future': <module 'zmq._future' from '/Users/ds/.pyenv/versions/3.8.0/envs/py380-django30/lib/python3.8/site-packages/zmq/_future.py'>,\n",
       " 'zmq.asyncio': <module 'zmq.asyncio' from '/Users/ds/.pyenv/versions/3.8.0/envs/py380-django30/lib/python3.8/site-packages/zmq/asyncio/__init__.py'>,\n",
       " 'jupyter_client.asynchronous.channels': <module 'jupyter_client.asynchronous.channels' from '/Users/ds/.pyenv/versions/3.8.0/envs/py380-django30/lib/python3.8/site-packages/jupyter_client/asynchronous/channels.py'>,\n",
       " 'jupyter_client.asynchronous.client': <module 'jupyter_client.asynchronous.client' from '/Users/ds/.pyenv/versions/3.8.0/envs/py380-django30/lib/python3.8/site-packages/jupyter_client/asynchronous/client.py'>,\n",
       " 'jupyter_client.asynchronous': <module 'jupyter_client.asynchronous' from '/Users/ds/.pyenv/versions/3.8.0/envs/py380-django30/lib/python3.8/site-packages/jupyter_client/asynchronous/__init__.py'>,\n",
       " '_uuid': <module '_uuid' from '/Users/ds/.pyenv/versions/3.8.0/lib/python3.8/lib-dynload/_uuid.cpython-38-darwin.so'>,\n",
       " 'uuid': <module 'uuid' from '/Users/ds/.pyenv/versions/3.8.0/lib/python3.8/uuid.py'>,\n",
       " 'jupyter_client.multikernelmanager': <module 'jupyter_client.multikernelmanager' from '/Users/ds/.pyenv/versions/3.8.0/envs/py380-django30/lib/python3.8/site-packages/jupyter_client/multikernelmanager.py'>,\n",
       " 'jupyter_client': <module 'jupyter_client' from '/Users/ds/.pyenv/versions/3.8.0/envs/py380-django30/lib/python3.8/site-packages/jupyter_client/__init__.py'>,\n",
       " 'ipykernel.connect': <module 'ipykernel.connect' from '/Users/ds/.pyenv/versions/3.8.0/envs/py380-django30/lib/python3.8/site-packages/ipykernel/connect.py'>,\n",
       " 'ipykernel': <module 'ipykernel' from '/Users/ds/.pyenv/versions/3.8.0/envs/py380-django30/lib/python3.8/site-packages/ipykernel/__init__.py'>,\n",
       " 'tornado': <module 'tornado' from '/Users/ds/.pyenv/versions/3.8.0/envs/py380-django30/lib/python3.8/site-packages/tornado/__init__.py'>,\n",
       " 'numbers': <module 'numbers' from '/Users/ds/.pyenv/versions/3.8.0/lib/python3.8/numbers.py'>,\n",
       " 'logging.handlers': <module 'logging.handlers' from '/Users/ds/.pyenv/versions/3.8.0/lib/python3.8/logging/handlers.py'>,\n",
       " 'tornado.speedups': <module 'tornado.speedups' from '/Users/ds/.pyenv/versions/3.8.0/envs/py380-django30/lib/python3.8/site-packages/tornado/speedups.cpython-38-darwin.so'>,\n",
       " 'tornado.util': <module 'tornado.util' from '/Users/ds/.pyenv/versions/3.8.0/envs/py380-django30/lib/python3.8/site-packages/tornado/util.py'>,\n",
       " 'tornado.escape': <module 'tornado.escape' from '/Users/ds/.pyenv/versions/3.8.0/envs/py380-django30/lib/python3.8/site-packages/tornado/escape.py'>,\n",
       " '_curses': <module '_curses' from '/Users/ds/.pyenv/versions/3.8.0/lib/python3.8/lib-dynload/_curses.cpython-38-darwin.so'>,\n",
       " 'curses': <module 'curses' from '/Users/ds/.pyenv/versions/3.8.0/lib/python3.8/curses/__init__.py'>,\n",
       " 'tornado.log': <module 'tornado.log' from '/Users/ds/.pyenv/versions/3.8.0/envs/py380-django30/lib/python3.8/site-packages/tornado/log.py'>,\n",
       " 'tornado.concurrent': <module 'tornado.concurrent' from '/Users/ds/.pyenv/versions/3.8.0/envs/py380-django30/lib/python3.8/site-packages/tornado/concurrent.py'>,\n",
       " 'tornado.ioloop': <module 'tornado.ioloop' from '/Users/ds/.pyenv/versions/3.8.0/envs/py380-django30/lib/python3.8/site-packages/tornado/ioloop.py'>,\n",
       " 'tornado.platform': <module 'tornado.platform' from '/Users/ds/.pyenv/versions/3.8.0/envs/py380-django30/lib/python3.8/site-packages/tornado/platform/__init__.py'>,\n",
       " 'tornado.gen': <module 'tornado.gen' from '/Users/ds/.pyenv/versions/3.8.0/envs/py380-django30/lib/python3.8/site-packages/tornado/gen.py'>,\n",
       " 'tornado.platform.asyncio': <module 'tornado.platform.asyncio' from '/Users/ds/.pyenv/versions/3.8.0/envs/py380-django30/lib/python3.8/site-packages/tornado/platform/asyncio.py'>,\n",
       " 'zmq.eventloop.ioloop': <module 'zmq.eventloop.ioloop' from '/Users/ds/.pyenv/versions/3.8.0/envs/py380-django30/lib/python3.8/site-packages/zmq/eventloop/ioloop.py'>,\n",
       " 'zmq.eventloop': <module 'zmq.eventloop' from '/Users/ds/.pyenv/versions/3.8.0/envs/py380-django30/lib/python3.8/site-packages/zmq/eventloop/__init__.py'>,\n",
       " 'zmq.eventloop.zmqstream': <module 'zmq.eventloop.zmqstream' from '/Users/ds/.pyenv/versions/3.8.0/envs/py380-django30/lib/python3.8/site-packages/zmq/eventloop/zmqstream.py'>,\n",
       " 'imp': <module 'imp' from '/Users/ds/.pyenv/versions/3.8.0/lib/python3.8/imp.py'>,\n",
       " 'hmac': <module 'hmac' from '/Users/ds/.pyenv/versions/3.8.0/lib/python3.8/hmac.py'>,\n",
       " 'dateutil._version': <module 'dateutil._version' from '/Users/ds/.pyenv/versions/3.8.0/envs/py380-django30/lib/python3.8/site-packages/dateutil/_version.py'>,\n",
       " 'dateutil': <module 'dateutil' from '/Users/ds/.pyenv/versions/3.8.0/envs/py380-django30/lib/python3.8/site-packages/dateutil/__init__.py'>,\n",
       " '_decimal': <module '_decimal' from '/Users/ds/.pyenv/versions/3.8.0/lib/python3.8/lib-dynload/_decimal.cpython-38-darwin.so'>,\n",
       " 'decimal': <module 'decimal' from '/Users/ds/.pyenv/versions/3.8.0/lib/python3.8/decimal.py'>,\n",
       " 'dateutil._common': <module 'dateutil._common' from '/Users/ds/.pyenv/versions/3.8.0/envs/py380-django30/lib/python3.8/site-packages/dateutil/_common.py'>,\n",
       " 'dateutil.relativedelta': <module 'dateutil.relativedelta' from '/Users/ds/.pyenv/versions/3.8.0/envs/py380-django30/lib/python3.8/site-packages/dateutil/relativedelta.py'>,\n",
       " 'six.moves': <module 'six.moves' (<six._SixMetaPathImporter object at 0x1012cca60>)>,\n",
       " 'dateutil.tz._common': <module 'dateutil.tz._common' from '/Users/ds/.pyenv/versions/3.8.0/envs/py380-django30/lib/python3.8/site-packages/dateutil/tz/_common.py'>,\n",
       " 'dateutil.tz._factories': <module 'dateutil.tz._factories' from '/Users/ds/.pyenv/versions/3.8.0/envs/py380-django30/lib/python3.8/site-packages/dateutil/tz/_factories.py'>,\n",
       " 'dateutil.tz.tz': <module 'dateutil.tz.tz' from '/Users/ds/.pyenv/versions/3.8.0/envs/py380-django30/lib/python3.8/site-packages/dateutil/tz/tz.py'>,\n",
       " 'dateutil.tz': <module 'dateutil.tz' from '/Users/ds/.pyenv/versions/3.8.0/envs/py380-django30/lib/python3.8/site-packages/dateutil/tz/__init__.py'>,\n",
       " 'dateutil.parser._parser': <module 'dateutil.parser._parser' from '/Users/ds/.pyenv/versions/3.8.0/envs/py380-django30/lib/python3.8/site-packages/dateutil/parser/_parser.py'>,\n",
       " 'dateutil.parser.isoparser': <module 'dateutil.parser.isoparser' from '/Users/ds/.pyenv/versions/3.8.0/envs/py380-django30/lib/python3.8/site-packages/dateutil/parser/isoparser.py'>,\n",
       " 'dateutil.parser': <module 'dateutil.parser' from '/Users/ds/.pyenv/versions/3.8.0/envs/py380-django30/lib/python3.8/site-packages/dateutil/parser/__init__.py'>,\n",
       " '_strptime': <module '_strptime' from '/Users/ds/.pyenv/versions/3.8.0/lib/python3.8/_strptime.py'>,\n",
       " 'jupyter_client.jsonutil': <module 'jupyter_client.jsonutil' from '/Users/ds/.pyenv/versions/3.8.0/envs/py380-django30/lib/python3.8/site-packages/jupyter_client/jsonutil.py'>,\n",
       " 'jupyter_client.adapter': <module 'jupyter_client.adapter' from '/Users/ds/.pyenv/versions/3.8.0/envs/py380-django30/lib/python3.8/site-packages/jupyter_client/adapter.py'>,\n",
       " 'jupyter_client.session': <module 'jupyter_client.session' from '/Users/ds/.pyenv/versions/3.8.0/envs/py380-django30/lib/python3.8/site-packages/jupyter_client/session.py'>,\n",
       " 'ipykernel.iostream': <module 'ipykernel.iostream' from '/Users/ds/.pyenv/versions/3.8.0/envs/py380-django30/lib/python3.8/site-packages/ipykernel/iostream.py'>,\n",
       " 'ipykernel.heartbeat': <module 'ipykernel.heartbeat' from '/Users/ds/.pyenv/versions/3.8.0/envs/py380-django30/lib/python3.8/site-packages/ipykernel/heartbeat.py'>,\n",
       " 'IPython.utils.tokenutil': <module 'IPython.utils.tokenutil' from '/Users/ds/.pyenv/versions/3.8.0/envs/py380-django30/lib/python3.8/site-packages/IPython/utils/tokenutil.py'>,\n",
       " 'tornado.locks': <module 'tornado.locks' from '/Users/ds/.pyenv/versions/3.8.0/envs/py380-django30/lib/python3.8/site-packages/tornado/locks.py'>,\n",
       " 'tornado.queues': <module 'tornado.queues' from '/Users/ds/.pyenv/versions/3.8.0/envs/py380-django30/lib/python3.8/site-packages/tornado/queues.py'>,\n",
       " 'ipykernel.jsonutil': <module 'ipykernel.jsonutil' from '/Users/ds/.pyenv/versions/3.8.0/envs/py380-django30/lib/python3.8/site-packages/ipykernel/jsonutil.py'>,\n",
       " 'ipykernel.kernelbase': <module 'ipykernel.kernelbase' from '/Users/ds/.pyenv/versions/3.8.0/envs/py380-django30/lib/python3.8/site-packages/ipykernel/kernelbase.py'>,\n",
       " 'ipykernel.comm.comm': <module 'ipykernel.comm.comm' from '/Users/ds/.pyenv/versions/3.8.0/envs/py380-django30/lib/python3.8/site-packages/ipykernel/comm/comm.py'>,\n",
       " 'ipykernel.comm.manager': <module 'ipykernel.comm.manager' from '/Users/ds/.pyenv/versions/3.8.0/envs/py380-django30/lib/python3.8/site-packages/ipykernel/comm/manager.py'>,\n",
       " 'ipykernel.comm': <module 'ipykernel.comm' from '/Users/ds/.pyenv/versions/3.8.0/envs/py380-django30/lib/python3.8/site-packages/ipykernel/comm/__init__.py'>,\n",
       " 'IPython.core.payloadpage': <module 'IPython.core.payloadpage' from '/Users/ds/.pyenv/versions/3.8.0/envs/py380-django30/lib/python3.8/site-packages/IPython/core/payloadpage.py'>,\n",
       " 'ipykernel.displayhook': <module 'ipykernel.displayhook' from '/Users/ds/.pyenv/versions/3.8.0/envs/py380-django30/lib/python3.8/site-packages/ipykernel/displayhook.py'>,\n",
       " 'ipykernel.zmqshell': <module 'ipykernel.zmqshell' from '/Users/ds/.pyenv/versions/3.8.0/envs/py380-django30/lib/python3.8/site-packages/ipykernel/zmqshell.py'>,\n",
       " 'distutils.version': <module 'distutils.version' from '/Users/ds/.pyenv/versions/3.8.0/lib/python3.8/distutils/version.py'>,\n",
       " 'ipykernel.eventloops': <module 'ipykernel.eventloops' from '/Users/ds/.pyenv/versions/3.8.0/envs/py380-django30/lib/python3.8/site-packages/ipykernel/eventloops.py'>,\n",
       " 'ipykernel.ipkernel': <module 'ipykernel.ipkernel' from '/Users/ds/.pyenv/versions/3.8.0/envs/py380-django30/lib/python3.8/site-packages/ipykernel/ipkernel.py'>,\n",
       " 'ipykernel.parentpoller': <module 'ipykernel.parentpoller' from '/Users/ds/.pyenv/versions/3.8.0/envs/py380-django30/lib/python3.8/site-packages/ipykernel/parentpoller.py'>,\n",
       " 'ipykernel.kernelapp': <module 'ipykernel.kernelapp' from '/Users/ds/.pyenv/versions/3.8.0/envs/py380-django30/lib/python3.8/site-packages/ipykernel/kernelapp.py'>,\n",
       " 'faulthandler': <module 'faulthandler' (built-in)>,\n",
       " 'ipykernel.codeutil': <module 'ipykernel.codeutil' from '/Users/ds/.pyenv/versions/3.8.0/envs/py380-django30/lib/python3.8/site-packages/ipykernel/codeutil.py'>,\n",
       " 'ipykernel.pickleutil': <module 'ipykernel.pickleutil' from '/Users/ds/.pyenv/versions/3.8.0/envs/py380-django30/lib/python3.8/site-packages/ipykernel/pickleutil.py'>,\n",
       " 'ipykernel.serialize': <module 'ipykernel.serialize' from '/Users/ds/.pyenv/versions/3.8.0/envs/py380-django30/lib/python3.8/site-packages/ipykernel/serialize.py'>,\n",
       " 'ipykernel.datapub': <module 'ipykernel.datapub' from '/Users/ds/.pyenv/versions/3.8.0/envs/py380-django30/lib/python3.8/site-packages/ipykernel/datapub.py'>,\n",
       " 'IPython.core.completerlib': <module 'IPython.core.completerlib' from '/Users/ds/.pyenv/versions/3.8.0/envs/py380-django30/lib/python3.8/site-packages/IPython/core/completerlib.py'>,\n",
       " 'xml.parsers': <module 'xml.parsers' from '/Users/ds/.pyenv/versions/3.8.0/lib/python3.8/xml/parsers/__init__.py'>,\n",
       " 'pyexpat.errors': <module 'pyexpat.errors'>,\n",
       " 'pyexpat.model': <module 'pyexpat.model'>,\n",
       " 'pyexpat': <module 'pyexpat' from '/Users/ds/.pyenv/versions/3.8.0/lib/python3.8/lib-dynload/pyexpat.cpython-38-darwin.so'>,\n",
       " 'xml.parsers.expat.model': <module 'pyexpat.model'>,\n",
       " 'xml.parsers.expat.errors': <module 'pyexpat.errors'>,\n",
       " 'xml.parsers.expat': <module 'xml.parsers.expat' from '/Users/ds/.pyenv/versions/3.8.0/lib/python3.8/xml/parsers/expat.py'>,\n",
       " 'plistlib': <module 'plistlib' from '/Users/ds/.pyenv/versions/3.8.0/lib/python3.8/plistlib.py'>,\n",
       " 'ctypes.macholib': <module 'ctypes.macholib' from '/Users/ds/.pyenv/versions/3.8.0/lib/python3.8/ctypes/macholib/__init__.py'>,\n",
       " 'ctypes.macholib.framework': <module 'ctypes.macholib.framework' from '/Users/ds/.pyenv/versions/3.8.0/lib/python3.8/ctypes/macholib/framework.py'>,\n",
       " 'ctypes.macholib.dylib': <module 'ctypes.macholib.dylib' from '/Users/ds/.pyenv/versions/3.8.0/lib/python3.8/ctypes/macholib/dylib.py'>,\n",
       " 'ctypes.macholib.dyld': <module 'ctypes.macholib.dyld' from '/Users/ds/.pyenv/versions/3.8.0/lib/python3.8/ctypes/macholib/dyld.py'>,\n",
       " 'ctypes.util': <module 'ctypes.util' from '/Users/ds/.pyenv/versions/3.8.0/lib/python3.8/ctypes/util.py'>,\n",
       " 'appnope._nope': <module 'appnope._nope' from '/Users/ds/.pyenv/versions/3.8.0/envs/py380-django30/lib/python3.8/site-packages/appnope/_nope.py'>,\n",
       " 'appnope': <module 'appnope' from '/Users/ds/.pyenv/versions/3.8.0/envs/py380-django30/lib/python3.8/site-packages/appnope/__init__.py'>,\n",
       " 'storemagic': <module 'storemagic' from '/Users/ds/.pyenv/versions/3.8.0/envs/py380-django30/lib/python3.8/site-packages/IPython/extensions/storemagic.py'>,\n",
       " 'test': <module 'test' from '/Users/ds/git/python3-metaprogramming-dbeazley/test.py'>,\n",
       " 'jedi.inference.star_args': <module 'jedi.inference.star_args' from '/Users/ds/.pyenv/versions/3.8.0/envs/py380-django30/lib/python3.8/site-packages/jedi/inference/star_args.py'>}"
      ]
     },
     "execution_count": 9,
     "metadata": {},
     "output_type": "execute_result"
    }
   ],
   "source": [
    "import sys\n",
    "sys.modules"
   ]
  },
  {
   "cell_type": "code",
   "execution_count": 15,
   "metadata": {},
   "outputs": [
    {
     "ename": "KeyError",
     "evalue": "'test'",
     "output_type": "error",
     "traceback": [
      "\u001b[0;31m---------------------------------------------------------------------------\u001b[0m",
      "\u001b[0;31mKeyError\u001b[0m                                  Traceback (most recent call last)",
      "\u001b[0;32m<ipython-input-15-e7ae1e5b4fd8>\u001b[0m in \u001b[0;36m<module>\u001b[0;34m\u001b[0m\n\u001b[0;32m----> 1\u001b[0;31m \u001b[0;32mdel\u001b[0m \u001b[0msys\u001b[0m\u001b[0;34m.\u001b[0m\u001b[0mmodules\u001b[0m\u001b[0;34m[\u001b[0m\u001b[0;34m'test'\u001b[0m\u001b[0;34m]\u001b[0m\u001b[0;34m\u001b[0m\u001b[0;34m\u001b[0m\u001b[0m\n\u001b[0m",
      "\u001b[0;31mKeyError\u001b[0m: 'test'"
     ]
    }
   ],
   "source": [
    "del sys.modules['test']"
   ]
  },
  {
   "cell_type": "code",
   "execution_count": 17,
   "metadata": {},
   "outputs": [
    {
     "name": "stdout",
     "output_type": "stream",
     "text": [
      "None\n"
     ]
    }
   ],
   "source": [
    "print(sys.modules.get('test', None))"
   ]
  },
  {
   "cell_type": "code",
   "execution_count": 18,
   "metadata": {},
   "outputs": [
    {
     "name": "stdout",
     "output_type": "stream",
     "text": [
      "True\n"
     ]
    }
   ],
   "source": [
    "# So now, let us make a change to test.py by removing the email field\n",
    "# and then reimport it here to see if it works (the help shows updated func docstring)\n",
    "from test import func\n",
    "print('test' in sys.modules.keys())"
   ]
  },
  {
   "cell_type": "code",
   "execution_count": 19,
   "metadata": {},
   "outputs": [
    {
     "name": "stdout",
     "output_type": "stream",
     "text": [
      "Help on function func in module test:\n",
      "\n",
      "func(name)\n",
      "    name: user's name\n",
      "    return: None\n",
      "\n"
     ]
    }
   ],
   "source": [
    "help(func)"
   ]
  },
  {
   "cell_type": "code",
   "execution_count": 20,
   "metadata": {},
   "outputs": [],
   "source": [
    "# Yay it works! so probably that's how module reloading works?"
   ]
  },
  {
   "cell_type": "code",
   "execution_count": 22,
   "metadata": {},
   "outputs": [],
   "source": [
    "class StructFinder:\n",
    "    \n",
    "    @classmethod\n",
    "    def find_module(cls, fullname, path):\n",
    "        # In theory: will look up for a matching XML file\n",
    "        # make it import (somehow)\n",
    "        for dirname in sys.path:\n",
    "            filename = os.path.join(dirname, fullname + '.xml')\n",
    "            \n",
    "            if os.path.exists(filename):\n",
    "                print('Loading XML:', filename)\n",
    "                \n",
    "                return StructXMLLoader(filename\n",
    "                                      ) # we will need to define this Loader class\n",
    "        return None\n",
    "\n",
    "import imp\n",
    "class StructXMLLoader:\n",
    "    def __init__(self, filename):\n",
    "        self.filename = filename\n",
    "\n",
    "    # This class basically needs to have load_module method\n",
    "    def load_module(self, fullname, path):\n",
    "        # Carry out the import steps\n",
    "        # Things you have to do to carry out the import\n",
    "        # modules in Python are by themselves a \"module\" object\n",
    "        # There's an imp library (import imp) and you can make modules with that\n",
    "        # so in theory you can do, import imp; mod = imp.module('foo') to make a new module\n",
    "        # mod = imp.new_module(fullname)\n",
    "\n",
    "        # you have to maintain the sys.modules cache\n",
    "        # You can check sys.modules by seeing import sys; sys.modules\n",
    "        # Now if the module already exists in sys.modules, you have to reuse it\n",
    "        if fullname in sys.modules:\n",
    "            mod = sys.modules[fullname]\n",
    "        else:\n",
    "            mod = imp.new_module(fullname)\n",
    "            sys.modules[fullname] = mod\n",
    "        \n",
    "        # then once we have the module worked out, we need to set a few params\n",
    "        # we need to set the __file__ param to indicate where this thing came from\n",
    "        mod.__file__ = self.filename\n",
    "        \n",
    "        # set what Loader is used to make this thing\n",
    "        mod.__loader__ = self\n",
    "        \n",
    "        # now because you have an XML file and you want to convert that into Python Code before returning\n",
    "        code = xml_to_code(self.filename)\n",
    "        # but we don't have this xml_to_code function, David has it in the video\n",
    "        # See video at 2:30:00\n",
    "        # and then you finally just exec it in the mod dictionary\n",
    "        exec(code, mod.__dict__, mod.__dict__)\n",
    "        return mod\n",
    "        "
   ]
  },
  {
   "cell_type": "code",
   "execution_count": 24,
   "metadata": {
    "scrolled": true
   },
   "outputs": [
    {
     "name": "stdout",
     "output_type": "stream",
     "text": [
      "def func(name):\n",
      "\t\"\"\"\n",
      "\tname: user's name\n",
      "\treturn: None\n",
      "\t\"\"\"\n",
      "\tprint(name)\n",
      "\n"
     ]
    }
   ],
   "source": [
    "import test\n",
    "import inspect\n",
    "print(inspect.getsource(test))"
   ]
  },
  {
   "cell_type": "markdown",
   "metadata": {},
   "source": [
    "# Extreme Power\n",
    "* Think about all of the neat things we did we metaprogramming\n",
    "```\n",
    "class Stock(Structure):\n",
    "    name = SizedRegexString(maxlen=8, pat='[A-Z]+$')\n",
    "    shares = PosInteger()\n",
    "    price = PosFloat()\n",
    "```\n",
    "* Descriptors as building blocks\n",
    "* Hiding of annoying details (signature, etc.)\n",
    "* Dynamic code generation\n",
    "* Even customizing import (import hooks)"
   ]
  },
  {
   "cell_type": "markdown",
   "metadata": {},
   "source": [
    "# Hack or by Design?\n",
    "* Python 3 is **designed** to do this sort of stuff\n",
    "    * More advanced metaclasses (e.g. `__prepare__`)\n",
    "    * Signatures\n",
    "    * Import hooks\n",
    "    * Keyword-only args\n",
    "* Observe: David didn't do any mid-twisting \"hacks\" to work around a language limitation"
   ]
  },
  {
   "cell_type": "markdown",
   "metadata": {},
   "source": [
    "# Python 3 FTW!\n",
    "* Python 3 makes a lot of little things easier\n",
    "* Example: Python 2 keyword-only args\n",
    "```\n",
    "def __init__(self, *args, **kwargs):\n",
    "    self.maxlen = kwargs.pop('maxlen')\n",
    "    ...\n",
    "```\n",
    "* In Python 3\n",
    "```\n",
    "def __init__(self, *args, maxlen, **kwargs):\n",
    "    self.maxlen = maxlen\n",
    "    ...\n",
    "```\n",
    "* There are a lot of little things like this"
   ]
  },
  {
   "cell_type": "markdown",
   "metadata": {},
   "source": [
    "# Just the Start!\n",
    "* We've only scratched the surface\n",
    "* Function annotations\n",
    "```\n",
    "def add(x: int, y:int) -> int:\n",
    "    return x + y\n",
    "```\n",
    "* Non-local variables\n",
    "```\n",
    "def outer():\n",
    "    x = 0\n",
    "    def inner():\n",
    "        nonlocal x\n",
    "        x = newvalue\n",
    "    ...\n",
    "```\n",
    "* Context managers\n",
    "```\n",
    "with m:\n",
    "    ...\n",
    "```\n",
    "* Frame-hacks\n",
    "```\n",
    "import sys\n",
    "f = sys._getframe(1)    # modifying stack frames\n",
    "```\n",
    "* Parsing/AST-manipulation\n",
    "```\n",
    "import ast\n",
    "```"
   ]
  },
  {
   "cell_type": "code",
   "execution_count": 25,
   "metadata": {},
   "outputs": [
    {
     "data": {
      "text/plain": [
       "{'x': int, 'y': int, 'return': int}"
      ]
     },
     "execution_count": 25,
     "metadata": {},
     "output_type": "execute_result"
    }
   ],
   "source": [
    "def add(x: int, y:int) -> int:\n",
    "  return x + y\n",
    "add.__annotations__"
   ]
  },
  {
   "cell_type": "code",
   "execution_count": null,
   "metadata": {},
   "outputs": [],
   "source": []
  }
 ],
 "metadata": {
  "kernelspec": {
   "display_name": "Python 3",
   "language": "python",
   "name": "python3"
  },
  "language_info": {
   "codemirror_mode": {
    "name": "ipython",
    "version": 3
   },
   "file_extension": ".py",
   "mimetype": "text/x-python",
   "name": "python",
   "nbconvert_exporter": "python",
   "pygments_lexer": "ipython3",
   "version": "3.8.0"
  }
 },
 "nbformat": 4,
 "nbformat_minor": 2
}
