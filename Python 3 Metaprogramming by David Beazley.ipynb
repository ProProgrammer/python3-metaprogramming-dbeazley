{
 "cells": [
  {
   "cell_type": "code",
   "execution_count": 20,
   "metadata": {},
   "outputs": [
    {
     "name": "stdout",
     "output_type": "stream",
     "text": [
      "[' S', 'o', 'm', 'e', ' T', 'i', 't', 'l', 'e', ' W', 'i', 't', 'h', ' C', 'a', 'p', 's', '.', 'm', 'p', '3']\n"
     ]
    }
   ],
   "source": [
    "title = list('SomeTitleWithCaps.mp3')\n",
    "for i, s in enumerate(title):\n",
    "    if s.isupper():\n",
    "        title[i] = ' ' + s\n",
    "# title = ''.join(title).strip()\n",
    "print(title)"
   ]
  },
  {
   "cell_type": "markdown",
   "metadata": {},
   "source": [
    "### Start of learnings from [Python 3 Metaprogramming | David Beazley](https://www.youtube.com/watch?v=sPiWg5jSoZI)"
   ]
  },
  {
   "cell_type": "code",
   "execution_count": 3,
   "metadata": {},
   "outputs": [
    {
     "name": "stdout",
     "output_type": "stream",
     "text": [
      "1 3\n"
     ]
    },
    {
     "ename": "TypeError",
     "evalue": "function() takes 1 positional argument but 2 were given",
     "output_type": "error",
     "traceback": [
      "\u001b[0;31m---------------------------------------------------------------------------\u001b[0m",
      "\u001b[0;31mTypeError\u001b[0m                                 Traceback (most recent call last)",
      "\u001b[0;32m<ipython-input-3-7fae0ae59404>\u001b[0m in \u001b[0;36m<module>\u001b[0;34m\u001b[0m\n\u001b[1;32m      6\u001b[0m \u001b[0;34m\u001b[0m\u001b[0m\n\u001b[1;32m      7\u001b[0m \u001b[0mfunction\u001b[0m\u001b[0;34m(\u001b[0m\u001b[0;36m1\u001b[0m\u001b[0;34m,\u001b[0m \u001b[0msecond_arg\u001b[0m\u001b[0;34m=\u001b[0m\u001b[0;36m3\u001b[0m\u001b[0;34m)\u001b[0m   \u001b[0;31m# works\u001b[0m\u001b[0;34m\u001b[0m\u001b[0m\n\u001b[0;32m----> 8\u001b[0;31m \u001b[0mfunction\u001b[0m\u001b[0;34m(\u001b[0m\u001b[0;36m1\u001b[0m\u001b[0;34m,\u001b[0m \u001b[0;36m3\u001b[0m\u001b[0;34m)\u001b[0m              \u001b[0;31m# Error\u001b[0m\u001b[0;34m\u001b[0m\u001b[0m\n\u001b[0m",
      "\u001b[0;31mTypeError\u001b[0m: function() takes 1 positional argument but 2 were given"
     ]
    }
   ],
   "source": [
    "# Python 3 has keyword only Args, if you write a function definition as:\n",
    "# Source: \n",
    "\n",
    "def function(first_arg, *, second_arg=None):\n",
    "    print(first_arg, second_arg)\n",
    "\n",
    "function(1, second_arg=3)   # works\n",
    "function(1, 3)              # Error"
   ]
  },
  {
   "cell_type": "markdown",
   "metadata": {},
   "source": [
    "#### Closures"
   ]
  },
  {
   "cell_type": "code",
   "execution_count": 4,
   "metadata": {},
   "outputs": [
    {
     "name": "stdout",
     "output_type": "stream",
     "text": [
      "5\n",
      "30\n"
     ]
    }
   ],
   "source": [
    "def make_adder(x, y):\n",
    "    def add():\n",
    "        return x + y\n",
    "    return add   # this function (make_adder) returns a function (add)\n",
    "\n",
    "# * Local Variables are captured\n",
    "\n",
    "a = make_adder(2, 3)\n",
    "b = make_adder(10, 20)\n",
    "\n",
    "print(a())\n",
    "print(b())"
   ]
  },
  {
   "cell_type": "code",
   "execution_count": null,
   "metadata": {},
   "outputs": [],
   "source": [
    "#### Classes"
   ]
  },
  {
   "cell_type": "code",
   "execution_count": 6,
   "metadata": {},
   "outputs": [],
   "source": [
    "#### Special Methods\n",
    "class Array:\n",
    "    def __getitem__(self, index):\n",
    "        ...\n",
    "    def __setitem___(self, index, value):\n",
    "        ...\n",
    "    def __delitem__(self, index):\n",
    "        ...\n",
    "    def __contains__(self, item):\n",
    "        ...\n",
    "\n",
    "# Point: Almost everything can be customized"
   ]
  },
  {
   "cell_type": "code",
   "execution_count": 7,
   "metadata": {},
   "outputs": [],
   "source": [
    "#### Inheritance in classes"
   ]
  },
  {
   "cell_type": "code",
   "execution_count": 8,
   "metadata": {},
   "outputs": [
    {
     "name": "stdout",
     "output_type": "stream",
     "text": [
      "{'x': 2, 'y': 3}\n",
      "<function Spam.foo at 0x10d5a0c80>\n"
     ]
    }
   ],
   "source": [
    "#### Dictionaries\n",
    "# Objects are layered on dictionaries\n",
    "class Spam:\n",
    "    def __init__(self, x, y):\n",
    "        self.x = x\n",
    "        self.y = y\n",
    "    def foo(self):\n",
    "        pass\n",
    "\n",
    "a = Spam(2, 3)\n",
    "print(a.__dict__)\n",
    "print(Spam.__dict__['foo'])"
   ]
  },
  {
   "cell_type": "markdown",
   "metadata": {},
   "source": [
    "#### Metaprogramming Basics"
   ]
  },
  {
   "cell_type": "markdown",
   "metadata": {},
   "source": [
    "##### Problem: Debugging\n",
    "- Illustrate basics with a simple problem\n",
    "- Debugging\n",
    "- Not the only application, but simple enough to fit on slides (:facepalm:)"
   ]
  },
  {
   "cell_type": "code",
   "execution_count": 9,
   "metadata": {},
   "outputs": [],
   "source": [
    "# E.g. debugging with print, but what if you have many functions\n",
    "# you will need to add print statement for each of the function - that is\n",
    "# code repetition\n",
    "\n",
    "def add(x, y):\n",
    "    print('add')\n",
    "    return x + y\n",
    "def sub(x, y):\n",
    "    print('sub')\n",
    "    return x - y\n",
    "def mul(x, y):\n",
    "    print('mul')\n",
    "    return x * y\n",
    "# We have already repeated the line \"print\" three times in above three functions\n",
    "\n",
    "# Enter Decorators"
   ]
  },
  {
   "cell_type": "markdown",
   "metadata": {},
   "source": [
    "##### Decorators\n",
    "- A decorator is a function that creates a wrapper around another function\n",
    "- The wrapper is a new function that works exactly like the original function (same arguments, same return value) excep that some kind of extra processing is carried out"
   ]
  },
  {
   "cell_type": "code",
   "execution_count": 22,
   "metadata": {},
   "outputs": [
    {
     "name": "stdout",
     "output_type": "stream",
     "text": [
      "add\n",
      "3\n",
      "-----\n",
      "<function debug.<locals>.wrapper at 0x10d7bc950>\n",
      "Help on function wrapper in module __main__:\n",
      "\n",
      "wrapper(*args, **kwargs)\n",
      "    # takes a function as input\n",
      "    # func is the function to be wrapped\n",
      "\n"
     ]
    }
   ],
   "source": [
    "# e.g\n",
    "def debug(func):\n",
    "    # takes a function as input\n",
    "    # func is the function to be wrapped\n",
    "    def wrapper(*args, **kwargs):\n",
    "        print(func.__name__)\n",
    "        return func(*args, **kwargs)\n",
    "    return wrapper\n",
    "\n",
    "@debug\n",
    "def add(x, y):\n",
    "    \"\"\"\n",
    "    Add two numbers\n",
    "    \"\"\"\n",
    "    return x + y\n",
    "\n",
    "@debug\n",
    "def sub(x, y):\n",
    "#     print('sub')\n",
    "    return x - y\n",
    "\n",
    "@debug\n",
    "def mul(x, y):\n",
    "#     print('mul')\n",
    "    return x * y\n",
    "\n",
    "print(add(1, 2))\n",
    "# However we lost some details in the process\n",
    "# e.g.\n",
    "print('-----')\n",
    "print(add) # returns meaningless <function debug.<locals>.wrapper ...>\n",
    "help(add)  # again returns meaningless stuff on wrapper function"
   ]
  },
  {
   "cell_type": "code",
   "execution_count": 21,
   "metadata": {},
   "outputs": [
    {
     "name": "stdout",
     "output_type": "stream",
     "text": [
      "add\n",
      "3\n",
      "-----\n",
      "<function add at 0x10d7bcf28>\n",
      "Help on function add in module __main__:\n",
      "\n",
      "add(x, y)\n",
      "    Add two numbers\n",
      "\n"
     ]
    }
   ],
   "source": [
    "# So we have to do some technicality on our wrapper function\n",
    "# get wraps from functools and apply that as the decorator on the internal\n",
    "# function that will be returned by the decorator\n",
    "\n",
    "from functools import wraps\n",
    "\n",
    "def debug_updated(func):\n",
    "    @wraps(func)   # This copies metadata from one function to the another\n",
    "    def wrapper(*args, **kwargs):\n",
    "        print(func.__name__)\n",
    "        return func(*args, **kwargs)\n",
    "    return wrapper\n",
    "\n",
    "# Let's try this decorator\n",
    "@debug_updated\n",
    "def add(x, y):\n",
    "    \"\"\"\n",
    "    Add two numbers\n",
    "    \"\"\"\n",
    "    return x + y\n",
    "\n",
    "print(add(1, 2))\n",
    "print('-----')\n",
    "print(add)\n",
    "help(add)"
   ]
  },
  {
   "cell_type": "code",
   "execution_count": 24,
   "metadata": {},
   "outputs": [
    {
     "name": "stdout",
     "output_type": "stream",
     "text": [
      "add\n",
      "3\n",
      "-----\n",
      "<function add at 0x10e0800d0>\n",
      "Help on function add in module __main__:\n",
      "\n",
      "add(x, y)\n",
      "    Add two numbers\n",
      "\n"
     ]
    }
   ],
   "source": [
    "##### __qualname__ attribute in Python 3 - helpful to use with classes\n",
    "# qualname prints out the class name along with method name\n",
    "# debug with __qualname__ instead of __name__\n",
    "def debug_with_qualname(func):\n",
    "    @wraps(func)   # This copies metadata from one function to the another\n",
    "    def wrapper(*args, **kwargs):\n",
    "        print(func.__qualname__)\n",
    "        return func(*args, **kwargs)\n",
    "    return wrapper\n",
    "\n",
    "# Let's try this decorator\n",
    "@debug_with_qualname\n",
    "def add(x, y):\n",
    "    \"\"\"\n",
    "    Add two numbers\n",
    "    \"\"\"\n",
    "    return x + y\n",
    "\n",
    "print(add(1, 2))\n",
    "print('-----')\n",
    "print(add)\n",
    "help(add)"
   ]
  },
  {
   "cell_type": "markdown",
   "metadata": {},
   "source": [
    "##### Big Picture\n",
    "- Debugging code is isolated to a single location\n",
    "- This makes it easy to change (or disable)\n",
    "- User of a decorator doesn't worry about it\n",
    "- That's really the whole idea"
   ]
  },
  {
   "cell_type": "code",
   "execution_count": 36,
   "metadata": {},
   "outputs": [],
   "source": [
    "# e.g. using decorator for logging\n",
    "from functools import wraps\n",
    "import logging\n",
    "\n",
    "def debug(func):\n",
    "    log = logging.getLogger(func.__module__)\n",
    "    msg = func.__qualname__\n",
    "    \n",
    "    @wraps(func)\n",
    "    def wrapper(*args, **kwargs):\n",
    "        log.debug(msg)\n",
    "        return func(*args, **kwargs)\n",
    "\n",
    "    return wrapper\n",
    "\n",
    "# Key Idea: Can change decorator independently of code that uses it\n",
    "## E.g. using an environment variable or some form of flag"
   ]
  },
  {
   "cell_type": "code",
   "execution_count": 37,
   "metadata": {},
   "outputs": [],
   "source": [
    "# What if you wanted to add some prefix to the print statement that we\n",
    "# did earlier in `add`, `sub`, etc.\n",
    "# e.g.\n",
    "def add(x, y):\n",
    "    print('***add') # instead of print(add)\n",
    "    return x + y"
   ]
  },
  {
   "cell_type": "markdown",
   "metadata": {},
   "source": [
    "##### Enter Decorator with Args\n",
    "- calling convention\n",
    "\n",
    "```\n",
    "@decorator(args)\n",
    "def func():\n",
    "    pass\n",
    "```\n",
    "- Evaluates as\n",
    "`func = decorator(args)(func)`\n",
    "- Little weird -- two levels of calls"
   ]
  },
  {
   "cell_type": "code",
   "execution_count": 39,
   "metadata": {},
   "outputs": [
    {
     "name": "stdout",
     "output_type": "stream",
     "text": [
      "***add\n",
      "3\n"
     ]
    }
   ],
   "source": [
    "# Using decorator with args:\n",
    "from functools import wraps\n",
    "\n",
    "def debug(prefix=''):\n",
    "    def decorate(func):\n",
    "        msg = prefix + func.__qualname__\n",
    "        @wraps(func)\n",
    "        def wrapper(*args, **kwargs):\n",
    "            print(msg)\n",
    "            return func(*args, **kwargs)\n",
    "        return wrapper\n",
    "    return decorate\n",
    "\n",
    "# - Usage\n",
    "@debug(prefix='***')\n",
    "def add(x, y):\n",
    "    return x + y\n",
    "\n",
    "print(add(1, 2))"
   ]
  },
  {
   "cell_type": "code",
   "execution_count": 41,
   "metadata": {},
   "outputs": [
    {
     "name": "stdout",
     "output_type": "stream",
     "text": [
      "---add\n",
      "1\n"
     ]
    }
   ],
   "source": [
    "# A Reformulation of above\n",
    "\n",
    "from functools import wraps, partial\n",
    "\n",
    "def debug(func=None, *, prefix=''):\n",
    "    if func is None:\n",
    "        return partial(debug, prefix=prefix)\n",
    "    \n",
    "    msg = prefix + func.__qualname__\n",
    "    @wraps(func)\n",
    "    def wrapper(*args, **kwargs):\n",
    "        print(msg)\n",
    "        return func(*args, **kwargs)\n",
    "    return wrapper\n",
    "\n",
    "# A test of your function calling skills\n",
    "\n",
    "@debug(prefix='---')\n",
    "def add(x, y):\n",
    "    return x + y\n",
    "\n",
    "print(add(0, 1))"
   ]
  },
  {
   "cell_type": "markdown",
   "metadata": {},
   "source": [
    "##### Debug all of This\n",
    "- Debug all of the methods of a class\n",
    "```\n",
    "class Spam:\n",
    "    @debug\n",
    "    def grok(self):\n",
    "        pass\n",
    "       \n",
    "    @debug\n",
    "    def bar(self):\n",
    "        pass\n",
    "\n",
    "    @debug\n",
    "    def foo(self):\n",
    "        pass\n",
    "```\n",
    "- Can you decorate all methods at once?"
   ]
  },
  {
   "cell_type": "code",
   "execution_count": 47,
   "metadata": {},
   "outputs": [],
   "source": [
    "# Class Decorator\n",
    "def debugmethods(cls):\n",
    "    # cls is a class\n",
    "    for name, val in vars(cls).items():\n",
    "        if callable(val):\n",
    "            setattr(cls, name, debug(val))\n",
    "    return cls\n",
    "\n",
    "# - Idea:\n",
    "#     * Walkthrough class dictionary\n",
    "#     * Identify callables (e.g. methods)\n",
    "#     * Wrap with a decorator\n",
    "\n",
    "# So now, we can do something like this:\n",
    "\n",
    "@debugmethods\n",
    "class Spam:\n",
    "    def grok(self):\n",
    "        pass\n",
    "       \n",
    "    def bar(self):\n",
    "        pass\n",
    "\n",
    "    def foo(self):\n",
    "        pass\n",
    "\n",
    "# - One decorator application\n",
    "# - Covers all definitions within the class\n",
    "# - It even mostly works...\n",
    "\n",
    "# Limitations:\n",
    "#     - Does not work with classmethods and staticmethods\n",
    "#     - Only instance methods are wrapped\n",
    "#     - Why? Exercise for the reader..."
   ]
  },
  {
   "cell_type": "code",
   "execution_count": 53,
   "metadata": {},
   "outputs": [
    {
     "name": "stdout",
     "output_type": "stream",
     "text": [
      "Getting attribute: x\n",
      "1\n",
      "Getting attribute: y\n",
      "2\n"
     ]
    }
   ],
   "source": [
    "# Brain surgery of a class\n",
    "# Yanking off the __getattribute__ method on a class\n",
    "\n",
    "def debugattr(cls):\n",
    "    orig_getattribute = cls.__getattribute__\n",
    "    \n",
    "    def __getattribute__(self, name):\n",
    "        print('Getting attribute:', name)\n",
    "        return orig_getattribute(self, name)\n",
    "    \n",
    "    cls.__getattribute__ = __getattribute__\n",
    "    \n",
    "    return cls\n",
    "\n",
    "# * We did a rewrite of the part of the class itself\n",
    "\n",
    "@debugattr\n",
    "class Point:\n",
    "    def __init__(self, x, y):\n",
    "        self.x = x\n",
    "        self.y = y\n",
    "        \n",
    "p = Point(1, 2)\n",
    "print(p.x)\n",
    "print(p.y)"
   ]
  },
  {
   "cell_type": "code",
   "execution_count": 54,
   "metadata": {},
   "outputs": [],
   "source": [
    "# Debug all the classes in a file such that we do not have to write\n",
    "# @debugmethods decorator for each class, current code:\n",
    "@debugmethods\n",
    "class Base:\n",
    "    ...\n",
    "\n",
    "@debugmethods\n",
    "class Spam(Base):\n",
    "    ...\n",
    "\n",
    "@debugmethods\n",
    "class Grok(Base):\n",
    "    ...\n",
    "\n",
    "# Notice there are three debugmethods decorators, what if you wanted\n",
    "# to debug all the classes but without having to write debugmethods so \n",
    "# many times"
   ]
  },
  {
   "cell_type": "code",
   "execution_count": 55,
   "metadata": {},
   "outputs": [],
   "source": [
    "# Obvious solution - define a metaclass\n",
    "class debugmeta(type):\n",
    "    # Metaclasses inherit from `type` which is like the base metaclass\n",
    "    # Read RealPython - Metaclasses for more info on this\n",
    "    \n",
    "    def __new__(cls, clsname, bases, clsdict):\n",
    "        clsobj = super().__new__(cls, clsname, bases, clsdict)\n",
    "        \n",
    "        clsobj = debugmethods(clsobj)\n",
    "        return clsobj\n",
    "\n",
    "# * Idea\n",
    "#     - Class gets created normally in line `clsobj = super().__new__(cls, clsname, bases, clsdict)`\n",
    "#     - Immediately wrapped by class decorator `debugmethods` in line: `clsobj = debugmethods(clsobj)`\n",
    "\n",
    "# Usage of debugmeta\n",
    "class Base(metaclass=debugmeta):\n",
    "    ...\n",
    "\n",
    "class Spam(Base):\n",
    "    ..."
   ]
  },
  {
   "cell_type": "code",
   "execution_count": 58,
   "metadata": {},
   "outputs": [
    {
     "name": "stdout",
     "output_type": "stream",
     "text": [
      "<class 'int'>\n",
      "<class 'str'>\n",
      "<class 'list'>\n",
      "<class 'type'>\n",
      "<class 'type'>\n",
      "<class 'type'>\n"
     ]
    }
   ],
   "source": [
    "x = 42\n",
    "print(type(x))\n",
    "\n",
    "s = 'Hello'\n",
    "print(type(s))\n",
    "\n",
    "item = [1, 2, 3]\n",
    "print(type(item))\n",
    "\n",
    "print(type(type(x)))\n",
    "print(type(type(s)))\n",
    "print(type(type(item)))\n",
    "\n",
    "# Every single item in Python has a type\n",
    "# However the type of the <type> itself is `type`\n",
    "# so type(int) is `type`\n",
    "\n",
    "# In python, every type is defined by a class.\n",
    "\n",
    "# So this means, somewhere `type` has to be a class from where other \"types\"\n",
    "# such as int, str, etc. inherit"
   ]
  },
  {
   "cell_type": "markdown",
   "metadata": {},
   "source": [
    "#### Class Deconstructed"
   ]
  },
  {
   "cell_type": "code",
   "execution_count": null,
   "metadata": {},
   "outputs": [],
   "source": [
    "# * Consider a class\n",
    "class Spam(Base):\n",
    "    def __init__(self, name):\n",
    "        self.name = name\n",
    "    def bar(self):\n",
    "        print 'I am Spam.bar'\n",
    "\n",
    "# * What are its components?\n",
    "#     - Name - \"Spam\"\n",
    "#     - Base Classes - (Base, )\n",
    "#     - Functions (__init__, bar)"
   ]
  },
  {
   "cell_type": "markdown",
   "metadata": {},
   "source": [
    "#### Using a MetaClass\n",
    "* Metaclasses get information about class definitions at the time of definitions\n",
    "    - Can inspect this data\n",
    "    - Can modify this data\n",
    "* Essentially, similar to a class decorator\n",
    "* Question: Why would you use one?\n",
    "\n"
   ]
  },
  {
   "cell_type": "markdown",
   "metadata": {},
   "source": [
    "#### Answer - Inheritance\n",
    "\n",
    "- Metaclasses **propagate** down hierarchies\n",
    "\n",
    "```\n",
    "class Base(metaclass=mytype):\n",
    "    ...\n",
    "\n",
    "class Spam(Base):      # metaclass=mytype\n",
    "    ...\n",
    "\n",
    "class Grok(Spam):      # metaclass=mytype\n",
    "    ...\n",
    "```\n",
    "\n",
    "- Think of it as genetic mutation"
   ]
  },
  {
   "cell_type": "markdown",
   "metadata": {},
   "source": [
    "### Big Picture\n",
    "\n",
    "- Its mostly about wrapping/rewriting\n",
    "    - Decorators: Functions\n",
    "        * Decorators are used to wrap around functions\n",
    "    - Class Decorators: Classes\n",
    "        * Class decorators are used to wrap around classes\n",
    "    - Metaclasses: Class hierarchies\n",
    "        * Metaclasses are used to wrap entier hierarchies of a class that derives from a particular metaclass\n",
    "- You have the power to change things"
   ]
  },
  {
   "cell_type": "markdown",
   "metadata": {},
   "source": [
    "## Journey So far\n",
    "- Pretty well trodden territory in Python 2 world\n",
    "- Only a few Python 3 specific changes (e.g. `__qualname__`)"
   ]
  },
  {
   "cell_type": "markdown",
   "metadata": {},
   "source": [
    "## Let us look at something Python 3 specific"
   ]
  },
  {
   "cell_type": "markdown",
   "metadata": {},
   "source": [
    "### Problem: Structures"
   ]
  },
  {
   "cell_type": "code",
   "execution_count": 59,
   "metadata": {},
   "outputs": [],
   "source": [
    "class Stock:\n",
    "    def __init__(self, name, shares, price):\n",
    "        self.name = name\n",
    "        self.shares = shared\n",
    "        self.price = price\n",
    "    \n",
    "class Point:\n",
    "    def __init__(self, x, y):\n",
    "        self.x = x\n",
    "        self.y = y\n",
    "        \n",
    "class Host:\n",
    "    def __init__(self, address, port):\n",
    "        self.address = address\n",
    "        self.port = port"
   ]
  },
  {
   "cell_type": "code",
   "execution_count": 78,
   "metadata": {},
   "outputs": [
    {
     "name": "stdout",
     "output_type": "stream",
     "text": [
      "self.__class__ <class '__main__.Stock'>\n",
      "self.__class__._fields ['name', 'shares', 'price']\n",
      "*args GOOG 100 490.1\n",
      "zip(self.__class__._fields, args) [('name', 'GOOG'), ('shares', 100), ('price', 490.1)]\n",
      "Name and its value: name GOOG\n",
      "Name and its value: shares 100\n",
      "Name and its value: price 490.1\n"
     ]
    }
   ],
   "source": [
    "# We can generalise this a little bit by using a base class, e.g.\n",
    "class Structure:\n",
    "    _fields = []\n",
    "    def __init__(self, *args):\n",
    "        print('self.__class__', self.__class__)\n",
    "        print('self.__class__._fields', self.__class__._fields)\n",
    "        print('*args', *args)\n",
    "        print('zip(self.__class__._fields, args)', list(zip(self.__class__._fields, args)))\n",
    "        for name, val in zip(self.__class__._fields, args):\n",
    "            print('Name and its value:', name, val)\n",
    "            setattr(self, name, val)\n",
    "\n",
    "class Stock(Structure):\n",
    "    _fields = ['name', 'shares', 'price']\n",
    "    \n",
    "# class Point(Structure):\n",
    "#     _fields = ['x', 'y']\n",
    "\n",
    "# class Host(Structure):\n",
    "#     _fields = ['address', 'port']\n",
    "\n",
    "s = Stock('GOOG', 100, 490.1)\n",
    "# print(s.name, s.shares, s.price)"
   ]
  },
  {
   "cell_type": "code",
   "execution_count": 79,
   "metadata": {},
   "outputs": [
    {
     "name": "stdout",
     "output_type": "stream",
     "text": [
      "Help on class Stock in module __main__:\n",
      "\n",
      "class Stock(Structure)\n",
      " |  Method resolution order:\n",
      " |      Stock\n",
      " |      Structure\n",
      " |      builtins.object\n",
      " |  \n",
      " |  Data and other attributes defined here:\n",
      " |  \n",
      " |  _fields = ['name', 'shares', 'price']\n",
      " |  \n",
      " |  ----------------------------------------------------------------------\n",
      " |  Methods inherited from Structure:\n",
      " |  \n",
      " |  __init__(self, *args)\n",
      " |      Initialize self.  See help(type(self)) for accurate signature.\n",
      " |  \n",
      " |  ----------------------------------------------------------------------\n",
      " |  Data descriptors inherited from Structure:\n",
      " |  \n",
      " |  __dict__\n",
      " |      dictionary for instance variables (if defined)\n",
      " |  \n",
      " |  __weakref__\n",
      " |      list of weak references to the object (if defined)\n",
      "\n"
     ]
    }
   ],
   "source": [
    "# Problem with this approach:\n",
    "# - You lose a lot of debugging information\n",
    "help(Stock)"
   ]
  },
  {
   "cell_type": "code",
   "execution_count": 80,
   "metadata": {},
   "outputs": [
    {
     "name": "stdout",
     "output_type": "stream",
     "text": [
      "self.__class__ <class '__main__.Stock'>\n",
      "self.__class__._fields ['name', 'shares', 'price']\n",
      "*args GOOG 100\n",
      "zip(self.__class__._fields, args) [('name', 'GOOG'), ('shares', 100)]\n",
      "Name and its value: name GOOG\n",
      "Name and its value: shares 100\n",
      "GOOG\n",
      "100\n"
     ]
    },
    {
     "ename": "AttributeError",
     "evalue": "'Stock' object has no attribute 'price'",
     "output_type": "error",
     "traceback": [
      "\u001b[0;31m---------------------------------------------------------------------------\u001b[0m",
      "\u001b[0;31mAttributeError\u001b[0m                            Traceback (most recent call last)",
      "\u001b[0;32m<ipython-input-80-63d284b11ce4>\u001b[0m in \u001b[0;36m<module>\u001b[0;34m\u001b[0m\n\u001b[1;32m      3\u001b[0m \u001b[0mprint\u001b[0m\u001b[0;34m(\u001b[0m\u001b[0ms\u001b[0m\u001b[0;34m.\u001b[0m\u001b[0mname\u001b[0m\u001b[0;34m)\u001b[0m\u001b[0;34m\u001b[0m\u001b[0m\n\u001b[1;32m      4\u001b[0m \u001b[0mprint\u001b[0m\u001b[0;34m(\u001b[0m\u001b[0ms\u001b[0m\u001b[0;34m.\u001b[0m\u001b[0mshares\u001b[0m\u001b[0;34m)\u001b[0m\u001b[0;34m\u001b[0m\u001b[0m\n\u001b[0;32m----> 5\u001b[0;31m \u001b[0mprint\u001b[0m\u001b[0;34m(\u001b[0m\u001b[0ms\u001b[0m\u001b[0;34m.\u001b[0m\u001b[0mprice\u001b[0m\u001b[0;34m)\u001b[0m\u001b[0;34m\u001b[0m\u001b[0m\n\u001b[0m",
      "\u001b[0;31mAttributeError\u001b[0m: 'Stock' object has no attribute 'price'"
     ]
    }
   ],
   "source": [
    "# if you do not call it with right number of arguments it doesn't fail\n",
    "s = Stock('GOOG', 100) # Third positional argument missing\n",
    "print(s.name)\n",
    "print(s.shares)\n",
    "print(s.price)"
   ]
  },
  {
   "cell_type": "code",
   "execution_count": 81,
   "metadata": {},
   "outputs": [
    {
     "ename": "TypeError",
     "evalue": "__init__() got an unexpected keyword argument 'name'",
     "output_type": "error",
     "traceback": [
      "\u001b[0;31m---------------------------------------------------------------------------\u001b[0m",
      "\u001b[0;31mTypeError\u001b[0m                                 Traceback (most recent call last)",
      "\u001b[0;32m<ipython-input-81-f4e7b0b498ad>\u001b[0m in \u001b[0;36m<module>\u001b[0;34m\u001b[0m\n\u001b[1;32m      1\u001b[0m \u001b[0;31m# You don't get keyword arguments\u001b[0m\u001b[0;34m\u001b[0m\u001b[0;34m\u001b[0m\u001b[0m\n\u001b[0;32m----> 2\u001b[0;31m \u001b[0ms\u001b[0m \u001b[0;34m=\u001b[0m \u001b[0mStock\u001b[0m\u001b[0;34m(\u001b[0m\u001b[0mname\u001b[0m\u001b[0;34m=\u001b[0m\u001b[0;34m'Goog'\u001b[0m\u001b[0;34m)\u001b[0m\u001b[0;34m\u001b[0m\u001b[0m\n\u001b[0m",
      "\u001b[0;31mTypeError\u001b[0m: __init__() got an unexpected keyword argument 'name'"
     ]
    }
   ],
   "source": [
    "# You don't get keyword arguments\n",
    "s = Stock(name='Goog')"
   ]
  },
  {
   "cell_type": "code",
   "execution_count": 83,
   "metadata": {},
   "outputs": [
    {
     "name": "stdout",
     "output_type": "stream",
     "text": [
      "(*args)\n"
     ]
    }
   ],
   "source": [
    "# Missing calling signatures\n",
    "import inspect\n",
    "print(inspect.signature(Stock))"
   ]
  },
  {
   "cell_type": "markdown",
   "metadata": {},
   "source": [
    "### Signatures is a new thing in Python 3"
   ]
  },
  {
   "cell_type": "markdown",
   "metadata": {},
   "source": [
    "#### New Approach: Signatures\n",
    "* build a function signature object\n",
    "\n",
    "```\n",
    "from inspect import Parameter, Signature\n",
    "\n",
    "fields = ['name', 'shares', 'price']\n",
    "parms = [\n",
    "    Parameter(name, Parameter.POSITIONAL_OR_KEYWORD) for name in fields\n",
    "]\n",
    "sig = Signature(parms)\n",
    "```\n",
    "\n",
    "* Signatures are more than just metadata"
   ]
  },
  {
   "cell_type": "code",
   "execution_count": 85,
   "metadata": {},
   "outputs": [
    {
     "name": "stdout",
     "output_type": "stream",
     "text": [
      "[<Parameter \"name\">, <Parameter \"shares\">, <Parameter \"price\">]\n",
      "(name, shares, price)\n"
     ]
    }
   ],
   "source": [
    "from inspect import Parameter, Signature\n",
    "\n",
    "fields = ['name', 'shares', 'price']\n",
    "parms = [Parameter(name, Parameter.POSITIONAL_OR_KEYWORD) for name in fields]\n",
    "sig = Signature(parms)\n",
    "print(parms)\n",
    "print(sig)"
   ]
  },
  {
   "cell_type": "markdown",
   "metadata": {},
   "source": [
    "#### Signature Binding\n",
    "- This is what you can do with signatures\n",
    "- Argument binding\n",
    "\n",
    "```\n",
    "def func(*args, **kwargs):\n",
    "    bound_args = sig.bind(*args, **kwargs)\n",
    "    for name, val in bound_args.arguments.items():\n",
    "        print('{} = {}'.format(name, val))\n",
    "```\n",
    "\n",
    "- `sig.bind()` binds positional/keyword args to signature\n",
    "* `.arguments` is an `OrderedDict` of passed values"
   ]
  },
  {
   "cell_type": "code",
   "execution_count": 91,
   "metadata": {},
   "outputs": [
    {
     "name": "stdout",
     "output_type": "stream",
     "text": [
      "(name, shares, price)\n",
      "name: AMZN\n",
      "shares: 100\n",
      "price: 299\n",
      "name: SHARE\n",
      "shares: 1\n",
      "price: 299\n"
     ]
    },
    {
     "ename": "TypeError",
     "evalue": "missing a required argument: 'price'",
     "output_type": "error",
     "traceback": [
      "\u001b[0;31m---------------------------------------------------------------------------\u001b[0m",
      "\u001b[0;31mTypeError\u001b[0m                                 Traceback (most recent call last)",
      "\u001b[0;32m<ipython-input-91-0fa3f366a733>\u001b[0m in \u001b[0;36m<module>\u001b[0;34m\u001b[0m\n\u001b[1;32m     15\u001b[0m \u001b[0;34m\u001b[0m\u001b[0m\n\u001b[1;32m     16\u001b[0m \u001b[0;31m# It will also do argument checking\u001b[0m\u001b[0;34m\u001b[0m\u001b[0;34m\u001b[0m\u001b[0m\n\u001b[0;32m---> 17\u001b[0;31m \u001b[0mfoo\u001b[0m\u001b[0;34m(\u001b[0m\u001b[0;36m1\u001b[0m\u001b[0;34m,\u001b[0m\u001b[0;36m2\u001b[0m\u001b[0;34m)\u001b[0m \u001b[0;31m# TypeError 'price' parameter lacking default value\u001b[0m\u001b[0;34m\u001b[0m\u001b[0m\n\u001b[0m",
      "\u001b[0;32m<ipython-input-91-0fa3f366a733>\u001b[0m in \u001b[0;36mfoo\u001b[0;34m(*args, **kwargs)\u001b[0m\n\u001b[1;32m      4\u001b[0m \u001b[0;31m# Let us bind this to a function's signature\u001b[0m\u001b[0;34m\u001b[0m\u001b[0;34m\u001b[0m\u001b[0m\n\u001b[1;32m      5\u001b[0m \u001b[0;32mdef\u001b[0m \u001b[0mfoo\u001b[0m\u001b[0;34m(\u001b[0m\u001b[0;34m*\u001b[0m\u001b[0margs\u001b[0m\u001b[0;34m,\u001b[0m \u001b[0;34m**\u001b[0m\u001b[0mkwargs\u001b[0m\u001b[0;34m)\u001b[0m\u001b[0;34m:\u001b[0m\u001b[0;34m\u001b[0m\u001b[0m\n\u001b[0;32m----> 6\u001b[0;31m     \u001b[0mbound\u001b[0m \u001b[0;34m=\u001b[0m \u001b[0msig\u001b[0m\u001b[0;34m.\u001b[0m\u001b[0mbind\u001b[0m\u001b[0;34m(\u001b[0m\u001b[0;34m*\u001b[0m\u001b[0margs\u001b[0m\u001b[0;34m,\u001b[0m \u001b[0;34m**\u001b[0m\u001b[0mkwargs\u001b[0m\u001b[0;34m)\u001b[0m\u001b[0;34m\u001b[0m\u001b[0m\n\u001b[0m\u001b[1;32m      7\u001b[0m     \u001b[0;32mfor\u001b[0m \u001b[0mname\u001b[0m\u001b[0;34m,\u001b[0m \u001b[0mval\u001b[0m \u001b[0;32min\u001b[0m \u001b[0mbound\u001b[0m\u001b[0;34m.\u001b[0m\u001b[0marguments\u001b[0m\u001b[0;34m.\u001b[0m\u001b[0mitems\u001b[0m\u001b[0;34m(\u001b[0m\u001b[0;34m)\u001b[0m\u001b[0;34m:\u001b[0m\u001b[0;34m\u001b[0m\u001b[0m\n\u001b[1;32m      8\u001b[0m         \u001b[0mprint\u001b[0m\u001b[0;34m(\u001b[0m\u001b[0;34m'{}: {}'\u001b[0m\u001b[0;34m.\u001b[0m\u001b[0mformat\u001b[0m\u001b[0;34m(\u001b[0m\u001b[0mname\u001b[0m\u001b[0;34m,\u001b[0m \u001b[0mval\u001b[0m\u001b[0;34m)\u001b[0m\u001b[0;34m)\u001b[0m\u001b[0;34m\u001b[0m\u001b[0m\n",
      "\u001b[0;32m~/.pyenv/versions/3.5.7/lib/python3.5/inspect.py\u001b[0m in \u001b[0;36mbind\u001b[0;34m(*args, **kwargs)\u001b[0m\n\u001b[1;32m   2928\u001b[0m         \u001b[0;32mif\u001b[0m \u001b[0mthe\u001b[0m \u001b[0mpassed\u001b[0m \u001b[0marguments\u001b[0m \u001b[0mcan\u001b[0m \u001b[0;32mnot\u001b[0m \u001b[0mbe\u001b[0m \u001b[0mbound\u001b[0m\u001b[0;34m.\u001b[0m\u001b[0;34m\u001b[0m\u001b[0m\n\u001b[1;32m   2929\u001b[0m         \"\"\"\n\u001b[0;32m-> 2930\u001b[0;31m         \u001b[0;32mreturn\u001b[0m \u001b[0margs\u001b[0m\u001b[0;34m[\u001b[0m\u001b[0;36m0\u001b[0m\u001b[0;34m]\u001b[0m\u001b[0;34m.\u001b[0m\u001b[0m_bind\u001b[0m\u001b[0;34m(\u001b[0m\u001b[0margs\u001b[0m\u001b[0;34m[\u001b[0m\u001b[0;36m1\u001b[0m\u001b[0;34m:\u001b[0m\u001b[0;34m]\u001b[0m\u001b[0;34m,\u001b[0m \u001b[0mkwargs\u001b[0m\u001b[0;34m)\u001b[0m\u001b[0;34m\u001b[0m\u001b[0m\n\u001b[0m\u001b[1;32m   2931\u001b[0m \u001b[0;34m\u001b[0m\u001b[0m\n\u001b[1;32m   2932\u001b[0m     \u001b[0;32mdef\u001b[0m \u001b[0mbind_partial\u001b[0m\u001b[0;34m(\u001b[0m\u001b[0;34m*\u001b[0m\u001b[0margs\u001b[0m\u001b[0;34m,\u001b[0m \u001b[0;34m**\u001b[0m\u001b[0mkwargs\u001b[0m\u001b[0;34m)\u001b[0m\u001b[0;34m:\u001b[0m\u001b[0;34m\u001b[0m\u001b[0m\n",
      "\u001b[0;32m~/.pyenv/versions/3.5.7/lib/python3.5/inspect.py\u001b[0m in \u001b[0;36m_bind\u001b[0;34m(self, args, kwargs, partial)\u001b[0m\n\u001b[1;32m   2843\u001b[0m                             \u001b[0mmsg\u001b[0m \u001b[0;34m=\u001b[0m \u001b[0;34m'missing a required argument: {arg!r}'\u001b[0m\u001b[0;34m\u001b[0m\u001b[0m\n\u001b[1;32m   2844\u001b[0m                             \u001b[0mmsg\u001b[0m \u001b[0;34m=\u001b[0m \u001b[0mmsg\u001b[0m\u001b[0;34m.\u001b[0m\u001b[0mformat\u001b[0m\u001b[0;34m(\u001b[0m\u001b[0marg\u001b[0m\u001b[0;34m=\u001b[0m\u001b[0mparam\u001b[0m\u001b[0;34m.\u001b[0m\u001b[0mname\u001b[0m\u001b[0;34m)\u001b[0m\u001b[0;34m\u001b[0m\u001b[0m\n\u001b[0;32m-> 2845\u001b[0;31m                             \u001b[0;32mraise\u001b[0m \u001b[0mTypeError\u001b[0m\u001b[0;34m(\u001b[0m\u001b[0mmsg\u001b[0m\u001b[0;34m)\u001b[0m \u001b[0;32mfrom\u001b[0m \u001b[0;32mNone\u001b[0m\u001b[0;34m\u001b[0m\u001b[0m\n\u001b[0m\u001b[1;32m   2846\u001b[0m             \u001b[0;32melse\u001b[0m\u001b[0;34m:\u001b[0m\u001b[0;34m\u001b[0m\u001b[0m\n\u001b[1;32m   2847\u001b[0m                 \u001b[0;31m# We have a positional argument to process\u001b[0m\u001b[0;34m\u001b[0m\u001b[0;34m\u001b[0m\u001b[0m\n",
      "\u001b[0;31mTypeError\u001b[0m: missing a required argument: 'price'"
     ]
    }
   ],
   "source": [
    "# So I have a sig object from previous code snipppet\n",
    "print(sig)    # (name, shares, price)\n",
    "\n",
    "# Let us bind this to a function's signature\n",
    "def foo(*args, **kwargs):\n",
    "    bound = sig.bind(*args, **kwargs)\n",
    "    for name, val in bound.arguments.items():\n",
    "        print('{}: {}'.format(name, val))\n",
    "\n",
    "foo('AMZN', 100, 299)\n",
    "\n",
    "# This also supports keyword arguments because while creating the\n",
    "# signature we mentioned `Parameter.POSITIONAL_OR_KEYWORD`\n",
    "foo(name='SHARE', price=299, shares=1)\n",
    "\n",
    "# It will also do argument checking\n",
    "foo(1,2) # TypeError: missing a required argument: 'price'"
   ]
  },
  {
   "cell_type": "code",
   "execution_count": 101,
   "metadata": {
    "scrolled": false
   },
   "outputs": [
    {
     "name": "stdout",
     "output_type": "stream",
     "text": [
      "Goog 100\n",
      "Goog 300 1\n",
      "Help on class Stock in module __main__:\n",
      "\n",
      "class Stock(Structure)\n",
      " |  Method resolution order:\n",
      " |      Stock\n",
      " |      Structure\n",
      " |      builtins.object\n",
      " |  \n",
      " |  Data and other attributes defined here:\n",
      " |  \n",
      " |  __signature__ = <Signature (name, shares, price)>\n",
      " |  \n",
      " |  ----------------------------------------------------------------------\n",
      " |  Methods inherited from Structure:\n",
      " |  \n",
      " |  __init__(self, *args, **kwargs)\n",
      " |      Initialize self.  See help(type(self)) for accurate signature.\n",
      " |  \n",
      " |  ----------------------------------------------------------------------\n",
      " |  Data descriptors inherited from Structure:\n",
      " |  \n",
      " |  __dict__\n",
      " |      dictionary for instance variables (if defined)\n",
      " |  \n",
      " |  __weakref__\n",
      " |      list of weak references to the object (if defined)\n",
      "\n"
     ]
    },
    {
     "data": {
      "text/plain": [
       "<Signature (name, shares, price)>"
      ]
     },
     "execution_count": 101,
     "metadata": {},
     "output_type": "execute_result"
    }
   ],
   "source": [
    "# So let us use Signature with our original Structure code\n",
    "from inspect import Parameter, Signature\n",
    "\n",
    "def make_signature(names):\n",
    "    return Signature(\n",
    "        Parameter(name,\n",
    "                 Parameter.POSITIONAL_OR_KEYWORD)\n",
    "        for name in names\n",
    "    )\n",
    "\n",
    "class Structure:\n",
    "    __signature__ = make_signature([])\n",
    "    \n",
    "    def __init__(self, *args, **kwargs):\n",
    "        bound = self.__signature__.bind(*args, **kwargs)\n",
    "        \n",
    "        for name, val in bound.arguments.items():\n",
    "            setattr(self, name, val)\n",
    "            \n",
    "# So now, all the classes are gonna be a little bit different\n",
    "class Stock(Structure):\n",
    "    __signature__ = make_signature(['name', 'shares', 'price'])\n",
    "    \n",
    "class Point(Structure):\n",
    "    __signature__ = make_signature(['x', 'y'])\n",
    "\n",
    "class Address(Structure):\n",
    "    __signature__ = make_signature(['hostname', 'port'])\n",
    "\n",
    "# now the classes will behave so much nicer!\n",
    "# for example - now classes will support combination of keyword and positional arguments\n",
    "s = Stock('Goog', 100, 490.1)\n",
    "print(s.name, s.shares)\n",
    "\n",
    "# Let us try mix of keyword and positional arguments\n",
    "new_s = Stock(name='Goog', price=300, shares=1)\n",
    "print(new_s.name, new_s.price, new_s.shares)\n",
    "\n",
    "help(Stock) # Shows proper signature as <Signature (name, shares, price)>\n",
    "\n",
    "import inspect\n",
    "inspect.signature(Stock) # shows the signature object - <Signature (name, shares, price)>"
   ]
  },
  {
   "cell_type": "markdown",
   "metadata": {},
   "source": [
    "### New Problem\n",
    "* This is rather annoying\n",
    "\n",
    "```\n",
    "class Stock(Structure):\n",
    "    __signature__ = make_signature(['name', 'shares', 'price'])\n",
    "    \n",
    "class Point(Structure):\n",
    "    __signature__ = make_signature(['x', 'y'])\n",
    "\n",
    "class Address(Structure):\n",
    "    __signature__ = make_signature(['hostname', 'port'])\n",
    "```\n",
    "\n",
    "* Can't it be simplified in some way?"
   ]
  },
  {
   "cell_type": "markdown",
   "metadata": {},
   "source": [
    "### Solutions\n",
    "* Ah, a problem involving class definitions\n",
    "    - Class decorators\n",
    "    - Metaclasses\n",
    "* Which seems more appropriate?\n",
    "* Let's explore both options"
   ]
  },
  {
   "cell_type": "markdown",
   "metadata": {},
   "source": [
    "#### Class Decorator solution"
   ]
  },
  {
   "cell_type": "code",
   "execution_count": 106,
   "metadata": {},
   "outputs": [],
   "source": [
    "def add_signature(*names):\n",
    "    def decorate(cls):\n",
    "        cls.__signature__ = make_signature(names)\n",
    "        return cls\n",
    "    return decorate"
   ]
  },
  {
   "cell_type": "markdown",
   "metadata": {},
   "source": [
    "##### Usage"
   ]
  },
  {
   "cell_type": "code",
   "execution_count": 107,
   "metadata": {},
   "outputs": [],
   "source": [
    "@add_signature('name', 'shares', 'price')\n",
    "class Stock(Structure):\n",
    "    pass"
   ]
  },
  {
   "cell_type": "markdown",
   "metadata": {},
   "source": [
    "#### Metaclass solution"
   ]
  },
  {
   "cell_type": "code",
   "execution_count": 7,
   "metadata": {},
   "outputs": [
    {
     "data": {
      "text/plain": [
       "'GOOG'"
      ]
     },
     "execution_count": 7,
     "metadata": {},
     "output_type": "execute_result"
    }
   ],
   "source": [
    "from inspect import Parameter, Signature\n",
    "\n",
    "def make_signature(names):\n",
    "    return Signature(\n",
    "        Parameter(name,\n",
    "                 Parameter.POSITIONAL_OR_KEYWORD)\n",
    "        for name in names\n",
    "    )\n",
    "\n",
    "class StructMeta(type):\n",
    "    def __new__(cls, name, bases, clsdict):\n",
    "        # We are making the class\n",
    "        clsobj = super().__new__(cls, name, bases, clsdict)\n",
    "        \n",
    "        # We are making the signature for the class\n",
    "        sig = make_signature(clsobj._fields)\n",
    "        \n",
    "        # Setting the signature on the class\n",
    "        setattr(clsobj, '__signature__', sig)\n",
    "        \n",
    "        return clsobj\n",
    "\n",
    "# Usage\n",
    "class Structure(metaclass=StructMeta):\n",
    "    _fields = []\n",
    "    def __init__(self, *args, **kwargs):\n",
    "        bound = self.__signature__.bind(*args, **kwargs)\n",
    "        for name, val in bound.arguments.items():\n",
    "            setattr(self, name, val)\n",
    "\n",
    "# Now we can go back to simplified version\n",
    "class Stock(Structure):\n",
    "    _fields = ['name', 'shares', 'price']\n",
    "    \n",
    "class Point(Structure):\n",
    "    _fields = ['x', 'y']\n",
    "\n",
    "class Host(Structure):\n",
    "    _fields = ['address', 'port']\n",
    "    \n",
    "# The good things about this is that the user does not have to worry.\n",
    "# Once the metaclass is injected in the base class, it is all taken care of\n",
    "\n",
    "x = Stock('GOOG', price=100, shares=10)\n",
    "x.shares\n",
    "x.name"
   ]
  },
  {
   "cell_type": "markdown",
   "metadata": {},
   "source": [
    "## Descriptors- Owning the Dot Notation (Raymond Hettinger)"
   ]
  },
  {
   "cell_type": "code",
   "execution_count": 10,
   "metadata": {},
   "outputs": [],
   "source": [
    "# Descriptor Protocol\n",
    "# * Properties are implemented via descriptors\n",
    "\n",
    "class Descriptor:\n",
    "    def __get__(self, instance, cls):\n",
    "        ...\n",
    "    def __set__(self, instance, value):\n",
    "        ...\n",
    "    def __delete__(self, instance):\n",
    "        ...\n",
    "\n",
    "# * Customized processing of attribute access"
   ]
  },
  {
   "cell_type": "code",
   "execution_count": 15,
   "metadata": {},
   "outputs": [
    {
     "name": "stdout",
     "output_type": "stream",
     "text": [
      "Set name acme\n",
      "Set shares 50\n",
      "Set price 91.1\n",
      "instance.__dict__ {'name': 'acme', 'shares': 50, 'price': 91.1}\n",
      "vars(instance) {'name': 'acme', 'shares': 50, 'price': 91.1}\n",
      "Get shares\n",
      "50\n",
      "Set shares 51\n",
      "Delete shares\n"
     ]
    }
   ],
   "source": [
    "# Let us define a proper descriptor\n",
    "class Descriptor:\n",
    "    def __init__(self, name=None):\n",
    "        self.name = name\n",
    "        \n",
    "    def __get__(self, instance, cls):\n",
    "        # instance: is the instance being manipulated\n",
    "        # e.g. Stock instance\n",
    "        print('instance.__dict__', instance.__dict__)\n",
    "        print('vars(instance)', vars(instance))\n",
    "        print(\"Get\", self.name)\n",
    "        return instance.__dict__[self.name]\n",
    "    \n",
    "    def __set__(self, instance, value):\n",
    "        print(\"Set\", self.name, value)\n",
    "        instance.__dict__[self.name] = value\n",
    "    \n",
    "    def __delete__(self, instance):\n",
    "        print(\"Delete\", self.name)\n",
    "        del instance.__dict__[self.name]\n",
    "\n",
    "# Now, let us use the above defined Descriptor in Stock class\n",
    "class Stock(Structure):\n",
    "    _fields = ['name', 'shares', 'price']\n",
    "    name = Descriptor('name')\n",
    "    shares = Descriptor('shares')\n",
    "    price = Descriptor('price')\n",
    "\n",
    "a = Stock('acme', 50, 91.1)\n",
    "print(a.shares)\n",
    "a.shares = 51\n",
    "del a.shares"
   ]
  },
  {
   "cell_type": "code",
   "execution_count": 22,
   "metadata": {
    "scrolled": true
   },
   "outputs": [
    {
     "name": "stdout",
     "output_type": "stream",
     "text": [
      "<class 'type'>\n",
      "Set name GOOG\n",
      "Set shares 50\n",
      "Set price 10.0\n"
     ]
    },
    {
     "ename": "TypeError",
     "evalue": "Expected <class 'int'>",
     "output_type": "error",
     "traceback": [
      "\u001b[0;31m---------------------------------------------------------------------------\u001b[0m",
      "\u001b[0;31mTypeError\u001b[0m                                 Traceback (most recent call last)",
      "\u001b[0;32m<ipython-input-22-dde1633e36dd>\u001b[0m in \u001b[0;36m<module>\u001b[0;34m\u001b[0m\n\u001b[1;32m     24\u001b[0m \u001b[0;34m\u001b[0m\u001b[0m\n\u001b[1;32m     25\u001b[0m \u001b[0ms\u001b[0m \u001b[0;34m=\u001b[0m \u001b[0mStock\u001b[0m\u001b[0;34m(\u001b[0m\u001b[0;34m'GOOG'\u001b[0m\u001b[0;34m,\u001b[0m \u001b[0;36m50\u001b[0m\u001b[0;34m,\u001b[0m \u001b[0;36m10.0\u001b[0m\u001b[0;34m)\u001b[0m\u001b[0;34m\u001b[0m\u001b[0;34m\u001b[0m\u001b[0m\n\u001b[0;32m---> 26\u001b[0;31m \u001b[0ms\u001b[0m\u001b[0;34m.\u001b[0m\u001b[0mshares\u001b[0m \u001b[0;34m=\u001b[0m \u001b[0;34m'Abc'\u001b[0m \u001b[0;31m# Raises TypeError!\u001b[0m\u001b[0;34m\u001b[0m\u001b[0;34m\u001b[0m\u001b[0m\n\u001b[0m",
      "\u001b[0;32m<ipython-input-22-dde1633e36dd>\u001b[0m in \u001b[0;36m__set__\u001b[0;34m(self, instance, value)\u001b[0m\n\u001b[1;32m      4\u001b[0m     \u001b[0;32mdef\u001b[0m \u001b[0m__set__\u001b[0m\u001b[0;34m(\u001b[0m\u001b[0mself\u001b[0m\u001b[0;34m,\u001b[0m \u001b[0minstance\u001b[0m\u001b[0;34m,\u001b[0m \u001b[0mvalue\u001b[0m\u001b[0;34m)\u001b[0m\u001b[0;34m:\u001b[0m\u001b[0;34m\u001b[0m\u001b[0;34m\u001b[0m\u001b[0m\n\u001b[1;32m      5\u001b[0m         \u001b[0;32mif\u001b[0m \u001b[0;32mnot\u001b[0m \u001b[0misinstance\u001b[0m\u001b[0;34m(\u001b[0m\u001b[0mvalue\u001b[0m\u001b[0;34m,\u001b[0m \u001b[0mself\u001b[0m\u001b[0;34m.\u001b[0m\u001b[0mty\u001b[0m\u001b[0;34m)\u001b[0m\u001b[0;34m:\u001b[0m\u001b[0;34m\u001b[0m\u001b[0;34m\u001b[0m\u001b[0m\n\u001b[0;32m----> 6\u001b[0;31m             \u001b[0;32mraise\u001b[0m \u001b[0mTypeError\u001b[0m\u001b[0;34m(\u001b[0m\u001b[0;34m'Expected {}'\u001b[0m\u001b[0;34m.\u001b[0m\u001b[0mformat\u001b[0m\u001b[0;34m(\u001b[0m\u001b[0mself\u001b[0m\u001b[0;34m.\u001b[0m\u001b[0mty\u001b[0m\u001b[0;34m)\u001b[0m\u001b[0;34m)\u001b[0m\u001b[0;34m\u001b[0m\u001b[0;34m\u001b[0m\u001b[0m\n\u001b[0m\u001b[1;32m      7\u001b[0m         \u001b[0msuper\u001b[0m\u001b[0;34m(\u001b[0m\u001b[0;34m)\u001b[0m\u001b[0;34m.\u001b[0m\u001b[0m__set__\u001b[0m\u001b[0;34m(\u001b[0m\u001b[0minstance\u001b[0m\u001b[0;34m,\u001b[0m \u001b[0mvalue\u001b[0m\u001b[0;34m)\u001b[0m\u001b[0;34m\u001b[0m\u001b[0;34m\u001b[0m\u001b[0m\n\u001b[1;32m      8\u001b[0m \u001b[0;34m\u001b[0m\u001b[0m\n",
      "\u001b[0;31mTypeError\u001b[0m: Expected <class 'int'>"
     ]
    }
   ],
   "source": [
    "# Using descriptors to build Type Checking\n",
    "class Typed(Descriptor):\n",
    "    ty = object     # Expected type\n",
    "    def __set__(self, instance, value):\n",
    "        if not isinstance(value, self.ty):\n",
    "            raise TypeError('Expected {}'.format(self.ty))\n",
    "        super().__set__(instance, value)\n",
    "\n",
    "# Specialization\n",
    "class Integer(Typed):\n",
    "    ty = int\n",
    "class Float(Typed):\n",
    "    ty = float\n",
    "class String(Typed):\n",
    "    ty = str\n",
    "\n",
    "# Now let us use this in Stock class (think: is this how Django creates all the CharField, BooleanField, etc fields?)\n",
    "class Stock(Structure):\n",
    "    _fields = ['name', 'shares', 'price']\n",
    "    name = String('name')\n",
    "    shares = Integer('shares')\n",
    "    price = Float('price')\n",
    "\n",
    "s = Stock('GOOG', 50, 10.0)\n",
    "s.shares = 'Abc' # Raises TypeError!"
   ]
  },
  {
   "cell_type": "code",
   "execution_count": 24,
   "metadata": {},
   "outputs": [
    {
     "name": "stdout",
     "output_type": "stream",
     "text": [
      "Set name NegativeShares\n"
     ]
    },
    {
     "ename": "ValueError",
     "evalue": "Expected value > 0",
     "output_type": "error",
     "traceback": [
      "\u001b[0;31m---------------------------------------------------------------------------\u001b[0m",
      "\u001b[0;31mValueError\u001b[0m                                Traceback (most recent call last)",
      "\u001b[0;32m<ipython-input-24-bd5350a36bab>\u001b[0m in \u001b[0;36m<module>\u001b[0;34m\u001b[0m\n\u001b[1;32m     22\u001b[0m     \u001b[0mprice\u001b[0m \u001b[0;34m=\u001b[0m \u001b[0mFloat\u001b[0m\u001b[0;34m(\u001b[0m\u001b[0;34m'price'\u001b[0m\u001b[0;34m)\u001b[0m\u001b[0;34m\u001b[0m\u001b[0;34m\u001b[0m\u001b[0m\n\u001b[1;32m     23\u001b[0m \u001b[0;34m\u001b[0m\u001b[0m\n\u001b[0;32m---> 24\u001b[0;31m \u001b[0ma\u001b[0m \u001b[0;34m=\u001b[0m \u001b[0mStock\u001b[0m\u001b[0;34m(\u001b[0m\u001b[0;34m'NegativeShares'\u001b[0m\u001b[0;34m,\u001b[0m \u001b[0mshares\u001b[0m\u001b[0;34m=\u001b[0m\u001b[0;34m-\u001b[0m\u001b[0;36m10\u001b[0m\u001b[0;34m,\u001b[0m \u001b[0mprice\u001b[0m\u001b[0;34m=\u001b[0m\u001b[0;36m1.0\u001b[0m\u001b[0;34m)\u001b[0m\u001b[0;34m\u001b[0m\u001b[0;34m\u001b[0m\u001b[0m\n\u001b[0m",
      "\u001b[0;32m<ipython-input-8-28fbadcae03b>\u001b[0m in \u001b[0;36m__init__\u001b[0;34m(self, *args, **kwargs)\u001b[0m\n\u001b[1;32m     27\u001b[0m         \u001b[0mbound\u001b[0m \u001b[0;34m=\u001b[0m \u001b[0mself\u001b[0m\u001b[0;34m.\u001b[0m\u001b[0m__signature__\u001b[0m\u001b[0;34m.\u001b[0m\u001b[0mbind\u001b[0m\u001b[0;34m(\u001b[0m\u001b[0;34m*\u001b[0m\u001b[0margs\u001b[0m\u001b[0;34m,\u001b[0m \u001b[0;34m**\u001b[0m\u001b[0mkwargs\u001b[0m\u001b[0;34m)\u001b[0m\u001b[0;34m\u001b[0m\u001b[0;34m\u001b[0m\u001b[0m\n\u001b[1;32m     28\u001b[0m         \u001b[0;32mfor\u001b[0m \u001b[0mname\u001b[0m\u001b[0;34m,\u001b[0m \u001b[0mval\u001b[0m \u001b[0;32min\u001b[0m \u001b[0mbound\u001b[0m\u001b[0;34m.\u001b[0m\u001b[0marguments\u001b[0m\u001b[0;34m.\u001b[0m\u001b[0mitems\u001b[0m\u001b[0;34m(\u001b[0m\u001b[0;34m)\u001b[0m\u001b[0;34m:\u001b[0m\u001b[0;34m\u001b[0m\u001b[0;34m\u001b[0m\u001b[0m\n\u001b[0;32m---> 29\u001b[0;31m             \u001b[0msetattr\u001b[0m\u001b[0;34m(\u001b[0m\u001b[0mself\u001b[0m\u001b[0;34m,\u001b[0m \u001b[0mname\u001b[0m\u001b[0;34m,\u001b[0m \u001b[0mval\u001b[0m\u001b[0;34m)\u001b[0m\u001b[0;34m\u001b[0m\u001b[0;34m\u001b[0m\u001b[0m\n\u001b[0m\u001b[1;32m     30\u001b[0m \u001b[0;34m\u001b[0m\u001b[0m\n\u001b[1;32m     31\u001b[0m \u001b[0;31m# Now we can go back to simplified version\u001b[0m\u001b[0;34m\u001b[0m\u001b[0;34m\u001b[0m\u001b[0;34m\u001b[0m\u001b[0m\n",
      "\u001b[0;32m<ipython-input-22-dde1633e36dd>\u001b[0m in \u001b[0;36m__set__\u001b[0;34m(self, instance, value)\u001b[0m\n\u001b[1;32m      5\u001b[0m         \u001b[0;32mif\u001b[0m \u001b[0;32mnot\u001b[0m \u001b[0misinstance\u001b[0m\u001b[0;34m(\u001b[0m\u001b[0mvalue\u001b[0m\u001b[0;34m,\u001b[0m \u001b[0mself\u001b[0m\u001b[0;34m.\u001b[0m\u001b[0mty\u001b[0m\u001b[0;34m)\u001b[0m\u001b[0;34m:\u001b[0m\u001b[0;34m\u001b[0m\u001b[0;34m\u001b[0m\u001b[0m\n\u001b[1;32m      6\u001b[0m             \u001b[0;32mraise\u001b[0m \u001b[0mTypeError\u001b[0m\u001b[0;34m(\u001b[0m\u001b[0;34m'Expected {}'\u001b[0m\u001b[0;34m.\u001b[0m\u001b[0mformat\u001b[0m\u001b[0;34m(\u001b[0m\u001b[0mself\u001b[0m\u001b[0;34m.\u001b[0m\u001b[0mty\u001b[0m\u001b[0;34m)\u001b[0m\u001b[0;34m)\u001b[0m\u001b[0;34m\u001b[0m\u001b[0;34m\u001b[0m\u001b[0m\n\u001b[0;32m----> 7\u001b[0;31m         \u001b[0msuper\u001b[0m\u001b[0;34m(\u001b[0m\u001b[0;34m)\u001b[0m\u001b[0;34m.\u001b[0m\u001b[0m__set__\u001b[0m\u001b[0;34m(\u001b[0m\u001b[0minstance\u001b[0m\u001b[0;34m,\u001b[0m \u001b[0mvalue\u001b[0m\u001b[0;34m)\u001b[0m\u001b[0;34m\u001b[0m\u001b[0;34m\u001b[0m\u001b[0m\n\u001b[0m\u001b[1;32m      8\u001b[0m \u001b[0;34m\u001b[0m\u001b[0m\n\u001b[1;32m      9\u001b[0m \u001b[0;31m# Specialization\u001b[0m\u001b[0;34m\u001b[0m\u001b[0;34m\u001b[0m\u001b[0;34m\u001b[0m\u001b[0m\n",
      "\u001b[0;32m<ipython-input-24-bd5350a36bab>\u001b[0m in \u001b[0;36m__set__\u001b[0;34m(self, instance, value)\u001b[0m\n\u001b[1;32m      3\u001b[0m     \u001b[0;32mdef\u001b[0m \u001b[0m__set__\u001b[0m\u001b[0;34m(\u001b[0m\u001b[0mself\u001b[0m\u001b[0;34m,\u001b[0m \u001b[0minstance\u001b[0m\u001b[0;34m,\u001b[0m \u001b[0mvalue\u001b[0m\u001b[0;34m)\u001b[0m\u001b[0;34m:\u001b[0m\u001b[0;34m\u001b[0m\u001b[0;34m\u001b[0m\u001b[0m\n\u001b[1;32m      4\u001b[0m         \u001b[0;32mif\u001b[0m \u001b[0mvalue\u001b[0m \u001b[0;34m<\u001b[0m \u001b[0;36m0\u001b[0m\u001b[0;34m:\u001b[0m\u001b[0;34m\u001b[0m\u001b[0;34m\u001b[0m\u001b[0m\n\u001b[0;32m----> 5\u001b[0;31m             \u001b[0;32mraise\u001b[0m \u001b[0mValueError\u001b[0m\u001b[0;34m(\u001b[0m\u001b[0;34m'Expected value > 0'\u001b[0m\u001b[0;34m)\u001b[0m\u001b[0;34m\u001b[0m\u001b[0;34m\u001b[0m\u001b[0m\n\u001b[0m\u001b[1;32m      6\u001b[0m         \u001b[0msuper\u001b[0m\u001b[0;34m(\u001b[0m\u001b[0;34m)\u001b[0m\u001b[0;34m.\u001b[0m\u001b[0m__set__\u001b[0m\u001b[0;34m(\u001b[0m\u001b[0minstance\u001b[0m\u001b[0;34m,\u001b[0m \u001b[0mvalue\u001b[0m\u001b[0;34m)\u001b[0m\u001b[0;34m\u001b[0m\u001b[0;34m\u001b[0m\u001b[0m\n\u001b[1;32m      7\u001b[0m \u001b[0;34m\u001b[0m\u001b[0m\n",
      "\u001b[0;31mValueError\u001b[0m: Expected value > 0"
     ]
    }
   ],
   "source": [
    "# Let us do Value/Domain checking\n",
    "class Positive(Descriptor):\n",
    "    def __set__(self, instance, value):\n",
    "        if value < 0:\n",
    "            raise ValueError('Expected value > 0')\n",
    "        super().__set__(instance, value)\n",
    "\n",
    "class PositiveInteger(Integer, Positive):\n",
    "    # Here we combined type checking and value checking\n",
    "    # Type - the class instance is an integer\n",
    "    # Value - the class instance is a positive integer and not just any integer \n",
    "    pass\n",
    "\n",
    "class PositiveFloat(Float, Positive):\n",
    "    pass\n",
    "\n",
    "# Let us use PositiveInteger\n",
    "class Stock(Structure):\n",
    "    _fields = ['name', 'shares', 'price']\n",
    "    name = String('name')\n",
    "    shares = PositiveInteger('shares')\n",
    "    price = Float('price')\n",
    "\n",
    "a = Stock('NegativeShares', shares=-10, price=1.0)"
   ]
  },
  {
   "cell_type": "markdown",
   "metadata": {},
   "source": [
    "### Keyword-only Args"
   ]
  },
  {
   "cell_type": "code",
   "execution_count": 31,
   "metadata": {},
   "outputs": [
    {
     "name": "stdout",
     "output_type": "stream",
     "text": [
      "keyword_only_arg: value for keyword only arg\n"
     ]
    },
    {
     "ename": "TypeError",
     "evalue": "test_keyword_only_args() takes 0 positional arguments but 1 was given",
     "output_type": "error",
     "traceback": [
      "\u001b[0;31m---------------------------------------------------------------------------\u001b[0m",
      "\u001b[0;31mTypeError\u001b[0m                                 Traceback (most recent call last)",
      "\u001b[0;32m<ipython-input-31-5b7fd25b6e7b>\u001b[0m in \u001b[0;36m<module>\u001b[0;34m\u001b[0m\n\u001b[1;32m     12\u001b[0m \u001b[0;34m\u001b[0m\u001b[0m\n\u001b[1;32m     13\u001b[0m \u001b[0;31m# Value for \"keyword_only_arg\" is passed as a positional argument, raises TypeError\u001b[0m\u001b[0;34m\u001b[0m\u001b[0;34m\u001b[0m\u001b[0;34m\u001b[0m\u001b[0m\n\u001b[0;32m---> 14\u001b[0;31m \u001b[0mtest_keyword_only_args\u001b[0m\u001b[0;34m(\u001b[0m\u001b[0;34m'value for keyword only arg'\u001b[0m\u001b[0;34m)\u001b[0m\u001b[0;34m\u001b[0m\u001b[0;34m\u001b[0m\u001b[0m\n\u001b[0m",
      "\u001b[0;31mTypeError\u001b[0m: test_keyword_only_args() takes 0 positional arguments but 1 was given"
     ]
    }
   ],
   "source": [
    "# Test how keyword-only args behave\n",
    "def test_keyword_only_args(*, keyword_only_arg):\n",
    "    \"\"\"\n",
    "    Here the argument \"keyword_only_arg\" is expected to behave as the name\n",
    "    says since this argument is after the argument that starts with asterisk (*)\n",
    "    \"\"\"\n",
    "    \n",
    "    print('keyword_only_arg:', keyword_only_arg)\n",
    "\n",
    "# Value for \"keyword_only_arg\" is passed as keyword argument\n",
    "test_keyword_only_args(keyword_only_arg='value for keyword only arg')\n",
    "\n",
    "# Value for \"keyword_only_arg\" is passed as a positional argument, raises TypeError\n",
    "test_keyword_only_args('value for keyword only arg')"
   ]
  },
  {
   "cell_type": "markdown",
   "metadata": {},
   "source": [
    "#### Annoyance"
   ]
  },
  {
   "cell_type": "markdown",
   "metadata": {},
   "source": [
    "```\n",
    "class Stock(Structure):\n",
    "    _fields = ['name', 'shares', 'price']\n",
    "    name = SizedRegexString('name', maxlen=8, pat='[A-Z]+$')\n",
    "    shares = PosInteger('shares')\n",
    "    price = PosFloat('price')\n",
    "```\n",
    "\n",
    "- Still quite a bit of repetition\n",
    "- Signatures and type checking not unified\n",
    "- Maybe we can push it further\n"
   ]
  },
  {
   "cell_type": "markdown",
   "metadata": {},
   "source": [
    "##### Metaclass as a solution to the problem"
   ]
  },
  {
   "cell_type": "markdown",
   "metadata": {},
   "source": [
    "- `__prepare__` is a new thing in Python\n",
    "- `__prepare__` returns the dictionary that is supposed to be used during class creation.\n",
    "- So using `__prepare__` you can completed get rid of the `_fields` attribute from the `Stock` class definition\n",
    "\n",
    "- Now if you return an `OrderedDict()` in the `__prepare__` method, it will also remember the order of the declaration of field"
   ]
  },
  {
   "cell_type": "code",
   "execution_count": null,
   "metadata": {},
   "outputs": [],
   "source": []
  }
 ],
 "metadata": {
  "kernelspec": {
   "display_name": "Python 3",
   "language": "python",
   "name": "python3"
  },
  "language_info": {
   "codemirror_mode": {
    "name": "ipython",
    "version": 3
   },
   "file_extension": ".py",
   "mimetype": "text/x-python",
   "name": "python",
   "nbconvert_exporter": "python",
   "pygments_lexer": "ipython3",
   "version": "3.8.0"
  }
 },
 "nbformat": 4,
 "nbformat_minor": 2
}
